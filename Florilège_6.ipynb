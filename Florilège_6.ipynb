{
  "cells": [
    {
      "cell_type": "markdown",
      "metadata": {
        "id": "Se4VeLN1Ew7k"
      },
      "source": [
        "#SQL"
      ]
    },
    {
      "cell_type": "markdown",
      "metadata": {
        "id": "mBCY7wOPtlwe"
      },
      "source": [
        "> Le schéma de la base de données ci-dessous représente plusieurs tables.\n",
        "Il existe des relations entre ces tables. **Etablissez les relations entre ses tables, en signifiant à chaque fois quelle est la clé primaire, la clé étrangère.**"
      ]
    },
    {
      "cell_type": "markdown",
      "metadata": {
        "id": "qAdikfkiil36"
      },
      "source": [
        "![Exercice Modélisation.png](data:image/png;base64,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)"
      ]
    },
    {
      "cell_type": "markdown",
      "metadata": {
        "id": "mk3NhHCaio0H"
      },
      "source": [
        "Exemple:\n",
        "\n",
        "`Table1` --- `Table2`. Clé primaire: `Table2[nom_champ]` Clé étrangère: `Table1[nom_champ]`"
      ]
    },
    {
      "cell_type": "markdown",
      "metadata": {
        "id": "S23zL4vxi2T_"
      },
      "source": [
        "**Réponse :**"
      ]
    },
    {
      "cell_type": "markdown",
      "metadata": {
        "id": "NUJi1gIiV-4z"
      },
      "source": [
        "+ Table Artist - 1 to many - Table Album. Clé primaire : Artist.ArtistId Clé étrangère : Album.ArtistId => un artiste peut avoir plusieurs albums mais un album ne peut avoir qu'un seul artiste\n",
        "+ Table Album - 1 to many - Table Track. Clé primaire : Album.AlbumId Clé étrangère Track.albumId => un album peut avoir plusieurs morceaux mais un morceau ne peut avoir qu'un seul album\n",
        "+ Relation many to many entre les tables Playlist et Track via la table PlaylistTrack => une playlist peut avoir plusieurs morceaux et un morceau peut être dans plusieurs playlist\n",
        "  + Clé primaire : Playlist.PlaylistId Clé étrangère : PlaylistTrack.PlaylistId\n",
        "  + Clé primaire : Track.TrackId Clé étrangère : PlaylistTrack.TrackId\n",
        "+ Table track - 1 to many - table InvoiceLine. Clé primaire : Track.TrackId CLé étrangère : InvoiceLine.TrackId => une ligne de facture correspond à un morceau, mais un morceau peut exister dans plusieurs lignes de facture"
      ]
    },
    {
      "cell_type": "markdown",
      "source": [
        "----------------------------------------------------------------------------------------------------------------------------------------------------------------"
      ],
      "metadata": {
        "id": "e3wSF3KhtYJi"
      }
    },
    {
      "cell_type": "markdown",
      "metadata": {
        "id": "p-wx1SCYiqi8"
      },
      "source": [
        "> Toujours en se basant sur le schéma de la base de données, existe-t-il une table intermédiaire ? Si oui, quel est le nom de cette table ? Dans quelle situation il est recommandé de créer une table intermédiare pour connecter deux tables ?\n",
        "\n"
      ]
    },
    {
      "cell_type": "markdown",
      "metadata": {
        "id": "XHRUORCDiyXW"
      },
      "source": [
        "**Réponse:**"
      ]
    },
    {
      "cell_type": "markdown",
      "metadata": {
        "id": "mY8dvp_IoFfi"
      },
      "source": [
        "Il y a une table intermédiaire qui est la table PlaylistTrack\n",
        "\n",
        "Il est recommandé de créer une table intermédiaire lorsqu'il existe une relation many to many.\n",
        "\n",
        "La création de la table intermédiaire avec les clés étrangères des deux tables permet de simplifier le schéma en instaurant des relations one to many entre les deux tables et la table intermédiaire"
      ]
    },
    {
      "cell_type": "markdown",
      "source": [
        "----------------------------------------------------------------------------------------------------------------------------------------------------------------"
      ],
      "metadata": {
        "id": "3gu_0gZOtxFG"
      }
    },
    {
      "cell_type": "markdown",
      "metadata": {
        "id": "_KV9nZeIi_NE"
      },
      "source": [
        "Requêtes SQL\n",
        "\n",
        "Exécuter la cellule de code ci-dessous pour se connecter à la base de données."
      ]
    },
    {
      "cell_type": "code",
      "execution_count": null,
      "metadata": {
        "id": "AEpETM6JjPxL"
      },
      "outputs": [],
      "source": [
        "import requests\n",
        "import zipfile\n",
        "import sqlite3\n",
        "import pandas as pd\n",
        "\n",
        "# Here we download the file from GitHub\n",
        "r = requests.get(\"https://github.com/WildCodeSchool/wilddata/blob/main/music.zip?raw=true\")\n",
        "open('music.zip', 'wb').write(r.content)\n",
        "\n",
        "# Then we unzip it\n",
        "with zipfile.ZipFile(\"music.zip\",\"r\") as zip_ref:\n",
        "    zip_ref.extractall()\n",
        "\n",
        "# We connect to the database\n",
        "conn = sqlite3.connect('music.sqlite')\n",
        "\n"
      ]
    },
    {
      "cell_type": "code",
      "execution_count": null,
      "metadata": {
        "colab": {
          "base_uri": "https://localhost:8080/",
          "height": 423
        },
        "id": "biYNaxB8jfV2",
        "outputId": "86027744-1711-42d3-e2cf-3839e20aa80b"
      },
      "outputs": [
        {
          "data": {
            "application/vnd.google.colaboratory.intrinsic+json": {
              "summary": "{\n  \"name\": \"pd\",\n  \"rows\": 347,\n  \"fields\": [\n    {\n      \"column\": \"AlbumId\",\n      \"properties\": {\n        \"dtype\": \"number\",\n        \"std\": 100,\n        \"min\": 1,\n        \"max\": 347,\n        \"num_unique_values\": 347,\n        \"samples\": [\n          323,\n          115,\n          326\n        ],\n        \"semantic_type\": \"\",\n        \"description\": \"\"\n      }\n    },\n    {\n      \"column\": \"Title\",\n      \"properties\": {\n        \"dtype\": \"string\",\n        \"num_unique_values\": 347,\n        \"samples\": [\n          \"Carried to Dust (Bonus Track Version)\",\n          \"Sex Machine\",\n          \"Mendelssohn: A Midsummer Night's Dream\"\n        ],\n        \"semantic_type\": \"\",\n        \"description\": \"\"\n      }\n    },\n    {\n      \"column\": \"ArtistId\",\n      \"properties\": {\n        \"dtype\": \"number\",\n        \"std\": 77,\n        \"min\": 1,\n        \"max\": 275,\n        \"num_unique_values\": 204,\n        \"samples\": [\n          16,\n          10,\n          153\n        ],\n        \"semantic_type\": \"\",\n        \"description\": \"\"\n      }\n    }\n  ]\n}",
              "type": "dataframe"
            },
            "text/html": [
              "\n",
              "  <div id=\"df-323a6647-3658-468b-8bf0-aac3300dca0a\" class=\"colab-df-container\">\n",
              "    <div>\n",
              "<style scoped>\n",
              "    .dataframe tbody tr th:only-of-type {\n",
              "        vertical-align: middle;\n",
              "    }\n",
              "\n",
              "    .dataframe tbody tr th {\n",
              "        vertical-align: top;\n",
              "    }\n",
              "\n",
              "    .dataframe thead th {\n",
              "        text-align: right;\n",
              "    }\n",
              "</style>\n",
              "<table border=\"1\" class=\"dataframe\">\n",
              "  <thead>\n",
              "    <tr style=\"text-align: right;\">\n",
              "      <th></th>\n",
              "      <th>AlbumId</th>\n",
              "      <th>Title</th>\n",
              "      <th>ArtistId</th>\n",
              "    </tr>\n",
              "  </thead>\n",
              "  <tbody>\n",
              "    <tr>\n",
              "      <th>0</th>\n",
              "      <td>1</td>\n",
              "      <td>For Those About To Rock We Salute You</td>\n",
              "      <td>1</td>\n",
              "    </tr>\n",
              "    <tr>\n",
              "      <th>1</th>\n",
              "      <td>2</td>\n",
              "      <td>Balls to the Wall</td>\n",
              "      <td>2</td>\n",
              "    </tr>\n",
              "    <tr>\n",
              "      <th>2</th>\n",
              "      <td>3</td>\n",
              "      <td>Restless and Wild</td>\n",
              "      <td>2</td>\n",
              "    </tr>\n",
              "    <tr>\n",
              "      <th>3</th>\n",
              "      <td>4</td>\n",
              "      <td>Let There Be Rock</td>\n",
              "      <td>1</td>\n",
              "    </tr>\n",
              "    <tr>\n",
              "      <th>4</th>\n",
              "      <td>5</td>\n",
              "      <td>Big Ones</td>\n",
              "      <td>3</td>\n",
              "    </tr>\n",
              "    <tr>\n",
              "      <th>...</th>\n",
              "      <td>...</td>\n",
              "      <td>...</td>\n",
              "      <td>...</td>\n",
              "    </tr>\n",
              "    <tr>\n",
              "      <th>342</th>\n",
              "      <td>343</td>\n",
              "      <td>Respighi:Pines of Rome</td>\n",
              "      <td>226</td>\n",
              "    </tr>\n",
              "    <tr>\n",
              "      <th>343</th>\n",
              "      <td>344</td>\n",
              "      <td>Schubert: The Late String Quartets &amp; String Qu...</td>\n",
              "      <td>272</td>\n",
              "    </tr>\n",
              "    <tr>\n",
              "      <th>344</th>\n",
              "      <td>345</td>\n",
              "      <td>Monteverdi: L'Orfeo</td>\n",
              "      <td>273</td>\n",
              "    </tr>\n",
              "    <tr>\n",
              "      <th>345</th>\n",
              "      <td>346</td>\n",
              "      <td>Mozart: Chamber Music</td>\n",
              "      <td>274</td>\n",
              "    </tr>\n",
              "    <tr>\n",
              "      <th>346</th>\n",
              "      <td>347</td>\n",
              "      <td>Koyaanisqatsi (Soundtrack from the Motion Pict...</td>\n",
              "      <td>275</td>\n",
              "    </tr>\n",
              "  </tbody>\n",
              "</table>\n",
              "<p>347 rows × 3 columns</p>\n",
              "</div>\n",
              "    <div class=\"colab-df-buttons\">\n",
              "\n",
              "  <div class=\"colab-df-container\">\n",
              "    <button class=\"colab-df-convert\" onclick=\"convertToInteractive('df-323a6647-3658-468b-8bf0-aac3300dca0a')\"\n",
              "            title=\"Convert this dataframe to an interactive table.\"\n",
              "            style=\"display:none;\">\n",
              "\n",
              "  <svg xmlns=\"http://www.w3.org/2000/svg\" height=\"24px\" viewBox=\"0 -960 960 960\">\n",
              "    <path d=\"M120-120v-720h720v720H120Zm60-500h600v-160H180v160Zm220 220h160v-160H400v160Zm0 220h160v-160H400v160ZM180-400h160v-160H180v160Zm440 0h160v-160H620v160ZM180-180h160v-160H180v160Zm440 0h160v-160H620v160Z\"/>\n",
              "  </svg>\n",
              "    </button>\n",
              "\n",
              "  <style>\n",
              "    .colab-df-container {\n",
              "      display:flex;\n",
              "      gap: 12px;\n",
              "    }\n",
              "\n",
              "    .colab-df-convert {\n",
              "      background-color: #E8F0FE;\n",
              "      border: none;\n",
              "      border-radius: 50%;\n",
              "      cursor: pointer;\n",
              "      display: none;\n",
              "      fill: #1967D2;\n",
              "      height: 32px;\n",
              "      padding: 0 0 0 0;\n",
              "      width: 32px;\n",
              "    }\n",
              "\n",
              "    .colab-df-convert:hover {\n",
              "      background-color: #E2EBFA;\n",
              "      box-shadow: 0px 1px 2px rgba(60, 64, 67, 0.3), 0px 1px 3px 1px rgba(60, 64, 67, 0.15);\n",
              "      fill: #174EA6;\n",
              "    }\n",
              "\n",
              "    .colab-df-buttons div {\n",
              "      margin-bottom: 4px;\n",
              "    }\n",
              "\n",
              "    [theme=dark] .colab-df-convert {\n",
              "      background-color: #3B4455;\n",
              "      fill: #D2E3FC;\n",
              "    }\n",
              "\n",
              "    [theme=dark] .colab-df-convert:hover {\n",
              "      background-color: #434B5C;\n",
              "      box-shadow: 0px 1px 3px 1px rgba(0, 0, 0, 0.15);\n",
              "      filter: drop-shadow(0px 1px 2px rgba(0, 0, 0, 0.3));\n",
              "      fill: #FFFFFF;\n",
              "    }\n",
              "  </style>\n",
              "\n",
              "    <script>\n",
              "      const buttonEl =\n",
              "        document.querySelector('#df-323a6647-3658-468b-8bf0-aac3300dca0a button.colab-df-convert');\n",
              "      buttonEl.style.display =\n",
              "        google.colab.kernel.accessAllowed ? 'block' : 'none';\n",
              "\n",
              "      async function convertToInteractive(key) {\n",
              "        const element = document.querySelector('#df-323a6647-3658-468b-8bf0-aac3300dca0a');\n",
              "        const dataTable =\n",
              "          await google.colab.kernel.invokeFunction('convertToInteractive',\n",
              "                                                    [key], {});\n",
              "        if (!dataTable) return;\n",
              "\n",
              "        const docLinkHtml = 'Like what you see? Visit the ' +\n",
              "          '<a target=\"_blank\" href=https://colab.research.google.com/notebooks/data_table.ipynb>data table notebook</a>'\n",
              "          + ' to learn more about interactive tables.';\n",
              "        element.innerHTML = '';\n",
              "        dataTable['output_type'] = 'display_data';\n",
              "        await google.colab.output.renderOutput(dataTable, element);\n",
              "        const docLink = document.createElement('div');\n",
              "        docLink.innerHTML = docLinkHtml;\n",
              "        element.appendChild(docLink);\n",
              "      }\n",
              "    </script>\n",
              "  </div>\n",
              "\n",
              "\n",
              "<div id=\"df-86b09745-e657-446c-a352-569ed2c5d2ac\">\n",
              "  <button class=\"colab-df-quickchart\" onclick=\"quickchart('df-86b09745-e657-446c-a352-569ed2c5d2ac')\"\n",
              "            title=\"Suggest charts\"\n",
              "            style=\"display:none;\">\n",
              "\n",
              "<svg xmlns=\"http://www.w3.org/2000/svg\" height=\"24px\"viewBox=\"0 0 24 24\"\n",
              "     width=\"24px\">\n",
              "    <g>\n",
              "        <path d=\"M19 3H5c-1.1 0-2 .9-2 2v14c0 1.1.9 2 2 2h14c1.1 0 2-.9 2-2V5c0-1.1-.9-2-2-2zM9 17H7v-7h2v7zm4 0h-2V7h2v10zm4 0h-2v-4h2v4z\"/>\n",
              "    </g>\n",
              "</svg>\n",
              "  </button>\n",
              "\n",
              "<style>\n",
              "  .colab-df-quickchart {\n",
              "      --bg-color: #E8F0FE;\n",
              "      --fill-color: #1967D2;\n",
              "      --hover-bg-color: #E2EBFA;\n",
              "      --hover-fill-color: #174EA6;\n",
              "      --disabled-fill-color: #AAA;\n",
              "      --disabled-bg-color: #DDD;\n",
              "  }\n",
              "\n",
              "  [theme=dark] .colab-df-quickchart {\n",
              "      --bg-color: #3B4455;\n",
              "      --fill-color: #D2E3FC;\n",
              "      --hover-bg-color: #434B5C;\n",
              "      --hover-fill-color: #FFFFFF;\n",
              "      --disabled-bg-color: #3B4455;\n",
              "      --disabled-fill-color: #666;\n",
              "  }\n",
              "\n",
              "  .colab-df-quickchart {\n",
              "    background-color: var(--bg-color);\n",
              "    border: none;\n",
              "    border-radius: 50%;\n",
              "    cursor: pointer;\n",
              "    display: none;\n",
              "    fill: var(--fill-color);\n",
              "    height: 32px;\n",
              "    padding: 0;\n",
              "    width: 32px;\n",
              "  }\n",
              "\n",
              "  .colab-df-quickchart:hover {\n",
              "    background-color: var(--hover-bg-color);\n",
              "    box-shadow: 0 1px 2px rgba(60, 64, 67, 0.3), 0 1px 3px 1px rgba(60, 64, 67, 0.15);\n",
              "    fill: var(--button-hover-fill-color);\n",
              "  }\n",
              "\n",
              "  .colab-df-quickchart-complete:disabled,\n",
              "  .colab-df-quickchart-complete:disabled:hover {\n",
              "    background-color: var(--disabled-bg-color);\n",
              "    fill: var(--disabled-fill-color);\n",
              "    box-shadow: none;\n",
              "  }\n",
              "\n",
              "  .colab-df-spinner {\n",
              "    border: 2px solid var(--fill-color);\n",
              "    border-color: transparent;\n",
              "    border-bottom-color: var(--fill-color);\n",
              "    animation:\n",
              "      spin 1s steps(1) infinite;\n",
              "  }\n",
              "\n",
              "  @keyframes spin {\n",
              "    0% {\n",
              "      border-color: transparent;\n",
              "      border-bottom-color: var(--fill-color);\n",
              "      border-left-color: var(--fill-color);\n",
              "    }\n",
              "    20% {\n",
              "      border-color: transparent;\n",
              "      border-left-color: var(--fill-color);\n",
              "      border-top-color: var(--fill-color);\n",
              "    }\n",
              "    30% {\n",
              "      border-color: transparent;\n",
              "      border-left-color: var(--fill-color);\n",
              "      border-top-color: var(--fill-color);\n",
              "      border-right-color: var(--fill-color);\n",
              "    }\n",
              "    40% {\n",
              "      border-color: transparent;\n",
              "      border-right-color: var(--fill-color);\n",
              "      border-top-color: var(--fill-color);\n",
              "    }\n",
              "    60% {\n",
              "      border-color: transparent;\n",
              "      border-right-color: var(--fill-color);\n",
              "    }\n",
              "    80% {\n",
              "      border-color: transparent;\n",
              "      border-right-color: var(--fill-color);\n",
              "      border-bottom-color: var(--fill-color);\n",
              "    }\n",
              "    90% {\n",
              "      border-color: transparent;\n",
              "      border-bottom-color: var(--fill-color);\n",
              "    }\n",
              "  }\n",
              "</style>\n",
              "\n",
              "  <script>\n",
              "    async function quickchart(key) {\n",
              "      const quickchartButtonEl =\n",
              "        document.querySelector('#' + key + ' button');\n",
              "      quickchartButtonEl.disabled = true;  // To prevent multiple clicks.\n",
              "      quickchartButtonEl.classList.add('colab-df-spinner');\n",
              "      try {\n",
              "        const charts = await google.colab.kernel.invokeFunction(\n",
              "            'suggestCharts', [key], {});\n",
              "      } catch (error) {\n",
              "        console.error('Error during call to suggestCharts:', error);\n",
              "      }\n",
              "      quickchartButtonEl.classList.remove('colab-df-spinner');\n",
              "      quickchartButtonEl.classList.add('colab-df-quickchart-complete');\n",
              "    }\n",
              "    (() => {\n",
              "      let quickchartButtonEl =\n",
              "        document.querySelector('#df-86b09745-e657-446c-a352-569ed2c5d2ac button');\n",
              "      quickchartButtonEl.style.display =\n",
              "        google.colab.kernel.accessAllowed ? 'block' : 'none';\n",
              "    })();\n",
              "  </script>\n",
              "</div>\n",
              "\n",
              "    </div>\n",
              "  </div>\n"
            ],
            "text/plain": [
              "     AlbumId                                              Title  ArtistId\n",
              "0          1              For Those About To Rock We Salute You         1\n",
              "1          2                                  Balls to the Wall         2\n",
              "2          3                                  Restless and Wild         2\n",
              "3          4                                  Let There Be Rock         1\n",
              "4          5                                           Big Ones         3\n",
              "..       ...                                                ...       ...\n",
              "342      343                             Respighi:Pines of Rome       226\n",
              "343      344  Schubert: The Late String Quartets & String Qu...       272\n",
              "344      345                                Monteverdi: L'Orfeo       273\n",
              "345      346                              Mozart: Chamber Music       274\n",
              "346      347  Koyaanisqatsi (Soundtrack from the Motion Pict...       275\n",
              "\n",
              "[347 rows x 3 columns]"
            ]
          },
          "execution_count": 2,
          "metadata": {},
          "output_type": "execute_result"
        }
      ],
      "source": [
        "# Voici un exemple de requête sql. La requête SQL est entre guillemets pour le premier argument, puis la variable conn en second argument.\n",
        "\n",
        "pd.read_sql(\"select * from album\", conn)"
      ]
    },
    {
      "cell_type": "markdown",
      "metadata": {
        "id": "VdV2Y22zjPg2"
      },
      "source": [
        "Effectuer des requêtes, pour répondre aux questions suivantes."
      ]
    },
    {
      "cell_type": "markdown",
      "metadata": {
        "id": "bWS6GQf_lWGa"
      },
      "source": [
        "> Renvoyer le nom de la playlist qui contient le plus de morceaux, ainsi que le nombre de morceaux pour cette playlist."
      ]
    },
    {
      "cell_type": "markdown",
      "metadata": {
        "id": "cbDOGnLelZPV"
      },
      "source": [
        "Résultat attendu:\n",
        "\n",
        "![Screenshot 2024-07-11 at 11.17.01.png](data:image/png;base64,iVBORw0KGgoAAAANSUhEUgAAAvIAAAB+CAYAAABGdvXGAAAMQGlDQ1BJQ0MgUHJvZmlsZQAASImVVwdYU8kWnluSkEAIEEBASuhNEJESQEoILfSOICohCRBKjIGgYkcXFVy7WMCGroooWAGxoIidRbH3xYKCsi4W7MqbFNB1X/nefN/c+e8/Z/5z5ty5d+4AQDvBFYtzUQ0A8kQFkthgf8bY5BQGqRsQAQFQgA2gcXn5YlZ0dDiAZbD9e3l3AyCy9qqDTOuf/f+1aPIF+TwAkGiI0/n5vDyIDwKAV/LEkgIAiDLefEqBWIZhBdoSGCDEC2U4U4ErZThdgffKbeJj2RC3AqCixuVKMgFQvwx5RiEvE2qo90HsJOILRQDQGBD75OVN4kOcBrENtBFDLNNnpv+gk/k3zfQhTS43cwgr5iIvKgHCfHEud9r/mY7/XfJypYM+rGBVy5KExMrmDPN2K2dSmAyrQdwrSo+MglgL4g9CvtweYpSSJQ1JUNijhrx8NswZ0IXYic8NCIPYEOIgUW5kuJJPzxAGcSCGKwSdKizgxEOsB/FCQX5gnNJms2RSrNIXWp8hYbOU/DmuRO5X5uuBNCeBpdR/nSXgKPUx9aKs+CSIKRBbFAoTIyFWh9gxPycuTGkzpiiLHTloI5HGyuK3gDhWIAr2V+hjhRmSoFilfWle/uB8sc1ZQk6kEu8vyIoPUeQHa+Vx5fHDuWCXBSJWwqCOIH9s+OBc+IKAQMXcsW6BKCFOqfNBXOAfqxiLU8S50Up73EyQGyzjzSB2yS+MU47FEwvgglTo4xniguh4RZx4UTY3NFoRD74MhAM2CAAMIIU1HUwC2UDY3tvQC+8UPUGACyQgEwiAg5IZHJEk7xHBaxwoAn9CJAD5Q+P85b0CUAj5r0Os4uoAMuS9hfIROeApxHkgDOTCe6l8lGjIWyJ4AhnhP7xzYeXBeHNhlfX/e36Q/c6wIBOuZKSDHhm0QUtiIDGAGEIMItriBrgP7oWHw6sfrM44E/cYnMd3e8JTQgfhEeE6oZNwe6KwWPJTlBGgE+oHKXOR/mMucCuo6Yr7495QHSrjurgBcMBdoB8W7gs9u0KWrYxblhXGT9p/m8EPT0NpR3Yio+RhZD+yzc8j1e3UXYdUZLn+MT+KWNOH8s0e6vnZP/uH7PNhG/azJbYQO4CdxU5i57GjWANgYM1YI9aGHZPhodX1RL66Br3FyuPJgTrCf/gbfLKyTOY71Tj1OH1R9BUIpsq+0YA9STxNIszMKmCw4I4gYHBEPMcRDGcnZxcAZPuL4vP1Jka+byC6bd+5eX8A4N08MDBw5DsX2gzAPnf4+h/+ztkw4dahCsC5wzyppFDB4bKLbNeiwTdNHxgDc7h/OQBn4Aa8gB8IBKEgCsSDZDABRp8F17kETAEzwFxQAsrAMrAarAebwFawE+wB+0EDOApOgjPgIrgMroO7cPV0gRegD7wDnxEEISFUhI7oIyaIJWKPOCNMxAcJRMKRWCQZSUMyEREiRWYg85AyZAWyHtmCVCP7kMPISeQ80oHcRh4iPchr5BOKoWqoNmqEWqEjUSbKQsPQeHQ8molORovQ+egSdC1ahe5G69GT6EX0OtqJvkD7MYCpYrqYKeaAMTE2FoWlYBmYBJuFlWLlWBVWizXB53wV68R6sY84EafjDNwBruAQPAHn4ZPxWfhifD2+E6/HW/Gr+EO8D/9GoBIMCfYETwKHMJaQSZhCKCGUE7YTDhFOw3epi/COSCTqEq2J7vBdTCZmE6cTFxM3EOuIJ4gdxMfEfhKJpE+yJ3mTokhcUgGphLSOtJvUTLpC6iJ9UFFVMVFxVglSSVERqRSrlKvsUjmuckXlmcpnsgbZkuxJjiLzydPIS8nbyE3kS+Qu8meKJsWa4k2Jp2RT5lLWUmoppyn3KG9UVVXNVD1UY1SFqnNU16ruVT2n+lD1o5qWmp0aWy1VTaq2RG2H2gm122pvqFSqFdWPmkItoC6hVlNPUR9QP6jT1R3VOep89dnqFer16lfUX9LINEsaizaBVkQrpx2gXaL1apA1rDTYGlyNWRoVGoc1bmr0a9I1R2lGaeZpLtbcpXles1uLpGWlFajF15qvtVXrlNZjOkY3p7PpPPo8+jb6aXqXNlHbWpujna1dpr1Hu127T0dLx0UnUWeqToXOMZ1OXUzXSpejm6u7VHe/7g3dT8OMhrGGCYYtGlY77Mqw93rD9fz0BHqlenV61/U+6TP0A/Vz9JfrN+jfN8AN7AxiDKYYbDQ4bdA7XHu413De8NLh+4ffMUQN7QxjDacbbjVsM+w3MjYKNhIbrTM6ZdRrrGvsZ5xtvMr4uHGPCd3Ex0Rossqk2eQ5Q4fBYuQy1jJaGX2mhqYhplLTLabtpp/NrM0SzIrN6szum1PMmeYZ5qvMW8z7LEwsIixmWNRY3LEkWzItsyzXWJ61fG9lbZVktcCqwarbWs+aY11kXWN9z4Zq42sz2abK5pot0ZZpm2O7wfayHWrnapdlV2F3yR61d7MX2m+w7xhBGOExQjSiasRNBzUHlkOhQ43DQ0ddx3DHYscGx5cjLUamjFw+8uzIb06uTrlO25zujtIaFTqqeFTTqNfOds485wrna6Opo4NGzx7dOPqVi72LwGWjyy1XumuE6wLXFtevbu5uErdatx53C/c090r3m0xtZjRzMfOcB8HD32O2x1GPj55ungWe+z3/8nLwyvHa5dU9xnqMYMy2MY+9zby53lu8O30YPmk+m306fU19ub5Vvo/8zP34ftv9nrFsWdms3ayX/k7+Ev9D/u/ZnuyZ7BMBWEBwQGlAe6BWYELg+sAHQWZBmUE1QX3BrsHTg0+EEELCQpaH3OQYcXicak5fqHvozNDWMLWwuLD1YY/C7cIl4U0RaERoxMqIe5GWkaLIhigQxYlaGXU/2jp6cvSRGGJMdExFzNPYUbEzYs/G0eMmxu2KexfvH780/m6CTYI0oSWRlpiaWJ34PikgaUVS59iRY2eOvZhskCxMbkwhpSSmbE/pHxc4bvW4rlTX1JLUG+Otx08df36CwYTcCccm0iZyJx5II6Qlpe1K+8KN4lZx+9M56ZXpfTw2bw3vBd+Pv4rfI/AWrBA8y/DOWJHRnemduTKzJ8s3qzyrV8gWrhe+yg7J3pT9PicqZ0fOQG5Sbl2eSl5a3mGRlihH1DrJeNLUSR1ie3GJuHOy5+TVk/skYZLt+Uj++PzGAm34I98mtZH+In1Y6FNYUfhhSuKUA1M1p4qmtk2zm7Zo2rOioKLfpuPTedNbZpjOmDvj4UzWzC2zkFnps1pmm8+eP7trTvCcnXMpc3Pm/l7sVLyi+O28pHlN843mz5n/+JfgX2pK1EskJTcXeC3YtBBfKFzYvmj0onWLvpXySy+UOZWVl31ZzFt84ddRv679dWBJxpL2pW5LNy4jLhMtu7Hcd/nOFZorilY8Xhmxsn4VY1XpqrerJ64+X+5SvmkNZY10Tefa8LWN6yzWLVv3ZX3W+usV/hV1lYaViyrfb+BvuLLRb2PtJqNNZZs+bRZuvrUleEt9lVVV+Vbi1sKtT7clbjv7G/O36u0G28u2f90h2tG5M3Zna7V7dfUuw11La9AaaU3P7tTdl/cE7GmsdajdUqdbV7YX7JXufb4vbd+N/WH7Ww4wD9QetDxYeYh+qLQeqZ9W39eQ1dDZmNzYcTj0cEuTV9OhI45Hdhw1PVpxTOfY0uOU4/OPDzQXNfefEJ/oPZl58nHLxJa7p8aeutYa09p+Ouz0uTNBZ06dZZ1tPud97uh5z/OHLzAvNFx0u1jf5tp26HfX3w+1u7XXX3K/1HjZ43JTx5iO41d8r5y8GnD1zDXOtYvXI6933Ei4cetm6s3OW/xb3bdzb7+6U3jn89059wj3Su9r3C9/YPig6g/bP+o63TqPPQx42PYo7tHdx7zHL57kP/nSNf8p9Wn5M5Nn1d3O3Ud7gnouPx/3vOuF+MXn3pI/Nf+sfGnz8uBffn+19Y3t63oleTXwevEb/Tc73rq8bemP7n/wLu/d5/elH/Q/7PzI/Hj2U9KnZ5+nfCF9WfvV9mvTt7Bv9wbyBgbEXAlX/iuAwYpmZADwegcA1GQA6PB8RhmnOP/JC6I4s8oR+E9YcUaUFzcAauH/e0wv/Lu5CcDebfD4BfVpqQBEUwGI9wDo6NFDdfCsJj9XygoRngM2R31Nz0sH/6Yozpw/xP1zC2SqLuDn9l8wAHxXLsbLaAAAAIplWElmTU0AKgAAAAgABAEaAAUAAAABAAAAPgEbAAUAAAABAAAARgEoAAMAAAABAAIAAIdpAAQAAAABAAAATgAAAAAAAACQAAAAAQAAAJAAAAABAAOShgAHAAAAEgAAAHigAgAEAAAAAQAAAvKgAwAEAAAAAQAAAH4AAAAAQVNDSUkAAABTY3JlZW5zaG90pUoPmwAAAAlwSFlzAAAWJQAAFiUBSVIk8AAAAdZpVFh0WE1MOmNvbS5hZG9iZS54bXAAAAAAADx4OnhtcG1ldGEgeG1sbnM6eD0iYWRvYmU6bnM6bWV0YS8iIHg6eG1wdGs9IlhNUCBDb3JlIDYuMC4wIj4KICAgPHJkZjpSREYgeG1sbnM6cmRmPSJodHRwOi8vd3d3LnczLm9yZy8xOTk5LzAyLzIyLXJkZi1zeW50YXgtbnMjIj4KICAgICAgPHJkZjpEZXNjcmlwdGlvbiByZGY6YWJvdXQ9IiIKICAgICAgICAgICAgeG1sbnM6ZXhpZj0iaHR0cDovL25zLmFkb2JlLmNvbS9leGlmLzEuMC8iPgogICAgICAgICA8ZXhpZjpQaXhlbFlEaW1lbnNpb24+MTI2PC9leGlmOlBpeGVsWURpbWVuc2lvbj4KICAgICAgICAgPGV4aWY6UGl4ZWxYRGltZW5zaW9uPjc1NDwvZXhpZjpQaXhlbFhEaW1lbnNpb24+CiAgICAgICAgIDxleGlmOlVzZXJDb21tZW50PlNjcmVlbnNob3Q8L2V4aWY6VXNlckNvbW1lbnQ+CiAgICAgIDwvcmRmOkRlc2NyaXB0aW9uPgogICA8L3JkZjpSREY+CjwveDp4bXBtZXRhPgqdmDM/AAAAHGlET1QAAAACAAAAAAAAAD8AAAAoAAAAPwAAAD8AACLwDIu7LwAAIrxJREFUeAHsnQW4PkUVxgf0LwY8iIGCgQIGtqLYioqKrdgKBgp2YTegmFhgF3Z3YSdit2D3YysWin2d38hZzp6d/XLvvd9373ue595vd3Z2dvbd2TPvnDlzdquVLEkiBISAEBACQkAICAEhIASEwFIhsJWI/FI9L1VWCAgBISAEhIAQEAJCQAgUBETk1RCEgBAQAkJACAgBISAEhMASIiAiv4QPTVUWAkJACAgBISAEhIAQEAIi8moDQkAICAEhIASEgBAQAkJgCREQkV/Ch6YqCwEhIASEgBAQAkJACAgBEXm1ASEgBISAEBACQkAICAEhsIQIiMgv4UNTlYWAEBACQkAICAEhIASEgIi82oAQEAJCQAgIASEgBISAEFhCBETkl/ChqcpCQAgIASEgBISAEBACQkBEXm1ACAgBISAEhIAQEAJCQAgsIQIi8kv40FRlISAEhIAQEAJCQAgIASEgIq82IASEgBAQAkJACAgBISAElhABEfklfGiqshAQAkJACAgBISAEhIAQEJFXGxACQkAICAEhIASEgBAQAkuIgIj8Ej40VVkICAEhIASEgBAQAkJACIjIqw2sCgL/+te/0sknn9yUvWXLlrTttts2+9oQAkJg8yIg/bB5n73uXAgIgWEREJEfFk+VdioCr3rVq9Khhx7a4HHBC14wfeQjH2n2tSEEhMDmRUD6YfM+e925EBACwyIgIj8Dnl/5ylfSe9/73t4zt9lmm/TQhz609/giHXj2s5/dspzHuu27777p8pe/fEweu//KV74yHXbYYU0+EfkGinTKKaekZzzjGacl5K2DDjoonetc52qlaWc5EZB+GP/cpB/GY7SRcvztb39Lz3zmM1u3dPDBB6cdd9yxlaYdISAEpkdgUxL5j3/84+nVr351B62tt9467bDDDmn77bdPu+yyS7riFa+Ydt9997TVVlu18r7hDW9Ij3rUo1ppceeHP/xhTFrI/Ute8pLpr3/9a2/dIOMHHHBA7/G+A8vaUZ9wwgmdDqfvHi39yU9+8lQd0u9///t0hStcwU4vv+9617vSJS5xiVaadpYTAemH8c9tWfXD+DtTjhoCv/nNb9KVrnSl1qH3ve996aIXvWgrTTtCQAhMj8CmJPKvfe1r02Mf+9iJ0Npzzz3TE57whJbCUUc9Hrr17qgh5De5yU1aFf3yl7+cznrWs7bS4s4nPvGJdNe73jUmj9z/8Ic/nHbdddeRefxBEXmPxsbbln4Y/0yXVT+MvzPlqCEgIl9DRWlCYBgEROQnwPHsZz97+uAHP1is9WTH1/v5z39+c+Yvf/nL9Ktf/arZZ2NZLPJ3u9vd0h//+Mem7rgFeJnVIv+Wt7wlPfWpT22KutCFLpRe97rXNfurvfG1r30t3eIWt2hd5otf/GI629nO1kqLOyLyERHtT4uA9MN4xJZVP4y/M+WoISAiX0NFaUJgGARE5CfE8UY3ulE6+uijq7nf8573pPvf//6tY8tC5FuVzjt77713+ulPf9okz0rkmwLWaUNEfp2A12U7CEg/dCBZ94RZ9cO6V3xJKyAiv6QPTtVeCgRE5PNjwuL+hS98If3nP/9Jf/jDHxI+9BDY6Dv+ve99L53udKfrPFh11B1I1j1h1o76n//8Z6LTMfn617+e7nvf+9pu+X3rW9+aznnOczZpO++8c2J9xaQi15pJkdoY+aQfFu85zqofFu9OlqNGIvLL8ZyGriWcir4xrjMc+jqbvTwR+dwCjMj7xnDMMccU33if9rGPfawsgvVpbM/TUeOS88lPfrL8YcX/7W9/myB6yLnPfe50uctdrljJb37zm6fTn/70JZ1///73v9PjH//4tLKy0qRhTb/e9a7X7NsG5cUoKbidxAWX5KeMWSzydIxvfOMb7ZKdXyKyPOABD+ik1xIoi/B0DJx+9KMflQEVzwjyzIJQFk1d61rXalydKONPf/pTy5Xn17/+deJ5ebnpTW+aznzmM/ukdOc73zld5CIXaaX5Hfzqb3WrW/mk9LnPfa5F5FsH3Q6LuY499tj02c9+Nv39739PRAACd64XsV/vxa64jjGANdljjz0SeL35zW8uOH7mM59JuEdd5SpXSQ95yEPSWc5yFsva+WUwRFv40pe+lL7xjW+UZ8iiNhZW8+xudrObdQY+tP2XvvSlpSzKZgbsec97XnFju8Y1rpHucY97pMtc5jKJhcVgCp577bVXetzjHld9JzuVmiLh3e9+d+J+Taj3fvvtl/B9x/UKnMDiyle+crrTne40dn2E9ENKG1U/WBtZrV90IH2RCX3AoTms79ve9rbSDtEx1k8QKY0gDaPkAx/4QDruuOPK8/jmN7/ZnEsbJ6hB1I+U9ZKXvKS8w2yz7gj99453vKPoZfTZgx/84KLjXvziF5f3hnfjlre8ZSIqjUkfkf/HP/6RcLN6//vfX97pq13takW33+Y2t7FTO7+/+93vOgEJHv7whxcXUfDg3eUe6TMufvGLp9ve9rbpBje4QbUc3D2/9a1vFTzoi9FT6D70861vfeuq4a5T0JQJH/3oRxPrqpBLXepS6UxnOlPp73BrBU/6Sfr1pz/96UXfbLfddqVfZl0feWsyy3P15TzpSU9qRa8DfyLNobvAE72H7LbbbqVfuOMd75iIzhcF4k7b/PznP59Yp/btb3+7ZKEs+m7u7+pXv3ovrnxfAj371a9+NdE+af/nP//5yzPhWdJGCUZSEzgR/TX6mb4HDmBchj6FOnBtuBRtNMrxxx9f7tfSea+8pwVGXp6JF/pCc9fF6EfdvdCWYrCQZz3rWYXn+Xz3vve903nPe16fNNW2iHyGq0bkawQOhXrNa16zA/CsHTUKCTIyiaBgWKRLVB0TFA0N1oQ8KLIokKpHPvKRrWRe/FpjnpXIo9gPOeSQ1jX8ziThJ1ECD3vYw9Lb3/52f2p1m84MEmXys5/9rPps7HjfL53Uda5znb7DRTFMS+RRwrysz33uc6vlHnnkkYUM+4PrTeRRUC94wQuaKkGeUdQf+tCHmjTbMAVf61R+/OMfF+WHEu4T2tjTnva0dI5znKPJghLdf//9m33eSRvQkogihmwwKPJCPjoaP8j1x2fZpm0xkDS5/vWvn+hMIRxRqBcRsBhk9In0QyrEbyPqh75nPlR6bc3OYx7zmPTEJz6xcwnaIgNv+oEof/nLX8oAYJRuhTChs2L0rNjPxLLRFRijokAOb3e725XkGpHneF/0N4gk91h7ryF3vJNeeAfvec97dmbRyVPr3zHyQNLirLsv87KXvWzRU5DXIeU5z3lO4q9P0K8IRiwvGFYIF+1lnufqy0G3eizA/p3vfGfxVPD5bBuyTHvx8pOf/KT0a56T+OO2zbN9ylOeYrvN7w9+8IP0oAc9qBD4JjFs8Czpq+hDohx++OHpFa94RUyu7h9xxBHp9re/fevYy1/+8tZ7FTkL94cB0YsPdIFxCSMV7dOL51q0O9YleqFMjFjzzFqIyGdEay/6pz/96c5Iigdda0CzdtQ15eYfcNzGwvGIRzyiSa6RZyyrhMz0wujZWxixAnBuTbg/G8VyfFIf+VpdfPnxpfDHbPtFL3pRy6pu6bXfRSby47Co3c+iEflaHX0aiv4Od7iDTyoLvrHYTyJYO1gUaoOBSOQnKcPyQLCZuRpKIpEfVy4EigEGvzWRfhiGyC+ifqg97yHTakR+VPm1tVwYSLCEjhpc+zIxBvnBwDgi78/12xB8I1bT9nWUg1EHch6lRuRjHr8f+3dm3CadHeadZpDiDWi+7Fm2xxH5UWVi4T7DGc5Qssz7XP11IpH3x2rbkcgzmzGp7qctRg+BGkmuXdfSXv/615fw4LbP77R6G53tv2MwL5GnDt/5znc6sz8Q9Ze97GXFdRuPCT9Ao33RD/p6UM60IiKfEYsvOiAyXRitF35k5YEeoqOG6GIZPt/5zlcslSgrphttasqu5906+MhGtJ488IEPbE0H1RRobTRq5c9K5BkoeAs0jdVH8pmEyKMI/DnMGDAtikWEaS3KxOJEHl5ab5HHehunwSJ2WFjOeMYz2q2WX6ajR1lTazMz/hm0Cjt154Y3vGHnudHGLnCBC7RmUPy5i0rkUUJMGXrrOPUGS9YKeKHjjVZrnvuFL3zhZura52dakilFJBJ5iD44oly9MPW+7bbblnfD0plt4oNaQ0lfh4AFijZJB+CtV1y3NrCx+kg/pGJI2Ij6wZ7xav32EXmMMf/973+r5BzC7l1keCd5N72gj/jQ389//vNOGbiMMftrEok8bjO4wsUIZ3e/+90TBMu/G/RjrCur9UNWPvdC5DRvQOIYdUQvbNmyxbKW33FEHt1xnvOcp+hg6uL7d/pMZtWjPjvwwAOLuyTYxY894n6JG+tQEok8bjw77bRTog/wwmwG9fEDMNxWrL+a97n6a40i8pBNBna0FeufI5GHd8T6Uz5tiWeBtd3aS43I3+te90rwKy/MQFzsYhdLRAUkXK0X6sOAzK9Z9HqbAS0urLir4HLDGki4gxfaq58RGoLIUz6zQ7G98D7BX5hN84I72j777OOTZtvObgCbTl7zmtesZILR+st+tyvZkrqSpzhWsitF6xh5s9JbyYqzilVuUJ381YwhMft1r+Tp5pVMDKpl5wbcKTcrtlYpucG08mQl1SorN6DWce4lk+JWGX6H8z022cXAH554O1tiWuVc+9rXHnlu/tppKz91yLMLnXPyS7mSFW3BrHPQJWQfu055WXm7HJNt5mnCTjm5U+o9ORP/Tv4cl34l+42Xc7LvYOc495p9yXvLXIsD2dWlU6+sZMqls9/iSl7w2zrO++DlxBNPbB3nnmjbPC8kd6greSqzkye7l5XjeQasdYx2i2SLXCuddyK2lRzmtOQd6l98p7iXPPuwkqdOyyW+//3vr+QBdKte2dLSe3nphy40G0U/dO9s2JRMmFrtjLaYCUjzXmWC0zmeSVNTCd4V3lXOs7/sL75y0kknNXl4f+yY/WYXgOa47w9p9/SDmVy2zskEpeTPJLWV/uc//7mkZ3/lVrpdJxuryvFsXV7JRpVOHjveVCZvfPe73+3ko7xMuFeibqa/vM997tOcngeTnXOzj3xznI0889PJg94ZSrJ7TKt87gc96XUK/TCSDWStvPZchniu5QKn/vPXtmeTSXh5zp73ZNfJlUy6VzKhb06v9XnoQ98OyUybo51kA05zLhu1PhGO5qV2DXiAF87Jlu9W2/bHs3dBC8vs4uMPl3Pt3vmNnIV798fZjvdIgbRl+nyfFywjxnkQ0br+PDuyyE84/sF36373u18196wWN18YFmcWZ7DYNTf4Ym3hOKN3b6ngM9cs1jBhtM7I1YsfteP+gAXRhMVKlNkns1rkY3nTfvAF61J0CcoNP2Exx1LvR97xWrX9oaJSTGuRr1lJvB8ddWXRkrd4kbaIFnmmlG0BDtYSrCZezNpGWs0KAXb+A1zMkGBl92LuatEi/8IXvrAs3Ma1y1tj7JregoTrGB9tG0q8ZcfKxPrDYiuTaFUjPXfIVZ9e6QdD7bTfjaIfTruj1dmqWeR9H1BbZ/WmN72pWNupUe2di2u9WGCIa5q3pOPSYlZ8b5FnRgpdQD/Fl89NWP9AdK/4MTTeayzkNYu8uRxYGVjlo4scM+OZiFuW8luzyGP5pU3VfOr9yczwYp018e4/lobVObqJUDYLJYeQqDvs+ybMyGO1RQgKwELcbDRoBbA46qij0o1vfONBnqu/F69PSccKz6JcH53N5/fbrDMjCIGXqC/9MYIhmHsQ6dyT9/3n2sx6+1kl8kVuwmwus7pRsMD/4he/SLwbtFNmYRD0M+55JrRL2qfJUBZ5yqO98zz9O2XX4ZfZXVzY4j36PNNsi8hPgBYKhymQPjI5T0eNSwoNCD+pSQRiGwlVdOVgmpApHAYGKDgvUYn7Y2zHl2VSH/lYzrQdNeczZWvTb748Xmymyq561auWl2OSxr9eRJ5IK97/zzo+fz+f+tSnSrQcn7ZoRN5PR1NPOj86QS8MIu1Z4FpCOza57nWv21Kalu47K9KsfUUibwSfj4p55cuUPsJ0tE2PM7CF3AwlkchHhc91iMbDwiYvRlp8GtvSDxGRVEgXz94kW6/G6sBF1A9W/9X6rRH5bJVtotPgJ42O8eJJZxyAo0uJCBL7sjhgZjGpLX73RN7WVxElDPc6E3Nvw4jkyZUZMWpEngXvMZAAfRduGya1QXqNyOO2FY0EVob/jYQVPUe/YpKtomUTIuoFQwF1GUIikcd1EXdBDHLmRkM/jA7EiMe2CYtEWSw6xHO1MvmNuOC2ih6cRHBP8dFa0M2jItjFMhkExjV73jhpzwT9ajqfMnje3l0PYyj1ADefL17P75thiDTOox8ziTqp5sdv7dvO8b8MhHDfqYk3ttaOT5smIj8CMUbFhL1j1D5qRfGsHXUkuyOq0hxiVoDZAS+M3L3vlSlr/BUJz2eC0sI6H5W4HecXpeFnAIxo+TyTbMd7iy9FrYxI5mp5SOP+GY2Puo/1IvLR2h6tTtQ/WllIWzQiHy1VDLAgUl48kY8dsA0mfX62Y7673OUupY3GZz8NkSesp//ScrzmtPuRyNc6ptogmc4IohNF+iEiMhuRj22kW+r/U9ZSP/TVYaj0GpHH39j3R7vuumvrcp7IY4DyEUJqhgVOjlZVr6/nIfK2cLZG5LMrRMfyPYn+rBF5IqxARkcJEV4ufelLj8rSe4xII49+9KN7j09zYB4ib/3xEM/V1zkSefgEunoS8e2D/LXB16hy/ABmVL54DD95i9IHcWeAYzMaMW/fvu/DhibyXJOwqNE3H0MsBtkhRUT+VDQhAkzLQXaZTuKvFie1Bv4sHXVt+s7Kpg7EJiWiB6N1L7VGEK0j5MfVgekqHwrKT5f6Mv32ehJ56sHMBJF5xo2oxymL9SLyvKB+ESgWaDpJL7VQmYtG5GkHKDaTcUSe5+EjI/W1NQZgLOI2oRPA6h5J2iIReRbY+nCU1L3m0oAVCtIfRfohIjIbkaeURdMP3TsbNqVG5G1Wyq40isjHGUKzqNu59htd4+iDzAXFEzU7P/Y5fRb5UUQeN8ToShMH0cwoRzfEGpEfZRm1exzV51qevt9x/U3febX0IYj8EM/V1y0SebP8+zx929EjYNpBT+QcfdeJ6bin2OwNBksGhjVhRpVQx3m9RstISV5mVjF8IkMTeWbLGFxELwM4AQMxPxgvFZjjn4h8Bs8rrVmwjNNclBGVbSw3Wqw5ToNGkfn4rHG0WiPynBsjhjCb4H3jyUM94zQs6V6YUkVRmmCFiHFP7dio33h/3sIz6jyO4eOGfzZTyBC8vlH2KOW9XkQ+xmOvWXNrdVt2Ih/bH1PmTJ1Hie4RFrlmkYl8zYpZm1VhKpXIRFGkHyIisxN5Slok/dC9s2FT5iXycc1OX1/Hdy+OPvropvKeQK8WkcdlDhc8LzH6SS3CSY3IgxMR30ZJzQ0J96BxfSJl4n7D+rIhZAgiP8Rz9fcSibxfh+Hz1bZZG2GWcY57t6xa/pgWZ2kh3swIjxM+MsnsG8+VSD7RHx2cqYv548MnIpeZhsjXjFmjOEj0/ff347+x4NNn3p5npeyynsvq5kwsm78YgWPa+4oryymbiDSjJPvcNde3uuQFGq1T4kp28hFdpCa1ld9WLr/Zn7d2WieNldz+vFkjgkwblaJTEZeQw16t5JeyVS/qmMmvy9XezGS5k5/ICdPKtFFriPLj8WM7L7ZpXTYPcjp5Fi1qDavuvdSiBhCJxiRbiFr3lIlAE1nD8uTFbK08YGORB2LUmqx0y2nZMtQ6x8rykTjy4NaSB/mtRa3Ji6ZaZefp0la9uJeTTz65lcd2pB8MidN+N4p+OO2OVmcrWxw77SxeKeqbbARpsmSreuf87OvbHLcNH5mG8rKLix1qRXGzfiS+y9nCWPLn2cjW9SwiDLo31jP2LZmQraA3fL5af1eLWpPdQZv6jtogmoovP89EjMq+Ksdi1Jrs8lOukwcKTd1M//KsfH0titwQz9XfXIyokkNv+8MjtzPpb9WRssbxH19g5EI+ypDP17edZ+9b1wcvouNEqfW7XmfHvjvywqizuE4tag3XrfEG/xzZzgbKWMWZ9/kU8KaToYk8DzM+pLyYYSSuKLF4Tna5aJ1D+MWYp6bYOIkQUTF0pD/Xwvm1LlDZySPc1jUpM39Gu5JzdFJs9DGUU+1sQkZaiL/aca/ouLfsslLLVtKiAiQ/YQCnldoLmf09e4vJX0Jt4cd18xqGJj+kHiz8s2F72Yl8tjp37slIut18JPvct3X0i07k6XxNaKOxLdJ59Yn0QxeZjaIfunc2bMq8RJ4BaNQ1nqRT2xopNMLIcU/yhyTyvDM+FHJ2m+rUlb46yjxEPobRZeBgRDpeh336JAb2Q8oQRH6I5+rvaR4ij0EttjEwwxAZhbbm2xbH4Sbx/Oy7Hk9t9jHswZ9sQEqI03h+niFu8rMBPyLsaszniXztPnyYTQxG8fwakac9xQEpIWPj9XmXCO08hMi1Js9l9E03TjrNQXij/CJ0sueHWUJF2UeI8GW0xTZxdT8nM8WEjzW++YRKYiEgfn1e+lxryMNnfpmyqUkMBVjLQ1ptOggfsgMOOKA1BYlfnK0hwI0IdxEvuBlkItckUQafUPZCaEIWg5oQfSS/GGWlN1Niu+yyS1knkAcSxdd///33t6zlN7/MiWnfmhDiyn+dkDw8Z6ZH+ciELZQlzBhTdCasKSDkmQm++nHKjnLMr458LDbeeeedyym0BcKyxXPwIeV+8OM77rjjrPjmd9lda5jejF+t4+ZwzeKDXlmBN1Ew7Kb9QuBFdq2x+hKBgI9b8aziMxwV5UH6YePoB2sLa/U7r2sN9YwLSEnD5zsbFMrHdggd6PUVuo31LkRSQVbLtYay6Tfp04g44gM2cAyhHl4/kzaraw3n1twjcGXFPWSPPfYobhgszM0xw0skFfoDZJyrbMk04b8hXGu41LzP1Vd3Htca+lp0vw+SQdnwH1wseX4cw9UX3RndpfBdx2/cr4ujDdIuKGO77bYrHwzjmaB3KQPxC5xxYfXnc9zcXuibjjzyyFb0M44j3rWGPipGZoNDwMv4GBbPLYpdw6dHN1OO8R4TEjN/S8VnLV8YnvQrw60Tw46IfAZkXiIPpnGRTsC57EJEjczm0WSLxFp+GjC+fvGrpHZ8FJEnZqqP7Wvn1D7bbcfiL19R8+G44nHb9wo2LpSyPON+o+8xRD4u7uXZxBfUyiWMI1+N65NaeTEvC1FRIia1jtOO9f3GlxnfcOKgTyPLTuS5VxYeTRrpgPx5xqn5dsAyEHnq3Cd5JqYMWPqOSz9M/2XMRdQPfc93tdJr+iiSylGLXalXX7/QV+doIFlNIt9XB9JZH0bAhijzEHnKwrhARLdpJGI+zbkx71BEft7n6us1D5GnnGl0fyTynE+4z2kJrSfyMQQmZSLoEAi0H6j+/8j//3siz4DCvprr84zajn0/awUYFHrhvuzeiDroDZzkIziGD+Xqz510W0Q+IzUEkWfEhsKLFnT/IDyRJ51IOYwUp5FRRJ5yYlQQ0iwCCNuTSM0qH89bKyIfr2v7Bx98cIluY/u139rHnGK+1SDyWHQYeWcfuHi5ss+sQIxTvBGIPDc3aZuOi6kWmchjlaHT7BtQEqKWMGOjRPphdYh8H+arpR/6rrda6UMQeeoG0YJE9BEaqz8DcWYPbcaS9NUi8jU9aPWgTyYKVBykcHxeIs+Hp5j5nvTbLVxzEYk89ZrnuXK+ybxEnnIwXmHEGic1Ip/dSxKBIqYxgHkiz4wOC2RHtW+MpPG4J/LUe5QRjuhlcSbWE3mMoMxM+GvQjnmH7Xsr9APxw2LMCEHuqd+ssimJPKNxHxO29sGXWQBlREdDZIrGpuR8OfkT0in7jjVJTPnkRSXlozj+4ZOBh0sUAUi1Vzi1OPJNgXkD141pY8f7820bBcFIkfuoDU748pp99Y3wYEzzTStMq9o0GefiokJowviy+HKzj1qZcttvv/3S1ltv7Q9Vt5nSyz55xfWHlyjeSxzkZF/t4kZULawnEax8pCGyoVgIwUhb8MJUI1Nve+21l08uq/6jK1ArwyrvxKgVMWxmLdLOCSecUFyfYtUYQEEG6HCj7LnnniXcZOygmXblK8QmRD1C4UXFah0qLlH2LKeZcbLyR/1G6zlx6omOcNBBB3Wmj2n3eWHaqOKaY9IPDRQTbSyifpio4gNmqukjewfsMvFdog+IXyYlL+8Llkv0VRT6QNwyiZwWxX8NFcsh/UKMyW5xxyFXvCsmFimNQXAMzXrssceWsnAJ9YIeJDyffVXaH2Ob+99nn31ayfQZ5t7YOjBih7rhVhRdQvwpuJASWSf7M/vkubajocximfsZZNO/kfjxwSKvJ6nIrM/V30R0TWHWgIHWtIInATqxxn8oC11N5Jg+yzfnw5Fiv+nrQUQ+ngkDTHP/4jhhnWnDPNcouCnzRVz6Xy+GvaXhJsTHv2LIU65HhDVcfr34vh+DDjOzXmo4wuvob71MYnjw+eP2piTyEYT13scHHGWCuw3klE/BR7/ASevolS7n9MXznrS89cjHywQWkOGTTjop5YUqaccddyx/uNJ4a9F61G+aa1J/3IW2bNlSYibzbYDNIhBXwjQytcn6gN13371K/BcNjxqRtw9O4ad54oknJgaUTNuO+yT8EPcm/dBGcSPph/adrc0e7QkyzIwh8bVpxzvssMPaXLxyFZ4nX5tlcMDgbda+r1L0REmsYaG/oQ/GMgwmfMeFvsbWgU1U0DpnWqTnSl3QlbQxdCQDRVyGt99++4lQyotACzHnuWDkxLLN30477VR85kcVwsf6IPVYyNHTrGuyEJSjzvPHGByZezODnHms5b7c1doWkV8tZNehXEaDjAq9mEXEp2lbCAiBfgRGEfn+sxb/iPTD4j8j1VAICAEhMC0CIvLTIrZA+bFYMwV5yimnJNwZmCby4qOC+HRtC4GNhgBrNnCTmkeIZoRbwEYh8tIP87QGnSsE2ggcc8wx5QOF7dTp9vAPx11HIgSGREBEfkg017gsQjXGL+P5KvjFID5d20JgoyEQv3Q4y/3he8k6jY1C5KUfZmkFOkcI1BFggSzrA+aRQw45pBPVZJ7ydK4QAAER+SVuB6M66iOOOKITs3SJb1VVFwIjERCR78Ij/dDFRClCYFYERORnRU7nrTYCIvKrjfAqls+CDKLYmLCgko/vsOCVRUMSIbBZEOBdYBHqPMKCP6JyEJLUhwcl7BiRhpZNpB+W7YmpvouMAIsfWbg/j9A/s/BfIgSGREBEfkg0VZYQEAJCQAgIASEgBISAEFgjBETk1whoXUYICAEhIASEgBAQAkJACAyJgIj8kGiqLCEgBISAEBACQkAICAEhsEYIiMivEdC6jBAQAkJACAgBISAEhIAQGBIBEfkh0VRZQkAICAEhIASEgBAQAkJgjRAQkV8joHUZISAEhIAQEAJCQAgIASEwJAIi8kOiqbKEgBAQAkJACAgBISAEhMAaISAiv0ZA6zJCQAgIASEgBISAEBACQmBIBETkh0RTZQkBISAEhIAQEAJCQAgIgTVCQER+jYDWZYSAEBACQkAICAEhIASEwJAIiMgPiabKEgJCQAgIASEgBISAEBACa4SAiPwaAa3LCAEhIASEgBAQAkJACAiBIREQkR8STZUlBISAEBACQkAICAEhIATWCAER+TUCWpcRAkJACAgBISAEhIAQEAJDIiAiPySaKksICAEhIASEgBAQAkJACKwRAiLyawS0LiMEhIAQEAJCQAgIASEgBIZEQER+SDRVlhAQAkJACAgBISAEhIAQWCME/gcAAP//GHvxQwAAFrJJREFU7Z0HlNVEF8cHRbE3FBURQVkVFbAgig0bKPaGvTfsvWHDioqiHrtYsfeOFfHYu1hAUUTsKFasgIXP3xxvvnmT5C0Lb9m89X/PYZNMJsnk98jMnTt37jSZ/I+4f2TUqFFsJCIgAiIgAiIgAiIgAiIgAgUnUFNT45pIkS/4r6TiiYAIiIAIiIAIiIAIiEBEoESRnzBhQnRahyIgAiIgAiIgAiIgAiIgAkUkMMsss/zfIi9Fvog/kcokAiIgAiIgAiIgAiIgAmkCUuTTTJQiAiIgAiIgAiIgAiIgAoUnIEW+8D+RCigCIiACIiACIiACIiACaQJS5NNMlCICIiACIiACIiACIiAChScgRb7wP5EKKAIiIAIiIAIiIAIiIAJpAlLk00yUIgIiIAIiIAIiIAIiIAKFJyBFvvA/kQooAiIgAiIgAiIgAiIgAmkCUuTTTJQiAiIgAiIgAiIgAiIgAoUnIEW+8D+RCigCIiACIiACIiACIiACaQJS5NNMlCICIiACIiACIiACIiAChScgRb7wP5EKKAIiIAIiIAIiIAIiIAJpAlLk00yUIgIiIAIiIAIiIAIiIAKFJyBFvvA/kQooAiIgAiIgAiIgAiIgAmkCUuTTTJQiAiIgAiIgAiIgAiIgAoUnIEW+8D+RCigCIiACIiACIiACIiACaQJS5NNMlCICIiACIiACIiACIiAChScgRb7wP5EKKAIiIAIiIAIiIAIiIAJpAlLk00yUIgIiIAIiIAIiIAIiIAKFJyBFvvA/kQooAiIgAiIgAiIgAiIgAmkC9arI//zzz+7DDz90zZs3d4suuqhr0qRJugRKEQEREAERKASBp556yv34449JWTp16uQWX3zx5LjcznvvvedGjhyZZGnZsqVbZZVVkuOG2Jk0aZIbPHiwf/QiiyziunTp0hDF0DNFQAREoN4IVFyRnzBhghswYIB7/vnn3ccff5wUfPbZZ3crrrii6927t98mJ7QjAo2cwE8//eRuuukmN2LECN+x/f77791SSy3l2rVr53bYYQe/38gR6PWqhMCmm27qRo8enZR2k002cf3790+Oy+3svffe7oUXXkiyrLPOOu7SSy9Njhti59tvv3VrrbWWf/S6667rLrnkkoYohp4pAiIwlQTQKZ9++mk3fPhwN2zYMK9XYiRo06aNW3XVVR111kwzzZR7d9pfrn/nnXfcm2++6caMGeNatWrlampq3PLLL++23XZb17Rp09zr33rrLTd06FCHoeLdd9918847r1tsscVcz549Xffu3d3MM8+cey0nKPNdd93lRo0a5X7//XfXoUMHt9JKK7nOnTv7+5S9eApPVlSR/+WXX9z+++/vXn/99bKPv+aaa1zXrl3L5tFJEWgMBJ599lnXp08fh/KeJ7vttps75phjNGKVB0jp041ArMjzYOrzWWedtWwZQoXZMkqRNxLaioAITA0BlPiDDjqoxEAQ32fBBRd0l112mWvfvn18yn333Xdu9913LzFOxJmWWWYZb6yIRx7//vtvd+2117rzzz8/viQ5XmKJJRz6bIsWLZI02+H6vn37urvvvtuSUtsLL7zQ9ejRI5Ve14SKKvKxRaZcYe69915ZIssB0rmqJ/D555+XfKSMSjG0j4sZloFQuT/uuOPcrrvuWvXvrBeobgJZivyUNDZ33HGHO+WUU0pevgiKPMalE0880ZerY8eObs899ywpow5EQASKSQAlHsPwyy+/nBQQpR1L+nPPPZeksYPrNlbvOeecM0kfN26cV+JDzxCs+EsvvbT79NNPvXXdMnP9/fff71CITQYOHOio+0zmm28+h6sh7TZWehPuiT7brFkzS/JbPFNQ8k1o/7mea3/99VdLdjxnjTXWSI6nZqdiijxgNtxww5IydOvWzW200UYeWjzESi8JK6REBBorAf5/P/TQQ/711lxzTe9yNsccc/hjfHcvuOACN2jQoOT133jjjZKKJDmhHRGYTgSyFPkNNtjA/18tVwTq81deeaUkSxEU+ZIC6UAERKBqCDz44IPu2GOP9eVFCb766qu9IkzCxIkT3UsvveSOOuqoRCnGkICbjMnZZ5/tbrjhBn+IEn7zzTeXuLK8+OKL7pBDDkmuP+yww9y+++7r83/zzTcO/dXkiCOOcHvssYebccYZfdJHH33kjjzySPf+++/7Y8oRGglifRhD3U477eSv/+uvv3y7f95559nt/YjDPPPMkxzXdadiinzce4l7Kddff32JryVg8VsyMHUtuPKLQNEJ0Ms2qzsVCj5xofBBb7HFFsmw32233eawGkpEoKEIhIo8dbhZs1DSrRMalw3L19prr+2Tw2vqS5Hnu/nyyy/dF1984dhv27atW2ihhdwMM8wQF61Ox1999ZX/Fulk44OLH2xooavTzZRZBERgmgigVJvl/fLLLy9RrO3GDzzwgENJRrbbbjvvysI+9QL+82b5vu+++9ySSy7JqRK58847k2twscGqj+CqY/NpttxyS3fmmWeWXMcBgVw222wzn44+ixutBXQ57bTTHO050qtXL3fqqaf6ffszefJk7zJEcAHkjDPOcFtttZWdrvO2Yop82ABQithVgAkHgA0lS7kJz2tfBKqVwG+//ZYo7lgTGB7MUjRCq/2VV17psNxLRKChCIT1+MEHH+wuvvhiXxSsR4yuZgkNFg0XEl4TK/I0ZrfffrvP9+ijj7rWrVv7/fAPjSEBEZC4ccPnlAg055xzTtJBDq+l4ef5oXFo/PjxvrP8xx9/uPXXXz/l/sP1jz32mDv99NNT9+S73WeffbzLmxT6kLT2RaD+CVB/fP311/5BtJ+h24w9nQmoW2+9tT/EcIZBGaGjz/eO4I5jCrNPCP7ElncmxFJ/YJ1//PHHfU583LP87zm5yy67JHNC6VQQwAIJjXh512PIxnUIIbrXdddd5/en5k9FFHl6F8suu2zJ8ylUHHos/GHITC+H3o5EBBojgZVXXjmxCFCRUKGEgg8gM9+tssINJ55wE+bXvgjUN4FQkcfv0+rnchFfwsYMX3kb3o4V+eOPP95hGUPy/q/znRx44IE+z8knn+y23357v88f/FWtoU4Sox2iQZDHJueGk3Djd8Bqx/A7Q+7lhFGzfv36lcuicyIgAhUmQD1ClBc6/LFrtj3q4Ycf9u41HIcWefzQiQiH4PKdN2E1NjBzHRFwMFrYaGS5yf7Mv7nnnnv8czAG0Kn47LPPHO6ISGyp94n//omfbZ2IMM+U7ldEkSdefKy0P/HEE464vaHEk2Fjv6Iwr/ZFoNoJhB/5csst5+eErLDCCr7HzzfDh28+9AzroQRlWe2rnYPKXz0EQkUeK9hee+3lw77xBvikzjXXXCUvQycUhR2h8cIiTshKpJKK/AcffOAt69wXSznPQWmnAcNP9dxzz006xPiz0tYg5RR5vr1wnhaTzVdffXX/joTRtNEI7sP+euutx65EBESgAAQIJkH9hOKMhJPyWQvDJsni7ke45yxhNO7www/3p8iD8QKJ68Gs0QDy4WM/ZMgQdr0Vn1FBQlUSaQcp14ngPHWmlZ86Z2r95CuiyMeO/RQQ3yZ6I6GEL006kweOPvroMIv2RaDREPjhhx/8BBibEMOLoYTge0s8WhO+E2a351U2lk9bEahvAmEDhuLOhDPzD8V6bT6hVo5bbrnFu8BwTEPK0HJ9KPKEgbPJYTS8uLyEErZBrFfCug1IniIfj4YxqY4wsKEwuc4seVja6HhLREAEGoYA/u648WEEw6UGNzwTFGK+VfNRt/RyW+bYMNpmfvT77befV8y5BiMz1n6EuoQ6JRZG9HDfsRF1C+BCZ+CEE07w2Zngavvx9RwzamARcPJGKbOui9MqosiHwxj2gKzhCPzm8SMyoVGgcZCIQGMlEPvgZb2nXMyyqCitIQjEijxD22ZxZ/4G8zhC2XnnnR3RlhDq/LFjx9aLIo8SjzKPYI0331Kf8O8fAiowuZwFWzASIXmKfGiNp5G+8cYbU0oAVr3VVlvN36ecn63PoD8iIAL1SiAO52wPI5Y7fui1Lcxk+dninx5GvInDT4aGA/zdmWwbzr3hHszxDPVXXIGInBMGdsFN0FwFuSYW6jHKguR1GOJrso4roshTkVOhh5IVSi/0kSQvfkhmZQmv1b4INAYCFh7LItfwTigE+O+a/529Z209d8unrQjUJ4FYkceVJvSBZ8VuFGUknFBmK8ASlq0+LPKhLyzPxnd/8803d7iqlVvVMU+Rx1WGxhlhOJzJbVmC5Q8LIM/gWRIREIGGIYDlm7rFLOhhKRjNZhJ8VmSaMB91Fm54uNSY0CZjoAiv5RlY+a3txnWceoLoWNQH+MXjChsK7ny49YURb3Ddw1KfJyj5NhEXYwLuglMjFVHkw8rbCpHl7xPOBCYfyj/KvUQEGhsB3GrwtzXBqsn/dZs3QlQbeu4W4op8TOgx66ddp60ITE8CWYo8kWYsfFoYSYaG56yzzvLF4/8xk0nDtqCSPvIs7ESDGLqkGRdGCng2ljP7vuxcniIfDp2Xi8hj99FWBESgGARwaaF9xbXmiiuuSHzMcVFFKc7q2ONKh5U9bG95G+o72uW555479XJhVJnUyX8TcJW1jgVu4owEhu6GuJPjspMn4YhmGPUmL39eekUU+Vhp4WFPPvmkW3jhhUueS4/G4oJyIgzAX5JRByJQ5QSI2kTPH8FagDKUNfQXRuKY1hBUVY5MxS8AgSxFPnQPw9UE33GEoeThw4f7fRuBnVZFnpBvZh2Po9YQ5YHvxeIz+wdHf/iG+O7mn39+fyZPkd9mm22STgE+rZqfEoHUoQhUAQEs7IzMmTKdFW+eUTUWbwpHwXHHOemkk/xK6+Vek1jxuIRnGRBQ0Flbw7xKzEU2rMNYJAqjQZ6Ek12feeaZpN7Ky5+XXhFFnh5Shw4dSp5BSK94KDIM6UNmYg9ToUpEoLERCOeD9O3b14fGynpHFqHBmojQu3/11VezsilNBKYLgSxFngdjabIoEDQ4WLh69OjhyxTOdZpWRR5fVxpYJFbkfeI/fxjapiz8w9UnbKDJQwQolP2mTZvm+siHlrBpmWRmZdJWBESgcgSYiGpBInB5adWqVe7NmUxq0WbYx03VJFSqSaONxQJPnRX7vNs1WVuMGdRtGAYIEU1HAMMck+QJCICwuBRh2F977TW/9gRpTIa96KKL2M2UMET122+/7euszIy1JFZEkecZYQB8juNKmElTsf9PVu+JayUiUO0Ewkks5Vxm4k7wiBEjUpPuqp2Fyl89BPIU+VDBZkIXrmH9+/f3L4ZPqK3sOqWKPI0fjWEs4QhV3IbEee2YRp8FpgYMGGBJvmHHyp5nkaezwDshRIzq2rVrcm24Qx78ZGm046g2YT7ti4AIVI5AGPmltgmjuMtQByGEfN5xxx39PnHZiS1vguGB77558+aWlLtlATn+ISjJWWGhw6g1dBCYE0fnIJw7RDqrYmdF0wlD6oaRtnILVeZExRR5JhoMGjQoeVSXLl38SlX2AvFkJTJmRbZJbqAdEahiAoTCMheEci5kKCHdu3f3b0qs+XgCTRUjUNGrkECeIo8yi7EGwSCDYcaGm4cNG+aaNWvmz5VT5Bl6tsWXsow4NIyEgxs9erS/V6jIM5qLa01NTU3uCojc02K/m997niKP8m6Kf95EcyyCtiCWvk3/k+iPCEwXAmEAldCdL+vh4YTRcCHScJI+nXCs51MqYV2FXovlPBbcx4mghdhkf8sTuh1eddVVJfPlLE/YAcH9BjecqZWKKfIMC4Sr8FEgrJL4LxHwHog2A5hzWi0PCpLGSiDsuNIrf+SRRzL933C7YUgOIaasuRU0Vi56r2ITyFPkKXXv3r1LYjeThqJLo2dSTpEn0gMWMyRrDZGwYSNPqMiHrjBZiw2SP7TmWyi3PEU+XH2Ra4liQQi6UIg4gdsNwgIvBxxwQHha+yIgAvVEIF71NE+Zjiek2vpFuP5Z7Hc64bfeemudXGkwOFi9xqJT+NiHMmnSJG/5N2NGHHGG59m6E0TFof1H2TZh3QtGDkwnzhuhtPy1bSumyE+ePNmvYmWrVNX24HLDmbVdq/MiUHQCVES9evUqmVGPb17Hjh0dq8TxIWM9wCXAJE9BsfPaikB9EyinyBNVgbkfoRC2jagxJuUUeSadsbCSyaGHHuqt/CjbNMBmrbfzoSI/cOBAr6hzDpecfv36eV94hrI/+eQTh9++RdAhj02+zVPkyROOIhPxgoYXH9eJEyf6kTHaKJPBgwe7tm3b2qG2IiAC9UwA33Ki0pjQse7cubNr0aKFd5nDWGZrS5AndMEJ/dTpoGdZ1O2+tmVU0QxpTHINF7/r06ePr7tmm202N2bMGO9nbws5MVJJ/RQKCjrXm6LOJHwMdYwoUg9Sf9m5cI5ReI+67FdMkeehvCDDGVbAvIJYmJ6880oXgcZAIByar+19CO+H4i8RgYYkUE6Rj61kjDQx2TSMxlROkf/zzz+9JR6XyjzBbcfOh4o8FjYb3Q2vpQwWscLSza2G43KK/Pjx431oOGuQ7fp4i8IPF4kIiMD0I8CkdoKhTIlxuFOnTn6BJgs9GXb861Jis7BzTbjWRN496CRgjadzEQudAZT3uH4K83E9BgyLshWeq8t+RRV5HozPL5aWEIgViEoXJR7/IYkI/BcI0LmlQggt7+F78yHTO48ngod5tC8C04sArjIWLYJJWoRXCwUXk6FDh/okOp4WX97y8P9944039odZERtQyBmmtkVQ7Dq2LKbCpFmzhDGpNmwraNCxjGFtzxKs6kSt6NmzZ3Iao5L59jPZDfebUBgiJ1xlPBpAHiz/+K5269YtvET7IiAC04kAc3GYVE/45ixBp2QOGpNaiVJlQvz2IUOG2OEUb0O9lTk7RL8yF5v4JqyTQX3TsmXL+FRyTHhe6ruszggjmdx7WpV4HlZxRd7egN7UyJEjfWgwVgds376990G0ya+WT1sR+C8Q4EOmh45LDT30Nm3a+H/t2rUrsWj+F1joHUWAb4CoDWPHjvWLOBHSDZez2gQXTjoLTLBlpUeOaUhZCAq3NRq0qRE6GHyffKd0Xgh317p16zr51U7Nc3WNCIhA7QTGjRvnXej49omYhQWc7xN3N5T5+hSMARg3cOGj3lpggQX8uhN1WXuCugoDBPULq8MSIpe2v1JSb4p8pQqo+4iACIiACIiACIiACIiACKQJSJFPM1GKCIiACIiACIiACIiACBSegBT5wv9EKqAIiIAIiIAIiIAIiIAIpAlIkU8zUYoIiIAIiIAIiIAIiIAIFJ6AFPnC/0QqoAiIgAiIgAiIgAiIgAikCUiRTzNRigiIgAiIgAiIgAiIgAgUnoAU+cL/RCqgCIiACIiACIiACIiACKQJSJFPM1GKCIiACIiACIiACIiACBSegBT5wv9EKqAIiIAIiIAIiIAIiIAIpAlIkU8zUYoIiIAIiIAIiIAIiIAIFJ6AFPnC/0QqoAiIgAiIgAiIgAiIgAikCUiRTzNRigiIgAiIgAiIgAiIgAgUnoAU+cL/RCqgCIiACIiACIiACIiACKQJSJFPM1GKCIiACIiACIiACIiACBSegBT5wv9EKqAIiIAIiIAIiIAIiIAIpAlIkU8zUYoIiIAIiIAIiIAIiIAIFJ6AFPnC/0QqoAiIgAiIgAiIgAiIgAikCUiRTzNRigiIgAiIgAiIgAiIgAgUnoAU+cL/RCqgCIiACIiACIiACIiACKQJoMj/D2t+2Vq5yZOPAAAAAElFTkSuQmCC)"
      ]
    },
    {
      "cell_type": "code",
      "execution_count": null,
      "metadata": {
        "colab": {
          "base_uri": "https://localhost:8080/",
          "height": 81
        },
        "id": "nRX37FxeWitS",
        "outputId": "914bfde6-318e-47f7-ac65-10ca18dd846d"
      },
      "outputs": [
        {
          "data": {
            "application/vnd.google.colaboratory.intrinsic+json": {
              "summary": "{\n  \"name\": \"              limit 1\\\"\\\"\\\", conn)\",\n  \"rows\": 1,\n  \"fields\": [\n    {\n      \"column\": \"PlaylistId\",\n      \"properties\": {\n        \"dtype\": \"number\",\n        \"std\": null,\n        \"min\": 8,\n        \"max\": 8,\n        \"num_unique_values\": 1,\n        \"samples\": [\n          8\n        ],\n        \"semantic_type\": \"\",\n        \"description\": \"\"\n      }\n    },\n    {\n      \"column\": \"nom_playlist\",\n      \"properties\": {\n        \"dtype\": \"string\",\n        \"num_unique_values\": 1,\n        \"samples\": [\n          \"Music\"\n        ],\n        \"semantic_type\": \"\",\n        \"description\": \"\"\n      }\n    },\n    {\n      \"column\": \"nombre_morceaux\",\n      \"properties\": {\n        \"dtype\": \"number\",\n        \"std\": null,\n        \"min\": 3290,\n        \"max\": 3290,\n        \"num_unique_values\": 1,\n        \"samples\": [\n          3290\n        ],\n        \"semantic_type\": \"\",\n        \"description\": \"\"\n      }\n    }\n  ]\n}",
              "type": "dataframe"
            },
            "text/html": [
              "\n",
              "  <div id=\"df-3d8152e4-4462-496b-9099-451bd05bca4f\" class=\"colab-df-container\">\n",
              "    <div>\n",
              "<style scoped>\n",
              "    .dataframe tbody tr th:only-of-type {\n",
              "        vertical-align: middle;\n",
              "    }\n",
              "\n",
              "    .dataframe tbody tr th {\n",
              "        vertical-align: top;\n",
              "    }\n",
              "\n",
              "    .dataframe thead th {\n",
              "        text-align: right;\n",
              "    }\n",
              "</style>\n",
              "<table border=\"1\" class=\"dataframe\">\n",
              "  <thead>\n",
              "    <tr style=\"text-align: right;\">\n",
              "      <th></th>\n",
              "      <th>PlaylistId</th>\n",
              "      <th>nom_playlist</th>\n",
              "      <th>nombre_morceaux</th>\n",
              "    </tr>\n",
              "  </thead>\n",
              "  <tbody>\n",
              "    <tr>\n",
              "      <th>0</th>\n",
              "      <td>8</td>\n",
              "      <td>Music</td>\n",
              "      <td>3290</td>\n",
              "    </tr>\n",
              "  </tbody>\n",
              "</table>\n",
              "</div>\n",
              "    <div class=\"colab-df-buttons\">\n",
              "\n",
              "  <div class=\"colab-df-container\">\n",
              "    <button class=\"colab-df-convert\" onclick=\"convertToInteractive('df-3d8152e4-4462-496b-9099-451bd05bca4f')\"\n",
              "            title=\"Convert this dataframe to an interactive table.\"\n",
              "            style=\"display:none;\">\n",
              "\n",
              "  <svg xmlns=\"http://www.w3.org/2000/svg\" height=\"24px\" viewBox=\"0 -960 960 960\">\n",
              "    <path d=\"M120-120v-720h720v720H120Zm60-500h600v-160H180v160Zm220 220h160v-160H400v160Zm0 220h160v-160H400v160ZM180-400h160v-160H180v160Zm440 0h160v-160H620v160ZM180-180h160v-160H180v160Zm440 0h160v-160H620v160Z\"/>\n",
              "  </svg>\n",
              "    </button>\n",
              "\n",
              "  <style>\n",
              "    .colab-df-container {\n",
              "      display:flex;\n",
              "      gap: 12px;\n",
              "    }\n",
              "\n",
              "    .colab-df-convert {\n",
              "      background-color: #E8F0FE;\n",
              "      border: none;\n",
              "      border-radius: 50%;\n",
              "      cursor: pointer;\n",
              "      display: none;\n",
              "      fill: #1967D2;\n",
              "      height: 32px;\n",
              "      padding: 0 0 0 0;\n",
              "      width: 32px;\n",
              "    }\n",
              "\n",
              "    .colab-df-convert:hover {\n",
              "      background-color: #E2EBFA;\n",
              "      box-shadow: 0px 1px 2px rgba(60, 64, 67, 0.3), 0px 1px 3px 1px rgba(60, 64, 67, 0.15);\n",
              "      fill: #174EA6;\n",
              "    }\n",
              "\n",
              "    .colab-df-buttons div {\n",
              "      margin-bottom: 4px;\n",
              "    }\n",
              "\n",
              "    [theme=dark] .colab-df-convert {\n",
              "      background-color: #3B4455;\n",
              "      fill: #D2E3FC;\n",
              "    }\n",
              "\n",
              "    [theme=dark] .colab-df-convert:hover {\n",
              "      background-color: #434B5C;\n",
              "      box-shadow: 0px 1px 3px 1px rgba(0, 0, 0, 0.15);\n",
              "      filter: drop-shadow(0px 1px 2px rgba(0, 0, 0, 0.3));\n",
              "      fill: #FFFFFF;\n",
              "    }\n",
              "  </style>\n",
              "\n",
              "    <script>\n",
              "      const buttonEl =\n",
              "        document.querySelector('#df-3d8152e4-4462-496b-9099-451bd05bca4f button.colab-df-convert');\n",
              "      buttonEl.style.display =\n",
              "        google.colab.kernel.accessAllowed ? 'block' : 'none';\n",
              "\n",
              "      async function convertToInteractive(key) {\n",
              "        const element = document.querySelector('#df-3d8152e4-4462-496b-9099-451bd05bca4f');\n",
              "        const dataTable =\n",
              "          await google.colab.kernel.invokeFunction('convertToInteractive',\n",
              "                                                    [key], {});\n",
              "        if (!dataTable) return;\n",
              "\n",
              "        const docLinkHtml = 'Like what you see? Visit the ' +\n",
              "          '<a target=\"_blank\" href=https://colab.research.google.com/notebooks/data_table.ipynb>data table notebook</a>'\n",
              "          + ' to learn more about interactive tables.';\n",
              "        element.innerHTML = '';\n",
              "        dataTable['output_type'] = 'display_data';\n",
              "        await google.colab.output.renderOutput(dataTable, element);\n",
              "        const docLink = document.createElement('div');\n",
              "        docLink.innerHTML = docLinkHtml;\n",
              "        element.appendChild(docLink);\n",
              "      }\n",
              "    </script>\n",
              "  </div>\n",
              "\n",
              "\n",
              "    </div>\n",
              "  </div>\n"
            ],
            "text/plain": [
              "   PlaylistId nom_playlist  nombre_morceaux\n",
              "0           8        Music             3290"
            ]
          },
          "execution_count": 252,
          "metadata": {},
          "output_type": "execute_result"
        }
      ],
      "source": [
        "pd.read_sql(\"\"\"select Playlist.PlaylistId, Playlist.name as nom_playlist, count(distinct Track.TrackId) as nombre_morceaux\n",
        "              from Playlist\n",
        "              join PlaylistTrack on PlaylistTrack.PlaylistId = Playlist.PlaylistId\n",
        "              join Track on Track.TrackId = PlaylistTrack.TrackId\n",
        "              group by Playlist.PlaylistId\n",
        "              order by nombre_morceaux desc\n",
        "              limit 1\"\"\", conn)"
      ]
    },
    {
      "cell_type": "markdown",
      "metadata": {
        "id": "ZIzHZKK6la15"
      },
      "source": [
        "> Renvoyer les noms d'artistes, leur nombre de morceaux et leur nombre d'albums par artiste, dans l'ordre décroissant par rapport au nombre de morceaux."
      ]
    },
    {
      "cell_type": "markdown",
      "metadata": {
        "id": "cv8E1_CllfB8"
      },
      "source": [
        "Résultat attendu:\n",
        "\n",
        " ![Solution req 3.png](data:image/png;base64,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)"
      ]
    },
    {
      "cell_type": "code",
      "execution_count": null,
      "metadata": {
        "colab": {
          "base_uri": "https://localhost:8080/",
          "height": 206
        },
        "id": "4nv-8D1NiJUA",
        "outputId": "71f9ef6c-600e-4b63-a5c3-3f1d9e319d27"
      },
      "outputs": [
        {
          "data": {
            "application/vnd.google.colaboratory.intrinsic+json": {
              "summary": "{\n  \"name\": \"              limit 5\\\"\\\"\\\", conn)\",\n  \"rows\": 5,\n  \"fields\": [\n    {\n      \"column\": \"Nom_artiste\",\n      \"properties\": {\n        \"dtype\": \"string\",\n        \"num_unique_values\": 5,\n        \"samples\": [\n          \"U2\",\n          \"Lost\",\n          \"Led Zeppelin\"\n        ],\n        \"semantic_type\": \"\",\n        \"description\": \"\"\n      }\n    },\n    {\n      \"column\": \"Nombre_de_morceaux\",\n      \"properties\": {\n        \"dtype\": \"number\",\n        \"std\": 47,\n        \"min\": 92,\n        \"max\": 213,\n        \"num_unique_values\": 5,\n        \"samples\": [\n          135,\n          92,\n          114\n        ],\n        \"semantic_type\": \"\",\n        \"description\": \"\"\n      }\n    },\n    {\n      \"column\": \"Nombre_albums\",\n      \"properties\": {\n        \"dtype\": \"number\",\n        \"std\": 6,\n        \"min\": 4,\n        \"max\": 21,\n        \"num_unique_values\": 4,\n        \"samples\": [\n          10,\n          4,\n          21\n        ],\n        \"semantic_type\": \"\",\n        \"description\": \"\"\n      }\n    }\n  ]\n}",
              "type": "dataframe"
            },
            "text/html": [
              "\n",
              "  <div id=\"df-caa4b9f7-7e74-4595-97f3-435462ed95a2\" class=\"colab-df-container\">\n",
              "    <div>\n",
              "<style scoped>\n",
              "    .dataframe tbody tr th:only-of-type {\n",
              "        vertical-align: middle;\n",
              "    }\n",
              "\n",
              "    .dataframe tbody tr th {\n",
              "        vertical-align: top;\n",
              "    }\n",
              "\n",
              "    .dataframe thead th {\n",
              "        text-align: right;\n",
              "    }\n",
              "</style>\n",
              "<table border=\"1\" class=\"dataframe\">\n",
              "  <thead>\n",
              "    <tr style=\"text-align: right;\">\n",
              "      <th></th>\n",
              "      <th>Nom_artiste</th>\n",
              "      <th>Nombre_de_morceaux</th>\n",
              "      <th>Nombre_albums</th>\n",
              "    </tr>\n",
              "  </thead>\n",
              "  <tbody>\n",
              "    <tr>\n",
              "      <th>0</th>\n",
              "      <td>Iron Maiden</td>\n",
              "      <td>213</td>\n",
              "      <td>21</td>\n",
              "    </tr>\n",
              "    <tr>\n",
              "      <th>1</th>\n",
              "      <td>U2</td>\n",
              "      <td>135</td>\n",
              "      <td>10</td>\n",
              "    </tr>\n",
              "    <tr>\n",
              "      <th>2</th>\n",
              "      <td>Led Zeppelin</td>\n",
              "      <td>114</td>\n",
              "      <td>14</td>\n",
              "    </tr>\n",
              "    <tr>\n",
              "      <th>3</th>\n",
              "      <td>Metallica</td>\n",
              "      <td>112</td>\n",
              "      <td>10</td>\n",
              "    </tr>\n",
              "    <tr>\n",
              "      <th>4</th>\n",
              "      <td>Lost</td>\n",
              "      <td>92</td>\n",
              "      <td>4</td>\n",
              "    </tr>\n",
              "  </tbody>\n",
              "</table>\n",
              "</div>\n",
              "    <div class=\"colab-df-buttons\">\n",
              "\n",
              "  <div class=\"colab-df-container\">\n",
              "    <button class=\"colab-df-convert\" onclick=\"convertToInteractive('df-caa4b9f7-7e74-4595-97f3-435462ed95a2')\"\n",
              "            title=\"Convert this dataframe to an interactive table.\"\n",
              "            style=\"display:none;\">\n",
              "\n",
              "  <svg xmlns=\"http://www.w3.org/2000/svg\" height=\"24px\" viewBox=\"0 -960 960 960\">\n",
              "    <path d=\"M120-120v-720h720v720H120Zm60-500h600v-160H180v160Zm220 220h160v-160H400v160Zm0 220h160v-160H400v160ZM180-400h160v-160H180v160Zm440 0h160v-160H620v160ZM180-180h160v-160H180v160Zm440 0h160v-160H620v160Z\"/>\n",
              "  </svg>\n",
              "    </button>\n",
              "\n",
              "  <style>\n",
              "    .colab-df-container {\n",
              "      display:flex;\n",
              "      gap: 12px;\n",
              "    }\n",
              "\n",
              "    .colab-df-convert {\n",
              "      background-color: #E8F0FE;\n",
              "      border: none;\n",
              "      border-radius: 50%;\n",
              "      cursor: pointer;\n",
              "      display: none;\n",
              "      fill: #1967D2;\n",
              "      height: 32px;\n",
              "      padding: 0 0 0 0;\n",
              "      width: 32px;\n",
              "    }\n",
              "\n",
              "    .colab-df-convert:hover {\n",
              "      background-color: #E2EBFA;\n",
              "      box-shadow: 0px 1px 2px rgba(60, 64, 67, 0.3), 0px 1px 3px 1px rgba(60, 64, 67, 0.15);\n",
              "      fill: #174EA6;\n",
              "    }\n",
              "\n",
              "    .colab-df-buttons div {\n",
              "      margin-bottom: 4px;\n",
              "    }\n",
              "\n",
              "    [theme=dark] .colab-df-convert {\n",
              "      background-color: #3B4455;\n",
              "      fill: #D2E3FC;\n",
              "    }\n",
              "\n",
              "    [theme=dark] .colab-df-convert:hover {\n",
              "      background-color: #434B5C;\n",
              "      box-shadow: 0px 1px 3px 1px rgba(0, 0, 0, 0.15);\n",
              "      filter: drop-shadow(0px 1px 2px rgba(0, 0, 0, 0.3));\n",
              "      fill: #FFFFFF;\n",
              "    }\n",
              "  </style>\n",
              "\n",
              "    <script>\n",
              "      const buttonEl =\n",
              "        document.querySelector('#df-caa4b9f7-7e74-4595-97f3-435462ed95a2 button.colab-df-convert');\n",
              "      buttonEl.style.display =\n",
              "        google.colab.kernel.accessAllowed ? 'block' : 'none';\n",
              "\n",
              "      async function convertToInteractive(key) {\n",
              "        const element = document.querySelector('#df-caa4b9f7-7e74-4595-97f3-435462ed95a2');\n",
              "        const dataTable =\n",
              "          await google.colab.kernel.invokeFunction('convertToInteractive',\n",
              "                                                    [key], {});\n",
              "        if (!dataTable) return;\n",
              "\n",
              "        const docLinkHtml = 'Like what you see? Visit the ' +\n",
              "          '<a target=\"_blank\" href=https://colab.research.google.com/notebooks/data_table.ipynb>data table notebook</a>'\n",
              "          + ' to learn more about interactive tables.';\n",
              "        element.innerHTML = '';\n",
              "        dataTable['output_type'] = 'display_data';\n",
              "        await google.colab.output.renderOutput(dataTable, element);\n",
              "        const docLink = document.createElement('div');\n",
              "        docLink.innerHTML = docLinkHtml;\n",
              "        element.appendChild(docLink);\n",
              "      }\n",
              "    </script>\n",
              "  </div>\n",
              "\n",
              "\n",
              "<div id=\"df-a53332ec-69d8-412b-8cd3-521c1ba77fd0\">\n",
              "  <button class=\"colab-df-quickchart\" onclick=\"quickchart('df-a53332ec-69d8-412b-8cd3-521c1ba77fd0')\"\n",
              "            title=\"Suggest charts\"\n",
              "            style=\"display:none;\">\n",
              "\n",
              "<svg xmlns=\"http://www.w3.org/2000/svg\" height=\"24px\"viewBox=\"0 0 24 24\"\n",
              "     width=\"24px\">\n",
              "    <g>\n",
              "        <path d=\"M19 3H5c-1.1 0-2 .9-2 2v14c0 1.1.9 2 2 2h14c1.1 0 2-.9 2-2V5c0-1.1-.9-2-2-2zM9 17H7v-7h2v7zm4 0h-2V7h2v10zm4 0h-2v-4h2v4z\"/>\n",
              "    </g>\n",
              "</svg>\n",
              "  </button>\n",
              "\n",
              "<style>\n",
              "  .colab-df-quickchart {\n",
              "      --bg-color: #E8F0FE;\n",
              "      --fill-color: #1967D2;\n",
              "      --hover-bg-color: #E2EBFA;\n",
              "      --hover-fill-color: #174EA6;\n",
              "      --disabled-fill-color: #AAA;\n",
              "      --disabled-bg-color: #DDD;\n",
              "  }\n",
              "\n",
              "  [theme=dark] .colab-df-quickchart {\n",
              "      --bg-color: #3B4455;\n",
              "      --fill-color: #D2E3FC;\n",
              "      --hover-bg-color: #434B5C;\n",
              "      --hover-fill-color: #FFFFFF;\n",
              "      --disabled-bg-color: #3B4455;\n",
              "      --disabled-fill-color: #666;\n",
              "  }\n",
              "\n",
              "  .colab-df-quickchart {\n",
              "    background-color: var(--bg-color);\n",
              "    border: none;\n",
              "    border-radius: 50%;\n",
              "    cursor: pointer;\n",
              "    display: none;\n",
              "    fill: var(--fill-color);\n",
              "    height: 32px;\n",
              "    padding: 0;\n",
              "    width: 32px;\n",
              "  }\n",
              "\n",
              "  .colab-df-quickchart:hover {\n",
              "    background-color: var(--hover-bg-color);\n",
              "    box-shadow: 0 1px 2px rgba(60, 64, 67, 0.3), 0 1px 3px 1px rgba(60, 64, 67, 0.15);\n",
              "    fill: var(--button-hover-fill-color);\n",
              "  }\n",
              "\n",
              "  .colab-df-quickchart-complete:disabled,\n",
              "  .colab-df-quickchart-complete:disabled:hover {\n",
              "    background-color: var(--disabled-bg-color);\n",
              "    fill: var(--disabled-fill-color);\n",
              "    box-shadow: none;\n",
              "  }\n",
              "\n",
              "  .colab-df-spinner {\n",
              "    border: 2px solid var(--fill-color);\n",
              "    border-color: transparent;\n",
              "    border-bottom-color: var(--fill-color);\n",
              "    animation:\n",
              "      spin 1s steps(1) infinite;\n",
              "  }\n",
              "\n",
              "  @keyframes spin {\n",
              "    0% {\n",
              "      border-color: transparent;\n",
              "      border-bottom-color: var(--fill-color);\n",
              "      border-left-color: var(--fill-color);\n",
              "    }\n",
              "    20% {\n",
              "      border-color: transparent;\n",
              "      border-left-color: var(--fill-color);\n",
              "      border-top-color: var(--fill-color);\n",
              "    }\n",
              "    30% {\n",
              "      border-color: transparent;\n",
              "      border-left-color: var(--fill-color);\n",
              "      border-top-color: var(--fill-color);\n",
              "      border-right-color: var(--fill-color);\n",
              "    }\n",
              "    40% {\n",
              "      border-color: transparent;\n",
              "      border-right-color: var(--fill-color);\n",
              "      border-top-color: var(--fill-color);\n",
              "    }\n",
              "    60% {\n",
              "      border-color: transparent;\n",
              "      border-right-color: var(--fill-color);\n",
              "    }\n",
              "    80% {\n",
              "      border-color: transparent;\n",
              "      border-right-color: var(--fill-color);\n",
              "      border-bottom-color: var(--fill-color);\n",
              "    }\n",
              "    90% {\n",
              "      border-color: transparent;\n",
              "      border-bottom-color: var(--fill-color);\n",
              "    }\n",
              "  }\n",
              "</style>\n",
              "\n",
              "  <script>\n",
              "    async function quickchart(key) {\n",
              "      const quickchartButtonEl =\n",
              "        document.querySelector('#' + key + ' button');\n",
              "      quickchartButtonEl.disabled = true;  // To prevent multiple clicks.\n",
              "      quickchartButtonEl.classList.add('colab-df-spinner');\n",
              "      try {\n",
              "        const charts = await google.colab.kernel.invokeFunction(\n",
              "            'suggestCharts', [key], {});\n",
              "      } catch (error) {\n",
              "        console.error('Error during call to suggestCharts:', error);\n",
              "      }\n",
              "      quickchartButtonEl.classList.remove('colab-df-spinner');\n",
              "      quickchartButtonEl.classList.add('colab-df-quickchart-complete');\n",
              "    }\n",
              "    (() => {\n",
              "      let quickchartButtonEl =\n",
              "        document.querySelector('#df-a53332ec-69d8-412b-8cd3-521c1ba77fd0 button');\n",
              "      quickchartButtonEl.style.display =\n",
              "        google.colab.kernel.accessAllowed ? 'block' : 'none';\n",
              "    })();\n",
              "  </script>\n",
              "</div>\n",
              "\n",
              "    </div>\n",
              "  </div>\n"
            ],
            "text/plain": [
              "    Nom_artiste  Nombre_de_morceaux  Nombre_albums\n",
              "0   Iron Maiden                 213             21\n",
              "1            U2                 135             10\n",
              "2  Led Zeppelin                 114             14\n",
              "3     Metallica                 112             10\n",
              "4          Lost                  92              4"
            ]
          },
          "execution_count": 96,
          "metadata": {},
          "output_type": "execute_result"
        }
      ],
      "source": [
        "pd.read_sql(\"\"\"select Artist.name as Nom_artiste, count(Track.TrackId) as Nombre_de_morceaux, count(distinct Album.AlbumId) as Nombre_albums\n",
        "              from Artist\n",
        "              join Album on Album.ArtistId = Artist.ArtistId\n",
        "              join Track on Track.AlbumId = Album.AlbumId\n",
        "              group by Artist.Name\n",
        "              order by Nombre_de_morceaux desc\n",
        "              limit 5\"\"\", conn)"
      ]
    },
    {
      "cell_type": "markdown",
      "metadata": {
        "id": "GkAhAgeJlg77"
      },
      "source": [
        "> Créer une requête qui renvoie le nombre de morceaux distinct dans la table `Track`. On souhaite renvoyer le nombre de morceaux qui ont des noms différents."
      ]
    },
    {
      "cell_type": "markdown",
      "metadata": {
        "id": "ByOwWNcslkuH"
      },
      "source": [
        "Résultat attendu:\n",
        "\n",
        "![Solution req 5.png](data:image/png;base64,iVBORw0KGgoAAAANSUhEUgAAAVEAAABYCAIAAADDbFNpAAAAAXNSR0IArs4c6QAAAARnQU1BAACxjwv8YQUAAAAJcEhZcwAAEnQAABJ0Ad5mH3gAAAyASURBVHhe7Z3vaxtHGsfvX9l3C4KaBhwaqPOmEkccUZKKg+ISjEIMhpgIwgVTbNQKI2KCKKa4F4IQLUKkCCfhZNPiQIMEJnIgJweC/MInvzDSC4PgggQO0QuDb2ae2dWupNWu0myz9n4/5IVndz2anZnPPPNDwX87AQD4CTgPgL+A8wD4CzgPgL+A8wD4CzgPgL+A8wD4CzgPgL+A8wD4CzgPgL+A8wD4CzgPgL+A8wD4CzgPgL84686/TCqMaL4p08DDUGMpyYpMSzovU+GAMnYtWzuWVz4s9SezY4oaXiq25YUzDpwHnmGw853iorjMbryUl5zTaRSzi7PhWwXrDlDPfkXZR/OH8tKHo11dS8WuhVZHL7l7wHngGWzifLrakVec01yL2nYAGee/3XShk1TkK8H5vw44f4qwcP7P4MR5N4Hz/RzmeZtE87W9fPwf51X287nQ7APzgH5YTt+OnA/wulMvhGfvFmpv5Z3KXXYtXiinp84pSiCcetmsPpgaY49dnt+keZrmvJ6/eiESX6vp+VOfuPiv6slBIf4V+1XxwG91eVvQ3ErHqGzKWGg2Wdh1uO4T7b1YKMsipSqH1fQ1/qMppBw3yw9ikQsi+8D5MMt/r/v2Top3cljJ350NsRqQb1dtG9e97WrBcDf2oNzs3m2K2tcZC12Lpct60eTd6Jp2hRqL1SbV7X42wpNq9In2wNtyckJcWTOX0Jr2biE5G6bGHTvHX9DgfE/xBsy9OwfF9O0pejvlnPHtpGz9dF+n95mesYY+PZrfq+UXqfux1k9Xtb4nsah8OdYM4EOOaO+HN5wPqKLL66jxLdnvaV7XSzBVEfeF8wYM+ag/iLol5ydCIVMmauw36a1smzvxuOmBSPaA7p/U16LmsjFCqR3ToGRBb7dTA93SpXbEI28rqct92Rvyty3eoPoxuPG2kgzKqzrqDX1x2yMVEVrdNd21dF6vnEBs8w1LdcpLF1lKXSw6qR2GmFT349j53dWQvNVFK+2Hcl5VzdWrfl/W325I5cN5a2Q3YhrPF1g/Pm4WborkXaqZWlp0WfVGnkJz+3U2KmqZWk46H83WO2Vqv8gvtZPXq7zrUc+W00Vl7Ga2yjQ/bhdFv1S+zNZ4foa2CSbL/IFq+kuekrHrTWGWJSbimw3x8cedWk48f2vTQayXXSqa65Yuu39S/ZEXgPKvPRCdNhDN74v831SzN8QQoM1FbYp3XF3lcVVR/5EqUwk79UouXaRfPtE+KyODT6dZFHH4oma1meP25h2eG59WcOydZw2yeYsXWL21WX+Z5C8TTFZ6IqEVnTINZKHvi3XSaCvO0/1WDPhcjqycv8sAwF6v9sdqcl0rrUA+M3xuP3hNoY84ofl1Pm1pPuF9ofuYXeULZB/A3N6A3pwNeUE2Ejm/nw3zRJipolNe4pfIOnI+zuMKVa74kfKkZqbm/DLdPebZSQmrYmSt/DhmnVYAI+3fYvzuAJyM1oYiUTFEAKRPFCLVskLgMBundOTo4Kh42rt0w74Z2Sn76WosVhZTQXO4lQOuE+f1qQTFQ32O4AD5pqJ+iMHuWTrf2YqL12frplhqrVg90DPq8uedj/6qrVNkMbTHbCqfgPP99NSj3kjU7QY1Rv3XKX5NtCI5LyqUKlc82e+8sckbefn7xjmYRZ+QdwfQ0z8GYigSFUO8FOUpRBrUIUYpnqUkEpl/P1LjTiXVN/PnjOQ8e+6JVkt3uv7aIl9tKt9d+lu9jsXnsheorcUjtJgXqBei6demIthUIDH4c+Xrd1unp6/aVD4B5/sZ7vyAOK+d1oqY+R7Od/6Y51eUZNm41zLceWO/HAFb5wfE+U6R5rcy+tl0WdntrEKN1uHKMt2DnMWwSYS2ayjXSlbO76VFc5jda+T5amsiEuHDRyj50qn12qen6MM4I87tdTqHtWIuzvdxGYF4d8FtW4HEn3IecX5Uhjt/XEmKJV93Pb8lFo2KOi/mvk6dn5Jf4ersF+Zpg0DbibHpE7tia0BRo79Um047s46t86z8YnrYXc+XactNvSP3C2yK196cp/oxLSnn07RByBfb/K4SjBeHzHsnaKegU99KRURumvOyetXFYvv4pL2bnZUR1eDecT3PNyD4nmhnJ8WbxmoZ0o8c0C8mt/i7svxpp8bYGSQWzjfXk6vr1XpbvlpznRZipse01Vl0mJnv57xN5RNyeXVxqWw6TPmoeNt5lnzSv23Oh4C6qEGnzvdwbrbQs31gGQc6lbv9e8OG0DcMe+dPDgtaRzdg0MaueAOPFQzdlIJwL1ptH9BhWxd5sqBVPhPGlHlgbIznpkslK0c7CGBTMP643jp2yP2/LsGQqGuteLJv9KHVhqwcM4ZTCUFfJt22G9g3GPL17Zy3rXwOqyIRNbp0f/1j4XXnGc2dbPxaiHaZxoKzyfXu+bO984fF1O2psLZHRcf7fANfw1aqk+N2dT05e5nO5yUfzHmermQX9RPm0MjF4xHScMRtrh8O/3aDlr/EUNvl1aj4aoA8ut/qllPQqT6IipzV8zeShb2arFnhvDYc88MIyZvNmChG6K7cSrfhrXb0HTgfWcxX27StpxXPznnzBqR6/vKU+dsHkvZOVvt6BecDOs+wqXzGcb2oHeALTL/+UfjYzgMA/lrgPAD+As6/NzR1t8TZ/P/MIo8ArBi6WgGuAuffGzg/DDjvWeA8AP4CzgPgL+A8AP4CzgPgL+A8AP4CzgPgL+A8AP4CzgPgL+A8AP4CzgPgL+A8AP4CzgPgL6Tz/wUAeANS0j2k8+8AAN6AlHQPOA+AtyAl3QPOA+AtSEn3gPMAeAtS0j3gPADegpR0DzgPgLcgJd0DzgPgLUhJ94DzAHgLUtI94DwA3oKUdA84D4C3ICXdA84D4C1ISfeA8wB4C1LSPeA8AN6ClHSPUZx/npB/eIgxnWvIqwCcVlqvHyWuj/M/Ux0Yvxq7X+rp00eN0g8zk5+JP2P9afDrb3M7TXmH2F7id8xM5w7EPaMsZqYf2qhDSrqHU+cbD6dlkXWgPTjNtF4sBxVFvfTPzO+l0uP7M18w86cfkbGM1vYyvzI5dy/39Fnp0U9zkwFF+WLh6aG8/+5dLfe1olyZW763bPiX2aZxYW/DfJ3/m7vEtAkuv2iJJywhJd3DofPbctRa2uapgxwNALYjFgBepZa5oiifJ0r/k2nq1Sr18Hfvmo9nFGUiUTL4uZu5yi79sCOTRyUmxcSPWtIOGmKupqsybQ0p6R7OnJcTFW3eos9qEOrBKaWxsXBp3Gxgg0svu3Rr+17wEyUhBwCJCOx6n9/nqbl/m6f7VtCs4UqmeiQvDIGUdA9HzmsT+24V9F8B4HRztJ1gs/ebG9YS76x8bnBehPmVV5SwoZrmU4TEc5tZPUFKuocj5/ujuuZ8N/IDcHppNXZyt9nUe9hiu1VKTLDJ+c81StayLMzPZJ7lFiJ8F1D97OrcT6XGwDB+uDEXUNRho4kJUtI94DzwOdvLLLxzxufy0ucB7Oem+R5eYltb/5e+E7/06deJh09Lzx7dvznJzb+eq/VpX/uZB/mV/8ikLaSke8B54HNq249Lpd9zy1xadfLe9oBA33i6IHb1c/vyAru0ERtXDUMAo5blUsw8NofzI7EiuJKxHk56ISXdA84DQLRK37HJe19A3svNfCqE35MXLGk9XWBO9MzhnydY/B/phIuUdI9RnMceHjjbvFph0hv9bJaW5bF8v7NHrVbvlEAcaRtCI2PnR57lSKGRlHQPR87jrA6cNV7cn/xM7T1pe7HMY3JedurW8wT/0k5kZccwgZc0HvGg911JJonDRzOGE35BNRNWlHDG/lDeACnpHs6cx3dywBmjVVpgAXzasOV2VMtdZ8pfzdAcXmzaqdcz1X7hOeIrPaYVfmt7iQ0R5qVBc2NOt8YxpKR7OHRen8wbQJAHp5nG45lPeBhP5Ph3bzML3/DU9EPaa2tu3GT+K5M3e78/u/yz/HIt/1oeGzVo395qC3A3Mzl6aCQl3cOp8xz8Hxtwtmi+kqfrivJJ8JuF3Cttqi++VzsYY88/KK3MTI7zoz51/NLMyrM+J4QyCfMKwBZS0j1GcR4A4D6kpHvAeQC8BSnpHnAeAG9BSroHnAfAW5CS7gHnAfAWpKR7wHkAvAUp6R5wHgBvQUq6B5wHwFuQku4B5wHwFqSke8B5ALwFKekecB4Ab0FKugecB8BbkJLuAecB8BakpHvAeQC8BSnpHnAeAG9BSroHnAfAW5CS7iGdBwD4gpOT/wN4+VXwkQfx7QAAAABJRU5ErkJggg==)"
      ]
    },
    {
      "cell_type": "code",
      "execution_count": null,
      "metadata": {
        "colab": {
          "base_uri": "https://localhost:8080/",
          "height": 81
        },
        "id": "m5z1WCb8iKUv",
        "outputId": "f151f7ea-921c-4ff3-c39c-a2d346f43bd7"
      },
      "outputs": [
        {
          "data": {
            "application/vnd.google.colaboratory.intrinsic+json": {
              "summary": "{\n  \"name\": \"pd\",\n  \"rows\": 1,\n  \"fields\": [\n    {\n      \"column\": \"nombre_morceaux_distinct\",\n      \"properties\": {\n        \"dtype\": \"number\",\n        \"std\": null,\n        \"min\": 3257,\n        \"max\": 3257,\n        \"num_unique_values\": 1,\n        \"samples\": [\n          3257\n        ],\n        \"semantic_type\": \"\",\n        \"description\": \"\"\n      }\n    }\n  ]\n}",
              "type": "dataframe"
            },
            "text/html": [
              "\n",
              "  <div id=\"df-17574df4-a5bc-40a4-8c6d-9b063c3c132a\" class=\"colab-df-container\">\n",
              "    <div>\n",
              "<style scoped>\n",
              "    .dataframe tbody tr th:only-of-type {\n",
              "        vertical-align: middle;\n",
              "    }\n",
              "\n",
              "    .dataframe tbody tr th {\n",
              "        vertical-align: top;\n",
              "    }\n",
              "\n",
              "    .dataframe thead th {\n",
              "        text-align: right;\n",
              "    }\n",
              "</style>\n",
              "<table border=\"1\" class=\"dataframe\">\n",
              "  <thead>\n",
              "    <tr style=\"text-align: right;\">\n",
              "      <th></th>\n",
              "      <th>nombre_morceaux_distinct</th>\n",
              "    </tr>\n",
              "  </thead>\n",
              "  <tbody>\n",
              "    <tr>\n",
              "      <th>0</th>\n",
              "      <td>3257</td>\n",
              "    </tr>\n",
              "  </tbody>\n",
              "</table>\n",
              "</div>\n",
              "    <div class=\"colab-df-buttons\">\n",
              "\n",
              "  <div class=\"colab-df-container\">\n",
              "    <button class=\"colab-df-convert\" onclick=\"convertToInteractive('df-17574df4-a5bc-40a4-8c6d-9b063c3c132a')\"\n",
              "            title=\"Convert this dataframe to an interactive table.\"\n",
              "            style=\"display:none;\">\n",
              "\n",
              "  <svg xmlns=\"http://www.w3.org/2000/svg\" height=\"24px\" viewBox=\"0 -960 960 960\">\n",
              "    <path d=\"M120-120v-720h720v720H120Zm60-500h600v-160H180v160Zm220 220h160v-160H400v160Zm0 220h160v-160H400v160ZM180-400h160v-160H180v160Zm440 0h160v-160H620v160ZM180-180h160v-160H180v160Zm440 0h160v-160H620v160Z\"/>\n",
              "  </svg>\n",
              "    </button>\n",
              "\n",
              "  <style>\n",
              "    .colab-df-container {\n",
              "      display:flex;\n",
              "      gap: 12px;\n",
              "    }\n",
              "\n",
              "    .colab-df-convert {\n",
              "      background-color: #E8F0FE;\n",
              "      border: none;\n",
              "      border-radius: 50%;\n",
              "      cursor: pointer;\n",
              "      display: none;\n",
              "      fill: #1967D2;\n",
              "      height: 32px;\n",
              "      padding: 0 0 0 0;\n",
              "      width: 32px;\n",
              "    }\n",
              "\n",
              "    .colab-df-convert:hover {\n",
              "      background-color: #E2EBFA;\n",
              "      box-shadow: 0px 1px 2px rgba(60, 64, 67, 0.3), 0px 1px 3px 1px rgba(60, 64, 67, 0.15);\n",
              "      fill: #174EA6;\n",
              "    }\n",
              "\n",
              "    .colab-df-buttons div {\n",
              "      margin-bottom: 4px;\n",
              "    }\n",
              "\n",
              "    [theme=dark] .colab-df-convert {\n",
              "      background-color: #3B4455;\n",
              "      fill: #D2E3FC;\n",
              "    }\n",
              "\n",
              "    [theme=dark] .colab-df-convert:hover {\n",
              "      background-color: #434B5C;\n",
              "      box-shadow: 0px 1px 3px 1px rgba(0, 0, 0, 0.15);\n",
              "      filter: drop-shadow(0px 1px 2px rgba(0, 0, 0, 0.3));\n",
              "      fill: #FFFFFF;\n",
              "    }\n",
              "  </style>\n",
              "\n",
              "    <script>\n",
              "      const buttonEl =\n",
              "        document.querySelector('#df-17574df4-a5bc-40a4-8c6d-9b063c3c132a button.colab-df-convert');\n",
              "      buttonEl.style.display =\n",
              "        google.colab.kernel.accessAllowed ? 'block' : 'none';\n",
              "\n",
              "      async function convertToInteractive(key) {\n",
              "        const element = document.querySelector('#df-17574df4-a5bc-40a4-8c6d-9b063c3c132a');\n",
              "        const dataTable =\n",
              "          await google.colab.kernel.invokeFunction('convertToInteractive',\n",
              "                                                    [key], {});\n",
              "        if (!dataTable) return;\n",
              "\n",
              "        const docLinkHtml = 'Like what you see? Visit the ' +\n",
              "          '<a target=\"_blank\" href=https://colab.research.google.com/notebooks/data_table.ipynb>data table notebook</a>'\n",
              "          + ' to learn more about interactive tables.';\n",
              "        element.innerHTML = '';\n",
              "        dataTable['output_type'] = 'display_data';\n",
              "        await google.colab.output.renderOutput(dataTable, element);\n",
              "        const docLink = document.createElement('div');\n",
              "        docLink.innerHTML = docLinkHtml;\n",
              "        element.appendChild(docLink);\n",
              "      }\n",
              "    </script>\n",
              "  </div>\n",
              "\n",
              "\n",
              "    </div>\n",
              "  </div>\n"
            ],
            "text/plain": [
              "   nombre_morceaux_distinct\n",
              "0                      3257"
            ]
          },
          "execution_count": 217,
          "metadata": {},
          "output_type": "execute_result"
        }
      ],
      "source": [
        "pd.read_sql(\"\"\"select count(distinct Track.Name) as nombre_morceaux_distinct from Track\"\"\", conn)"
      ]
    },
    {
      "cell_type": "markdown",
      "metadata": {
        "id": "6ttzSGYblot0"
      },
      "source": [
        "> La maison de disque souhaiterai investir dans les genres qui sont les plus représentés, car ce sont les mieux vendu. Combien de morceaux contient le genre le plus représenté ?"
      ]
    },
    {
      "cell_type": "markdown",
      "metadata": {
        "id": "gk2fhXL3lqkU"
      },
      "source": [
        "Résultat attendu :\n",
        "\n",
        "![Screenshot 2024-07-11 at 11.25.47.png](data:image/png;base64,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)"
      ]
    },
    {
      "cell_type": "code",
      "execution_count": null,
      "metadata": {
        "colab": {
          "base_uri": "https://localhost:8080/",
          "height": 81
        },
        "id": "CqHSops5iLff",
        "outputId": "1ce06ff3-2f14-4ae7-d132-7672e652940c"
      },
      "outputs": [
        {
          "data": {
            "application/vnd.google.colaboratory.intrinsic+json": {
              "summary": "{\n  \"name\": \"                limit 1\\\"\\\"\\\", conn)\",\n  \"rows\": 1,\n  \"fields\": [\n    {\n      \"column\": \"GenreId\",\n      \"properties\": {\n        \"dtype\": \"number\",\n        \"std\": null,\n        \"min\": 1,\n        \"max\": 1,\n        \"num_unique_values\": 1,\n        \"samples\": [\n          1\n        ],\n        \"semantic_type\": \"\",\n        \"description\": \"\"\n      }\n    },\n    {\n      \"column\": \"nombre_morceaux\",\n      \"properties\": {\n        \"dtype\": \"number\",\n        \"std\": null,\n        \"min\": 1297,\n        \"max\": 1297,\n        \"num_unique_values\": 1,\n        \"samples\": [\n          1297\n        ],\n        \"semantic_type\": \"\",\n        \"description\": \"\"\n      }\n    }\n  ]\n}",
              "type": "dataframe"
            },
            "text/html": [
              "\n",
              "  <div id=\"df-2e0e8ef3-2599-44c1-8e74-061d168ed322\" class=\"colab-df-container\">\n",
              "    <div>\n",
              "<style scoped>\n",
              "    .dataframe tbody tr th:only-of-type {\n",
              "        vertical-align: middle;\n",
              "    }\n",
              "\n",
              "    .dataframe tbody tr th {\n",
              "        vertical-align: top;\n",
              "    }\n",
              "\n",
              "    .dataframe thead th {\n",
              "        text-align: right;\n",
              "    }\n",
              "</style>\n",
              "<table border=\"1\" class=\"dataframe\">\n",
              "  <thead>\n",
              "    <tr style=\"text-align: right;\">\n",
              "      <th></th>\n",
              "      <th>GenreId</th>\n",
              "      <th>nombre_morceaux</th>\n",
              "    </tr>\n",
              "  </thead>\n",
              "  <tbody>\n",
              "    <tr>\n",
              "      <th>0</th>\n",
              "      <td>1</td>\n",
              "      <td>1297</td>\n",
              "    </tr>\n",
              "  </tbody>\n",
              "</table>\n",
              "</div>\n",
              "    <div class=\"colab-df-buttons\">\n",
              "\n",
              "  <div class=\"colab-df-container\">\n",
              "    <button class=\"colab-df-convert\" onclick=\"convertToInteractive('df-2e0e8ef3-2599-44c1-8e74-061d168ed322')\"\n",
              "            title=\"Convert this dataframe to an interactive table.\"\n",
              "            style=\"display:none;\">\n",
              "\n",
              "  <svg xmlns=\"http://www.w3.org/2000/svg\" height=\"24px\" viewBox=\"0 -960 960 960\">\n",
              "    <path d=\"M120-120v-720h720v720H120Zm60-500h600v-160H180v160Zm220 220h160v-160H400v160Zm0 220h160v-160H400v160ZM180-400h160v-160H180v160Zm440 0h160v-160H620v160ZM180-180h160v-160H180v160Zm440 0h160v-160H620v160Z\"/>\n",
              "  </svg>\n",
              "    </button>\n",
              "\n",
              "  <style>\n",
              "    .colab-df-container {\n",
              "      display:flex;\n",
              "      gap: 12px;\n",
              "    }\n",
              "\n",
              "    .colab-df-convert {\n",
              "      background-color: #E8F0FE;\n",
              "      border: none;\n",
              "      border-radius: 50%;\n",
              "      cursor: pointer;\n",
              "      display: none;\n",
              "      fill: #1967D2;\n",
              "      height: 32px;\n",
              "      padding: 0 0 0 0;\n",
              "      width: 32px;\n",
              "    }\n",
              "\n",
              "    .colab-df-convert:hover {\n",
              "      background-color: #E2EBFA;\n",
              "      box-shadow: 0px 1px 2px rgba(60, 64, 67, 0.3), 0px 1px 3px 1px rgba(60, 64, 67, 0.15);\n",
              "      fill: #174EA6;\n",
              "    }\n",
              "\n",
              "    .colab-df-buttons div {\n",
              "      margin-bottom: 4px;\n",
              "    }\n",
              "\n",
              "    [theme=dark] .colab-df-convert {\n",
              "      background-color: #3B4455;\n",
              "      fill: #D2E3FC;\n",
              "    }\n",
              "\n",
              "    [theme=dark] .colab-df-convert:hover {\n",
              "      background-color: #434B5C;\n",
              "      box-shadow: 0px 1px 3px 1px rgba(0, 0, 0, 0.15);\n",
              "      filter: drop-shadow(0px 1px 2px rgba(0, 0, 0, 0.3));\n",
              "      fill: #FFFFFF;\n",
              "    }\n",
              "  </style>\n",
              "\n",
              "    <script>\n",
              "      const buttonEl =\n",
              "        document.querySelector('#df-2e0e8ef3-2599-44c1-8e74-061d168ed322 button.colab-df-convert');\n",
              "      buttonEl.style.display =\n",
              "        google.colab.kernel.accessAllowed ? 'block' : 'none';\n",
              "\n",
              "      async function convertToInteractive(key) {\n",
              "        const element = document.querySelector('#df-2e0e8ef3-2599-44c1-8e74-061d168ed322');\n",
              "        const dataTable =\n",
              "          await google.colab.kernel.invokeFunction('convertToInteractive',\n",
              "                                                    [key], {});\n",
              "        if (!dataTable) return;\n",
              "\n",
              "        const docLinkHtml = 'Like what you see? Visit the ' +\n",
              "          '<a target=\"_blank\" href=https://colab.research.google.com/notebooks/data_table.ipynb>data table notebook</a>'\n",
              "          + ' to learn more about interactive tables.';\n",
              "        element.innerHTML = '';\n",
              "        dataTable['output_type'] = 'display_data';\n",
              "        await google.colab.output.renderOutput(dataTable, element);\n",
              "        const docLink = document.createElement('div');\n",
              "        docLink.innerHTML = docLinkHtml;\n",
              "        element.appendChild(docLink);\n",
              "      }\n",
              "    </script>\n",
              "  </div>\n",
              "\n",
              "\n",
              "    </div>\n",
              "  </div>\n"
            ],
            "text/plain": [
              "   GenreId  nombre_morceaux\n",
              "0        1             1297"
            ]
          },
          "execution_count": 95,
          "metadata": {},
          "output_type": "execute_result"
        }
      ],
      "source": [
        "pd.read_sql(\"\"\"select GenreId, count(distinct TrackId) as nombre_morceaux from Track\n",
        "                group by GenreId\n",
        "                limit 1\"\"\", conn)"
      ]
    },
    {
      "cell_type": "markdown",
      "metadata": {
        "id": "ZN37zlBnmmIU"
      },
      "source": [
        "---"
      ]
    },
    {
      "cell_type": "markdown",
      "metadata": {
        "id": "6gzAU0cKE-y0"
      },
      "source": [
        "#RGPD  \n",
        "\n"
      ]
    },
    {
      "cell_type": "markdown",
      "metadata": {
        "id": "j3Yy8KiPFH2R"
      },
      "source": [
        "> Que signifie RGPD, et quel est son objectif principal ?\n"
      ]
    },
    {
      "cell_type": "markdown",
      "metadata": {
        "id": "p4LYhR_lFJBI"
      },
      "source": [
        "**Réponse:**"
      ]
    },
    {
      "cell_type": "markdown",
      "metadata": {
        "id": "jsDH_mPKSwq3"
      },
      "source": [
        "RGPD signifie \"Réglement Général sur la Protection des Données\"\n",
        "\n",
        "C'est une réglementation à l'échelle européenne qui encadre la collecte, le stockage et l'utilisation des données personnelles\n",
        "Elle définit notamment le contexte dans lequel ces données peuvent être collectées, stockées, utilisées\n",
        "\n",
        "Par exemple, une entreprise qui fait de la publicité ciblée ne collectera / n'utilisera pas les données comme le ferait une administration\n",
        "Et des données de type médical par exemple ne peuvent être utilisées que dans un cadre très strict\n",
        "\n",
        "Son représentant en France est la CNIL, le CEPD à l'échelle européenne"
      ]
    },
    {
      "cell_type": "markdown",
      "metadata": {
        "id": "SsS2P86jFPl-"
      },
      "source": [
        "---"
      ]
    },
    {
      "cell_type": "markdown",
      "metadata": {
        "id": "HDbXamWdNllh"
      },
      "source": [
        "#Web Scraping\n",
        "\n"
      ]
    },
    {
      "cell_type": "markdown",
      "metadata": {
        "id": "DtLWGS2dNsG7"
      },
      "source": [
        "> Votre collègue de bureau à qui vous avez partagé le DataFrame `df_all` souhaite récuperer un descriptif de texte pour chaque arrondissement. C'est sa mission, pas la vôtre, donc vous allez vous contenter de répondre à sa question.\n",
        "Votre collègue aimerait savoir si sa requête lui a permis d'avoir du contenu en retour.\n",
        "Dans un cas, le code `response` lui renvoie \"<Response [200]>\", et dans l'autre cas, le code `response` lui renvoie \"<Response [404]>\".\n",
        "Il ne comprend pas, et aimerait que vous lui expliquer ce que signifie chacune des deux réponses.\n",
        "Soyez le plus clair possible, et écrivez votre réponse comme vous l'auriez expliqué à l'oral."
      ]
    },
    {
      "cell_type": "markdown",
      "metadata": {
        "id": "8-uKuRGmNuok"
      },
      "source": [
        "**Réponse:**"
      ]
    },
    {
      "cell_type": "markdown",
      "metadata": {
        "id": "fsj_WfrTUL_B"
      },
      "source": [
        "Lorsque l'on fait du web scrapping, la première étape consiste à vérifier la possibilité de scrapper un site via une requête\n",
        "\n",
        "La réponse [200] indique que l'url indiquée est accessible et donc qu'on pourra explorer et récupérer le contenu du site\n",
        "\n",
        "En revanche la réponse [404] indique que l'url à laquelle on souhaite accéder n'est pas accessible. On ne pourra donc pas en récupérer le contenu"
      ]
    },
    {
      "cell_type": "markdown",
      "metadata": {
        "id": "kf1gogEQN5Ly"
      },
      "source": [
        "---\n"
      ]
    },
    {
      "cell_type": "markdown",
      "metadata": {
        "id": "g-evyhaeN6lm"
      },
      "source": [
        "#API"
      ]
    },
    {
      "cell_type": "markdown",
      "metadata": {
        "id": "zj9UQPncOAIc"
      },
      "source": [
        "Voici les données de géolocalisation d'un appartement. L'objectif est de retrouver l'adresse de cet appartement à partir des coordonnées de géolocalisation (\"latitude\", \"longitude\"), grâce à une API."
      ]
    },
    {
      "cell_type": "code",
      "execution_count": null,
      "metadata": {
        "id": "IvLhcr1MOFQg"
      },
      "outputs": [],
      "source": [
        "latitude_appartement = 48.895622\n",
        "longitude_appartement = 2.337501"
      ]
    },
    {
      "cell_type": "markdown",
      "metadata": {
        "id": "MOAIpaWiONZ0"
      },
      "source": [
        "> Utiliser la partie **reverse** de l'API [`https://adresse.data.gouv.fr/api-doc/adresse`](https://adresse.data.gouv.fr/api-doc/adresse) pour récupérer l' adresse de l'appartement, en utilisant les variables \"latitude_appartement\" et \"longitude_appartement\"."
      ]
    },
    {
      "cell_type": "code",
      "execution_count": null,
      "metadata": {
        "id": "c8i-_ciXiN8y"
      },
      "outputs": [],
      "source": [
        "url = f\"https://api-adresse.data.gouv.fr/reverse/?lon={longitude_appartement}&lat={latitude_appartement}\""
      ]
    },
    {
      "cell_type": "code",
      "execution_count": null,
      "metadata": {
        "id": "M_gmRks6jfB8"
      },
      "outputs": [],
      "source": [
        "import requests\n",
        "\n",
        "# la méthode .get(url) interroge le serveur qui renvoie une réponse [200] si l'url est accessible\n",
        "r = requests.get(url)\n",
        "\n",
        "# permet de récupérer les informations de l'url en format json\n",
        "r_js = r.json()"
      ]
    },
    {
      "cell_type": "code",
      "execution_count": null,
      "metadata": {
        "colab": {
          "base_uri": "https://localhost:8080/"
        },
        "id": "EP-TjeZtzaiZ",
        "outputId": "f3cc13bf-8f5f-48cd-9f92-dd311f8c8708"
      },
      "outputs": [
        {
          "name": "stdout",
          "output_type": "stream",
          "text": [
            "<Response [200]>\n"
          ]
        }
      ],
      "source": [
        "print(r)"
      ]
    },
    {
      "cell_type": "code",
      "execution_count": null,
      "metadata": {
        "colab": {
          "base_uri": "https://localhost:8080/"
        },
        "id": "LZEZT9Otjshf",
        "outputId": "e679bcc0-969b-43e4-99c4-f6f0241c917b"
      },
      "outputs": [
        {
          "name": "stdout",
          "output_type": "stream",
          "text": [
            "{'type': 'FeatureCollection', 'version': 'draft', 'features': [{'type': 'Feature', 'geometry': {'type': 'Point', 'coordinates': [2.337614, 48.895555]}, 'properties': {'label': '111 Rue Damrémont 75018 Paris', 'score': 0.9999999505653318, 'housenumber': '111', 'id': '75118_2534_00111', 'name': '111 Rue Damrémont', 'postcode': '75018', 'citycode': '75118', 'x': 651435.17, 'y': 6866375.66, 'city': 'Paris', 'district': 'Paris 18e Arrondissement', 'context': '75, Paris, Île-de-France', 'type': 'housenumber', 'importance': 0.80392, 'street': 'Rue Damrémont', 'distance': 11}}, {'type': 'Feature', 'geometry': {'type': 'Point', 'coordinates': [2.337857, 48.895452]}, 'properties': {'label': '130 Rue Championnet 75018 Paris', 'score': 0.9999995866724409, 'housenumber': '130', 'id': '75118_1723_00130', 'name': '130 Rue Championnet', 'postcode': '75018', 'citycode': '75118', 'x': 651452.89, 'y': 6866364.06, 'city': 'Paris', 'district': 'Paris 18e Arrondissement', 'context': '75, Paris, Île-de-France', 'type': 'housenumber', 'importance': 0.82705, 'street': 'Rue Championnet', 'distance': 32}}, {'type': 'Feature', 'geometry': {'type': 'Point', 'coordinates': [2.337612, 48.895941]}, 'properties': {'label': '3 Rue Joséphine 75018 Paris', 'score': 0.9999994710454979, 'housenumber': '3', 'id': '75118_5021_00003', 'name': '3 Rue Joséphine', 'postcode': '75018', 'citycode': '75118', 'x': 651435.38, 'y': 6866418.59, 'city': 'Paris', 'district': 'Paris 18e Arrondissement', 'context': '75, Paris, Île-de-France', 'type': 'housenumber', 'importance': 0.63287, 'street': 'Rue Joséphine', 'distance': 36}}, {'type': 'Feature', 'geometry': {'type': 'Point', 'coordinates': [2.337746, 48.896165]}, 'properties': {'label': '7 Passage du Champ Marie 75018 Paris', 'score': 0.999998415440973, 'housenumber': '7', 'id': '75118_1728_00007', 'name': '7 Passage du Champ Marie', 'postcode': '75018', 'citycode': '75118', 'x': 651445.41, 'y': 6866443.41, 'city': 'Paris', 'district': 'Paris 18e Arrondissement', 'context': '75, Paris, Île-de-France', 'type': 'housenumber', 'importance': 0.7153, 'street': 'Passage du Champ Marie', 'distance': 62}}, {'type': 'Feature', 'geometry': {'type': 'Point', 'coordinates': [2.33852, 48.895468]}, 'properties': {'label': 'Rue Vincent Compoint 75018 Paris', 'score': 0.9999976660041372, 'id': '75118_9854', 'name': 'Rue Vincent Compoint', 'postcode': '75018', 'citycode': '75118', 'x': 651501.51, 'y': 6866365.43, 'city': 'Paris', 'district': 'Paris 18e Arrondissement', 'context': '75, Paris, Île-de-France', 'type': 'street', 'importance': 0.72722, 'street': 'Rue Vincent Compoint', 'distance': 76}}], 'attribution': 'BAN', 'licence': 'ETALAB-2.0', 'center': [2.337501, 48.895622], 'limit': 1}\n"
          ]
        }
      ],
      "source": [
        "print(r_js)"
      ]
    },
    {
      "cell_type": "code",
      "execution_count": null,
      "metadata": {
        "colab": {
          "base_uri": "https://localhost:8080/"
        },
        "id": "teqvk7jPkVbU",
        "outputId": "551548f6-1770-4905-e0dd-56221680a837"
      },
      "outputs": [
        {
          "name": "stdout",
          "output_type": "stream",
          "text": [
            "111 Rue Damrémont 75018 Paris\n"
          ]
        }
      ],
      "source": [
        "# le format json est constitué de dictionnaires et de listes\n",
        "# il faut donc appeler les informations avec une clé si on se trouve dans un dictionnaire, avec un indice si on se trouve dans une liste\n",
        "\n",
        "print(r_js[\"features\"][0][\"properties\"][\"label\"])"
      ]
    },
    {
      "cell_type": "markdown",
      "metadata": {
        "id": "mCHy5B--OkAt"
      },
      "source": [
        "---"
      ]
    },
    {
      "cell_type": "markdown",
      "metadata": {
        "id": "wQU1Zl7El8L9"
      },
      "source": [
        "#Pandas"
      ]
    },
    {
      "cell_type": "markdown",
      "metadata": {
        "id": "bam-LsOemA3f"
      },
      "source": [
        "Voici un Dataset `df_transactions` qui regroupe des transactions immobilières de la ville de Paris, entre 2018 et 2019.\n",
        "L'objectif de ce cas pratique est de répondre à plusieurs questions."
      ]
    },
    {
      "cell_type": "code",
      "execution_count": null,
      "metadata": {
        "colab": {
          "base_uri": "https://localhost:8080/",
          "height": 634
        },
        "id": "SnKeiAmxl5V2",
        "outputId": "302f18bc-b805-4644-ed6a-3f657b3f97b4"
      },
      "outputs": [
        {
          "data": {
            "application/vnd.google.colaboratory.intrinsic+json": {
              "summary": "{\n  \"name\": \"df_transactions\",\n  \"rows\": 290,\n  \"fields\": [\n    {\n      \"column\": \"id_mutation\",\n      \"properties\": {\n        \"dtype\": \"string\",\n        \"num_unique_values\": 290,\n        \"samples\": [\n          \"2018-1403922\",\n          \"2018-1393138\",\n          \"2018-1368760\"\n        ],\n        \"semantic_type\": \"\",\n        \"description\": \"\"\n      }\n    },\n    {\n      \"column\": \"valeur_fonciere\",\n      \"properties\": {\n        \"dtype\": \"number\",\n        \"std\": 11875895.233857615,\n        \"min\": 25000.0,\n        \"max\": 195600000.0,\n        \"num_unique_values\": 238,\n        \"samples\": [\n          270000.0,\n          920000.0,\n          694200.0\n        ],\n        \"semantic_type\": \"\",\n        \"description\": \"\"\n      }\n    },\n    {\n      \"column\": \"surface_reelle_bati\",\n      \"properties\": {\n        \"dtype\": \"number\",\n        \"std\": 1032,\n        \"min\": 8,\n        \"max\": 11887,\n        \"num_unique_values\": 99,\n        \"samples\": [\n          90,\n          27,\n          101\n        ],\n        \"semantic_type\": \"\",\n        \"description\": \"\"\n      }\n    },\n    {\n      \"column\": \"prix_m2\",\n      \"properties\": {\n        \"dtype\": \"number\",\n        \"std\": 2838,\n        \"min\": 2087,\n        \"max\": 22080,\n        \"num_unique_values\": 268,\n        \"samples\": [\n          10275,\n          8431,\n          11600\n        ],\n        \"semantic_type\": \"\",\n        \"description\": \"\"\n      }\n    },\n    {\n      \"column\": \"nombre_pieces_principales\",\n      \"properties\": {\n        \"dtype\": \"number\",\n        \"std\": 1,\n        \"min\": 0,\n        \"max\": 7,\n        \"num_unique_values\": 8,\n        \"samples\": [\n          3,\n          0,\n          1\n        ],\n        \"semantic_type\": \"\",\n        \"description\": \"\"\n      }\n    },\n    {\n      \"column\": \"type_local\",\n      \"properties\": {\n        \"dtype\": \"category\",\n        \"num_unique_values\": 2,\n        \"samples\": [\n          \"local industriel\",\n          \"appartement\"\n        ],\n        \"semantic_type\": \"\",\n        \"description\": \"\"\n      }\n    },\n    {\n      \"column\": \"nom_commune\",\n      \"properties\": {\n        \"dtype\": \"category\",\n        \"num_unique_values\": 20,\n        \"samples\": [\n          \"Paris 3e Arrondissement\",\n          \"Paris 8e Arrondissement\"\n        ],\n        \"semantic_type\": \"\",\n        \"description\": \"\"\n      }\n    },\n    {\n      \"column\": \"nom_iris\",\n      \"properties\": {\n        \"dtype\": \"string\",\n        \"num_unique_values\": 223,\n        \"samples\": [\n          \"Maison Blanche 17\",\n          \"Clignancourt 16\"\n        ],\n        \"semantic_type\": \"\",\n        \"description\": \"\"\n      }\n    },\n    {\n      \"column\": \"code_commune\",\n      \"properties\": {\n        \"dtype\": \"number\",\n        \"std\": 4,\n        \"min\": 75101,\n        \"max\": 75120,\n        \"num_unique_values\": 20,\n        \"samples\": [\n          75103,\n          75108\n        ],\n        \"semantic_type\": \"\",\n        \"description\": \"\"\n      }\n    },\n    {\n      \"column\": \"code_departement\",\n      \"properties\": {\n        \"dtype\": \"number\",\n        \"std\": 0,\n        \"min\": 75,\n        \"max\": 75,\n        \"num_unique_values\": 1,\n        \"samples\": [\n          75\n        ],\n        \"semantic_type\": \"\",\n        \"description\": \"\"\n      }\n    },\n    {\n      \"column\": \"code_iris\",\n      \"properties\": {\n        \"dtype\": \"number\",\n        \"std\": 50236,\n        \"min\": 751010202,\n        \"max\": 751208026,\n        \"num_unique_values\": 223,\n        \"samples\": [\n          751135117\n        ],\n        \"semantic_type\": \"\",\n        \"description\": \"\"\n      }\n    },\n    {\n      \"column\": \"id_parcelles\",\n      \"properties\": {\n        \"dtype\": \"string\",\n        \"num_unique_values\": 285,\n        \"samples\": [\n          \"75113000EH0017\"\n        ],\n        \"semantic_type\": \"\",\n        \"description\": \"\"\n      }\n    },\n    {\n      \"column\": \"longitude\",\n      \"properties\": {\n        \"dtype\": \"number\",\n        \"std\": 0.03581494081098565,\n        \"min\": 2.259315,\n        \"max\": 2.4104490000000003,\n        \"num_unique_values\": 284,\n        \"samples\": [\n          2.342654\n        ],\n        \"semantic_type\": \"\",\n        \"description\": \"\"\n      }\n    },\n    {\n      \"column\": \"latitude\",\n      \"properties\": {\n        \"dtype\": \"number\",\n        \"std\": 0.020806784906614435,\n        \"min\": 48.823395,\n        \"max\": 48.897377,\n        \"num_unique_values\": 282,\n        \"samples\": [\n          48.853348\n        ],\n        \"semantic_type\": \"\",\n        \"description\": \"\"\n      }\n    },\n    {\n      \"column\": \"date_mutation\",\n      \"properties\": {\n        \"dtype\": \"object\",\n        \"num_unique_values\": 219,\n        \"samples\": [\n          \"2018-10-11\"\n        ],\n        \"semantic_type\": \"\",\n        \"description\": \"\"\n      }\n    }\n  ]\n}",
              "type": "dataframe",
              "variable_name": "df_transactions"
            },
            "text/html": [
              "\n",
              "  <div id=\"df-541226df-e1e6-4ee8-80b3-cb53db184ee7\" class=\"colab-df-container\">\n",
              "    <div>\n",
              "<style scoped>\n",
              "    .dataframe tbody tr th:only-of-type {\n",
              "        vertical-align: middle;\n",
              "    }\n",
              "\n",
              "    .dataframe tbody tr th {\n",
              "        vertical-align: top;\n",
              "    }\n",
              "\n",
              "    .dataframe thead th {\n",
              "        text-align: right;\n",
              "    }\n",
              "</style>\n",
              "<table border=\"1\" class=\"dataframe\">\n",
              "  <thead>\n",
              "    <tr style=\"text-align: right;\">\n",
              "      <th></th>\n",
              "      <th>id_mutation</th>\n",
              "      <th>valeur_fonciere</th>\n",
              "      <th>surface_reelle_bati</th>\n",
              "      <th>prix_m2</th>\n",
              "      <th>nombre_pieces_principales</th>\n",
              "      <th>type_local</th>\n",
              "      <th>nom_commune</th>\n",
              "      <th>nom_iris</th>\n",
              "      <th>code_commune</th>\n",
              "      <th>code_departement</th>\n",
              "      <th>code_iris</th>\n",
              "      <th>id_parcelles</th>\n",
              "      <th>longitude</th>\n",
              "      <th>latitude</th>\n",
              "      <th>date_mutation</th>\n",
              "    </tr>\n",
              "  </thead>\n",
              "  <tbody>\n",
              "    <tr>\n",
              "      <th>0</th>\n",
              "      <td>2019-1064422</td>\n",
              "      <td>156000.0</td>\n",
              "      <td>19</td>\n",
              "      <td>8210</td>\n",
              "      <td>1</td>\n",
              "      <td>appartement</td>\n",
              "      <td>Paris 3e Arrondissement</td>\n",
              "      <td>Enfants Rouges 3</td>\n",
              "      <td>75103</td>\n",
              "      <td>75</td>\n",
              "      <td>751031003</td>\n",
              "      <td>75103000AK0097</td>\n",
              "      <td>2.361791</td>\n",
              "      <td>48.861877</td>\n",
              "      <td>2019-07-03</td>\n",
              "    </tr>\n",
              "    <tr>\n",
              "      <th>1</th>\n",
              "      <td>2019-1080094</td>\n",
              "      <td>495000.0</td>\n",
              "      <td>53</td>\n",
              "      <td>9339</td>\n",
              "      <td>3</td>\n",
              "      <td>appartement</td>\n",
              "      <td>Paris 15e Arrondissement</td>\n",
              "      <td>Saint-Lambert 10</td>\n",
              "      <td>75115</td>\n",
              "      <td>75</td>\n",
              "      <td>751155710</td>\n",
              "      <td>75115000BJ0016</td>\n",
              "      <td>2.283552</td>\n",
              "      <td>48.836610</td>\n",
              "      <td>2019-04-30</td>\n",
              "    </tr>\n",
              "    <tr>\n",
              "      <th>2</th>\n",
              "      <td>2019-1078635</td>\n",
              "      <td>430000.0</td>\n",
              "      <td>49</td>\n",
              "      <td>8775</td>\n",
              "      <td>3</td>\n",
              "      <td>appartement</td>\n",
              "      <td>Paris 15e Arrondissement</td>\n",
              "      <td>Saint-Lambert 24</td>\n",
              "      <td>75115</td>\n",
              "      <td>75</td>\n",
              "      <td>751155724</td>\n",
              "      <td>75115000BT0039</td>\n",
              "      <td>2.298475</td>\n",
              "      <td>48.841206</td>\n",
              "      <td>2019-01-17</td>\n",
              "    </tr>\n",
              "    <tr>\n",
              "      <th>3</th>\n",
              "      <td>2019-1069949</td>\n",
              "      <td>216000.0</td>\n",
              "      <td>30</td>\n",
              "      <td>7200</td>\n",
              "      <td>3</td>\n",
              "      <td>appartement</td>\n",
              "      <td>Paris 10e Arrondissement</td>\n",
              "      <td>Hopital Saint-Louis 3</td>\n",
              "      <td>75110</td>\n",
              "      <td>75</td>\n",
              "      <td>751104003</td>\n",
              "      <td>75110000BJ0070</td>\n",
              "      <td>2.371124</td>\n",
              "      <td>48.872010</td>\n",
              "      <td>2019-04-17</td>\n",
              "    </tr>\n",
              "    <tr>\n",
              "      <th>4</th>\n",
              "      <td>2019-1093709</td>\n",
              "      <td>500000.0</td>\n",
              "      <td>45</td>\n",
              "      <td>11111</td>\n",
              "      <td>2</td>\n",
              "      <td>appartement</td>\n",
              "      <td>Paris 18e Arrondissement</td>\n",
              "      <td>Grandes Carrieres 12</td>\n",
              "      <td>75118</td>\n",
              "      <td>75</td>\n",
              "      <td>751186912</td>\n",
              "      <td>75118000AV0086</td>\n",
              "      <td>2.338148</td>\n",
              "      <td>48.890540</td>\n",
              "      <td>2019-07-29</td>\n",
              "    </tr>\n",
              "    <tr>\n",
              "      <th>...</th>\n",
              "      <td>...</td>\n",
              "      <td>...</td>\n",
              "      <td>...</td>\n",
              "      <td>...</td>\n",
              "      <td>...</td>\n",
              "      <td>...</td>\n",
              "      <td>...</td>\n",
              "      <td>...</td>\n",
              "      <td>...</td>\n",
              "      <td>...</td>\n",
              "      <td>...</td>\n",
              "      <td>...</td>\n",
              "      <td>...</td>\n",
              "      <td>...</td>\n",
              "      <td>...</td>\n",
              "    </tr>\n",
              "    <tr>\n",
              "      <th>285</th>\n",
              "      <td>2019-1090117</td>\n",
              "      <td>206450.0</td>\n",
              "      <td>21</td>\n",
              "      <td>9830</td>\n",
              "      <td>1</td>\n",
              "      <td>appartement</td>\n",
              "      <td>Paris 17e Arrondissement</td>\n",
              "      <td>Epinettes 7</td>\n",
              "      <td>75117</td>\n",
              "      <td>75</td>\n",
              "      <td>751176807</td>\n",
              "      <td>75117000DH0132</td>\n",
              "      <td>2.321425</td>\n",
              "      <td>48.892270</td>\n",
              "      <td>2019-10-07</td>\n",
              "    </tr>\n",
              "    <tr>\n",
              "      <th>286</th>\n",
              "      <td>2018-1400990</td>\n",
              "      <td>113000.0</td>\n",
              "      <td>11</td>\n",
              "      <td>10272</td>\n",
              "      <td>1</td>\n",
              "      <td>appartement</td>\n",
              "      <td>Paris 18e Arrondissement</td>\n",
              "      <td>Clignancourt 24</td>\n",
              "      <td>75118</td>\n",
              "      <td>75</td>\n",
              "      <td>751187024</td>\n",
              "      <td>75118000BE0079</td>\n",
              "      <td>2.343846</td>\n",
              "      <td>48.895130</td>\n",
              "      <td>2018-05-23</td>\n",
              "    </tr>\n",
              "    <tr>\n",
              "      <th>287</th>\n",
              "      <td>2018-1391042</td>\n",
              "      <td>315000.0</td>\n",
              "      <td>30</td>\n",
              "      <td>10500</td>\n",
              "      <td>2</td>\n",
              "      <td>appartement</td>\n",
              "      <td>Paris 15e Arrondissement</td>\n",
              "      <td>Saint-Lambert 10</td>\n",
              "      <td>75115</td>\n",
              "      <td>75</td>\n",
              "      <td>751155710</td>\n",
              "      <td>75115000BK0018</td>\n",
              "      <td>2.288922</td>\n",
              "      <td>48.838097</td>\n",
              "      <td>2018-12-27</td>\n",
              "    </tr>\n",
              "    <tr>\n",
              "      <th>288</th>\n",
              "      <td>2018-1402082</td>\n",
              "      <td>366000.0</td>\n",
              "      <td>58</td>\n",
              "      <td>6310</td>\n",
              "      <td>4</td>\n",
              "      <td>appartement</td>\n",
              "      <td>Paris 18e Arrondissement</td>\n",
              "      <td>Chapelle 5</td>\n",
              "      <td>75118</td>\n",
              "      <td>75</td>\n",
              "      <td>751187205</td>\n",
              "      <td>75118000CZ0021</td>\n",
              "      <td>2.361734</td>\n",
              "      <td>48.893486</td>\n",
              "      <td>2018-07-26</td>\n",
              "    </tr>\n",
              "    <tr>\n",
              "      <th>289</th>\n",
              "      <td>2019-1096647</td>\n",
              "      <td>260000.0</td>\n",
              "      <td>23</td>\n",
              "      <td>11304</td>\n",
              "      <td>1</td>\n",
              "      <td>appartement</td>\n",
              "      <td>Paris 19e Arrondissement</td>\n",
              "      <td>Villette 2</td>\n",
              "      <td>75119</td>\n",
              "      <td>75</td>\n",
              "      <td>751197302</td>\n",
              "      <td>75119000AV0111</td>\n",
              "      <td>2.375770</td>\n",
              "      <td>48.883700</td>\n",
              "      <td>2019-03-08</td>\n",
              "    </tr>\n",
              "  </tbody>\n",
              "</table>\n",
              "<p>290 rows × 15 columns</p>\n",
              "</div>\n",
              "    <div class=\"colab-df-buttons\">\n",
              "\n",
              "  <div class=\"colab-df-container\">\n",
              "    <button class=\"colab-df-convert\" onclick=\"convertToInteractive('df-541226df-e1e6-4ee8-80b3-cb53db184ee7')\"\n",
              "            title=\"Convert this dataframe to an interactive table.\"\n",
              "            style=\"display:none;\">\n",
              "\n",
              "  <svg xmlns=\"http://www.w3.org/2000/svg\" height=\"24px\" viewBox=\"0 -960 960 960\">\n",
              "    <path d=\"M120-120v-720h720v720H120Zm60-500h600v-160H180v160Zm220 220h160v-160H400v160Zm0 220h160v-160H400v160ZM180-400h160v-160H180v160Zm440 0h160v-160H620v160ZM180-180h160v-160H180v160Zm440 0h160v-160H620v160Z\"/>\n",
              "  </svg>\n",
              "    </button>\n",
              "\n",
              "  <style>\n",
              "    .colab-df-container {\n",
              "      display:flex;\n",
              "      gap: 12px;\n",
              "    }\n",
              "\n",
              "    .colab-df-convert {\n",
              "      background-color: #E8F0FE;\n",
              "      border: none;\n",
              "      border-radius: 50%;\n",
              "      cursor: pointer;\n",
              "      display: none;\n",
              "      fill: #1967D2;\n",
              "      height: 32px;\n",
              "      padding: 0 0 0 0;\n",
              "      width: 32px;\n",
              "    }\n",
              "\n",
              "    .colab-df-convert:hover {\n",
              "      background-color: #E2EBFA;\n",
              "      box-shadow: 0px 1px 2px rgba(60, 64, 67, 0.3), 0px 1px 3px 1px rgba(60, 64, 67, 0.15);\n",
              "      fill: #174EA6;\n",
              "    }\n",
              "\n",
              "    .colab-df-buttons div {\n",
              "      margin-bottom: 4px;\n",
              "    }\n",
              "\n",
              "    [theme=dark] .colab-df-convert {\n",
              "      background-color: #3B4455;\n",
              "      fill: #D2E3FC;\n",
              "    }\n",
              "\n",
              "    [theme=dark] .colab-df-convert:hover {\n",
              "      background-color: #434B5C;\n",
              "      box-shadow: 0px 1px 3px 1px rgba(0, 0, 0, 0.15);\n",
              "      filter: drop-shadow(0px 1px 2px rgba(0, 0, 0, 0.3));\n",
              "      fill: #FFFFFF;\n",
              "    }\n",
              "  </style>\n",
              "\n",
              "    <script>\n",
              "      const buttonEl =\n",
              "        document.querySelector('#df-541226df-e1e6-4ee8-80b3-cb53db184ee7 button.colab-df-convert');\n",
              "      buttonEl.style.display =\n",
              "        google.colab.kernel.accessAllowed ? 'block' : 'none';\n",
              "\n",
              "      async function convertToInteractive(key) {\n",
              "        const element = document.querySelector('#df-541226df-e1e6-4ee8-80b3-cb53db184ee7');\n",
              "        const dataTable =\n",
              "          await google.colab.kernel.invokeFunction('convertToInteractive',\n",
              "                                                    [key], {});\n",
              "        if (!dataTable) return;\n",
              "\n",
              "        const docLinkHtml = 'Like what you see? Visit the ' +\n",
              "          '<a target=\"_blank\" href=https://colab.research.google.com/notebooks/data_table.ipynb>data table notebook</a>'\n",
              "          + ' to learn more about interactive tables.';\n",
              "        element.innerHTML = '';\n",
              "        dataTable['output_type'] = 'display_data';\n",
              "        await google.colab.output.renderOutput(dataTable, element);\n",
              "        const docLink = document.createElement('div');\n",
              "        docLink.innerHTML = docLinkHtml;\n",
              "        element.appendChild(docLink);\n",
              "      }\n",
              "    </script>\n",
              "  </div>\n",
              "\n",
              "\n",
              "<div id=\"df-0af1878e-3567-48cd-b0f2-8925abd851a7\">\n",
              "  <button class=\"colab-df-quickchart\" onclick=\"quickchart('df-0af1878e-3567-48cd-b0f2-8925abd851a7')\"\n",
              "            title=\"Suggest charts\"\n",
              "            style=\"display:none;\">\n",
              "\n",
              "<svg xmlns=\"http://www.w3.org/2000/svg\" height=\"24px\"viewBox=\"0 0 24 24\"\n",
              "     width=\"24px\">\n",
              "    <g>\n",
              "        <path d=\"M19 3H5c-1.1 0-2 .9-2 2v14c0 1.1.9 2 2 2h14c1.1 0 2-.9 2-2V5c0-1.1-.9-2-2-2zM9 17H7v-7h2v7zm4 0h-2V7h2v10zm4 0h-2v-4h2v4z\"/>\n",
              "    </g>\n",
              "</svg>\n",
              "  </button>\n",
              "\n",
              "<style>\n",
              "  .colab-df-quickchart {\n",
              "      --bg-color: #E8F0FE;\n",
              "      --fill-color: #1967D2;\n",
              "      --hover-bg-color: #E2EBFA;\n",
              "      --hover-fill-color: #174EA6;\n",
              "      --disabled-fill-color: #AAA;\n",
              "      --disabled-bg-color: #DDD;\n",
              "  }\n",
              "\n",
              "  [theme=dark] .colab-df-quickchart {\n",
              "      --bg-color: #3B4455;\n",
              "      --fill-color: #D2E3FC;\n",
              "      --hover-bg-color: #434B5C;\n",
              "      --hover-fill-color: #FFFFFF;\n",
              "      --disabled-bg-color: #3B4455;\n",
              "      --disabled-fill-color: #666;\n",
              "  }\n",
              "\n",
              "  .colab-df-quickchart {\n",
              "    background-color: var(--bg-color);\n",
              "    border: none;\n",
              "    border-radius: 50%;\n",
              "    cursor: pointer;\n",
              "    display: none;\n",
              "    fill: var(--fill-color);\n",
              "    height: 32px;\n",
              "    padding: 0;\n",
              "    width: 32px;\n",
              "  }\n",
              "\n",
              "  .colab-df-quickchart:hover {\n",
              "    background-color: var(--hover-bg-color);\n",
              "    box-shadow: 0 1px 2px rgba(60, 64, 67, 0.3), 0 1px 3px 1px rgba(60, 64, 67, 0.15);\n",
              "    fill: var(--button-hover-fill-color);\n",
              "  }\n",
              "\n",
              "  .colab-df-quickchart-complete:disabled,\n",
              "  .colab-df-quickchart-complete:disabled:hover {\n",
              "    background-color: var(--disabled-bg-color);\n",
              "    fill: var(--disabled-fill-color);\n",
              "    box-shadow: none;\n",
              "  }\n",
              "\n",
              "  .colab-df-spinner {\n",
              "    border: 2px solid var(--fill-color);\n",
              "    border-color: transparent;\n",
              "    border-bottom-color: var(--fill-color);\n",
              "    animation:\n",
              "      spin 1s steps(1) infinite;\n",
              "  }\n",
              "\n",
              "  @keyframes spin {\n",
              "    0% {\n",
              "      border-color: transparent;\n",
              "      border-bottom-color: var(--fill-color);\n",
              "      border-left-color: var(--fill-color);\n",
              "    }\n",
              "    20% {\n",
              "      border-color: transparent;\n",
              "      border-left-color: var(--fill-color);\n",
              "      border-top-color: var(--fill-color);\n",
              "    }\n",
              "    30% {\n",
              "      border-color: transparent;\n",
              "      border-left-color: var(--fill-color);\n",
              "      border-top-color: var(--fill-color);\n",
              "      border-right-color: var(--fill-color);\n",
              "    }\n",
              "    40% {\n",
              "      border-color: transparent;\n",
              "      border-right-color: var(--fill-color);\n",
              "      border-top-color: var(--fill-color);\n",
              "    }\n",
              "    60% {\n",
              "      border-color: transparent;\n",
              "      border-right-color: var(--fill-color);\n",
              "    }\n",
              "    80% {\n",
              "      border-color: transparent;\n",
              "      border-right-color: var(--fill-color);\n",
              "      border-bottom-color: var(--fill-color);\n",
              "    }\n",
              "    90% {\n",
              "      border-color: transparent;\n",
              "      border-bottom-color: var(--fill-color);\n",
              "    }\n",
              "  }\n",
              "</style>\n",
              "\n",
              "  <script>\n",
              "    async function quickchart(key) {\n",
              "      const quickchartButtonEl =\n",
              "        document.querySelector('#' + key + ' button');\n",
              "      quickchartButtonEl.disabled = true;  // To prevent multiple clicks.\n",
              "      quickchartButtonEl.classList.add('colab-df-spinner');\n",
              "      try {\n",
              "        const charts = await google.colab.kernel.invokeFunction(\n",
              "            'suggestCharts', [key], {});\n",
              "      } catch (error) {\n",
              "        console.error('Error during call to suggestCharts:', error);\n",
              "      }\n",
              "      quickchartButtonEl.classList.remove('colab-df-spinner');\n",
              "      quickchartButtonEl.classList.add('colab-df-quickchart-complete');\n",
              "    }\n",
              "    (() => {\n",
              "      let quickchartButtonEl =\n",
              "        document.querySelector('#df-0af1878e-3567-48cd-b0f2-8925abd851a7 button');\n",
              "      quickchartButtonEl.style.display =\n",
              "        google.colab.kernel.accessAllowed ? 'block' : 'none';\n",
              "    })();\n",
              "  </script>\n",
              "</div>\n",
              "\n",
              "  <div id=\"id_8cd75599-30c6-4027-a411-23f55f0c4fc2\">\n",
              "    <style>\n",
              "      .colab-df-generate {\n",
              "        background-color: #E8F0FE;\n",
              "        border: none;\n",
              "        border-radius: 50%;\n",
              "        cursor: pointer;\n",
              "        display: none;\n",
              "        fill: #1967D2;\n",
              "        height: 32px;\n",
              "        padding: 0 0 0 0;\n",
              "        width: 32px;\n",
              "      }\n",
              "\n",
              "      .colab-df-generate:hover {\n",
              "        background-color: #E2EBFA;\n",
              "        box-shadow: 0px 1px 2px rgba(60, 64, 67, 0.3), 0px 1px 3px 1px rgba(60, 64, 67, 0.15);\n",
              "        fill: #174EA6;\n",
              "      }\n",
              "\n",
              "      [theme=dark] .colab-df-generate {\n",
              "        background-color: #3B4455;\n",
              "        fill: #D2E3FC;\n",
              "      }\n",
              "\n",
              "      [theme=dark] .colab-df-generate:hover {\n",
              "        background-color: #434B5C;\n",
              "        box-shadow: 0px 1px 3px 1px rgba(0, 0, 0, 0.15);\n",
              "        filter: drop-shadow(0px 1px 2px rgba(0, 0, 0, 0.3));\n",
              "        fill: #FFFFFF;\n",
              "      }\n",
              "    </style>\n",
              "    <button class=\"colab-df-generate\" onclick=\"generateWithVariable('df_transactions')\"\n",
              "            title=\"Generate code using this dataframe.\"\n",
              "            style=\"display:none;\">\n",
              "\n",
              "  <svg xmlns=\"http://www.w3.org/2000/svg\" height=\"24px\"viewBox=\"0 0 24 24\"\n",
              "       width=\"24px\">\n",
              "    <path d=\"M7,19H8.4L18.45,9,17,7.55,7,17.6ZM5,21V16.75L18.45,3.32a2,2,0,0,1,2.83,0l1.4,1.43a1.91,1.91,0,0,1,.58,1.4,1.91,1.91,0,0,1-.58,1.4L9.25,21ZM18.45,9,17,7.55Zm-12,3A5.31,5.31,0,0,0,4.9,8.1,5.31,5.31,0,0,0,1,6.5,5.31,5.31,0,0,0,4.9,4.9,5.31,5.31,0,0,0,6.5,1,5.31,5.31,0,0,0,8.1,4.9,5.31,5.31,0,0,0,12,6.5,5.46,5.46,0,0,0,6.5,12Z\"/>\n",
              "  </svg>\n",
              "    </button>\n",
              "    <script>\n",
              "      (() => {\n",
              "      const buttonEl =\n",
              "        document.querySelector('#id_8cd75599-30c6-4027-a411-23f55f0c4fc2 button.colab-df-generate');\n",
              "      buttonEl.style.display =\n",
              "        google.colab.kernel.accessAllowed ? 'block' : 'none';\n",
              "\n",
              "      buttonEl.onclick = () => {\n",
              "        google.colab.notebook.generateWithVariable('df_transactions');\n",
              "      }\n",
              "      })();\n",
              "    </script>\n",
              "  </div>\n",
              "\n",
              "    </div>\n",
              "  </div>\n"
            ],
            "text/plain": [
              "      id_mutation  valeur_fonciere  surface_reelle_bati  prix_m2  \\\n",
              "0    2019-1064422         156000.0                   19     8210   \n",
              "1    2019-1080094         495000.0                   53     9339   \n",
              "2    2019-1078635         430000.0                   49     8775   \n",
              "3    2019-1069949         216000.0                   30     7200   \n",
              "4    2019-1093709         500000.0                   45    11111   \n",
              "..            ...              ...                  ...      ...   \n",
              "285  2019-1090117         206450.0                   21     9830   \n",
              "286  2018-1400990         113000.0                   11    10272   \n",
              "287  2018-1391042         315000.0                   30    10500   \n",
              "288  2018-1402082         366000.0                   58     6310   \n",
              "289  2019-1096647         260000.0                   23    11304   \n",
              "\n",
              "     nombre_pieces_principales   type_local               nom_commune  \\\n",
              "0                            1  appartement   Paris 3e Arrondissement   \n",
              "1                            3  appartement  Paris 15e Arrondissement   \n",
              "2                            3  appartement  Paris 15e Arrondissement   \n",
              "3                            3  appartement  Paris 10e Arrondissement   \n",
              "4                            2  appartement  Paris 18e Arrondissement   \n",
              "..                         ...          ...                       ...   \n",
              "285                          1  appartement  Paris 17e Arrondissement   \n",
              "286                          1  appartement  Paris 18e Arrondissement   \n",
              "287                          2  appartement  Paris 15e Arrondissement   \n",
              "288                          4  appartement  Paris 18e Arrondissement   \n",
              "289                          1  appartement  Paris 19e Arrondissement   \n",
              "\n",
              "                  nom_iris  code_commune  code_departement  code_iris  \\\n",
              "0         Enfants Rouges 3         75103                75  751031003   \n",
              "1         Saint-Lambert 10         75115                75  751155710   \n",
              "2         Saint-Lambert 24         75115                75  751155724   \n",
              "3    Hopital Saint-Louis 3         75110                75  751104003   \n",
              "4     Grandes Carrieres 12         75118                75  751186912   \n",
              "..                     ...           ...               ...        ...   \n",
              "285            Epinettes 7         75117                75  751176807   \n",
              "286        Clignancourt 24         75118                75  751187024   \n",
              "287       Saint-Lambert 10         75115                75  751155710   \n",
              "288             Chapelle 5         75118                75  751187205   \n",
              "289             Villette 2         75119                75  751197302   \n",
              "\n",
              "       id_parcelles  longitude   latitude date_mutation  \n",
              "0    75103000AK0097   2.361791  48.861877    2019-07-03  \n",
              "1    75115000BJ0016   2.283552  48.836610    2019-04-30  \n",
              "2    75115000BT0039   2.298475  48.841206    2019-01-17  \n",
              "3    75110000BJ0070   2.371124  48.872010    2019-04-17  \n",
              "4    75118000AV0086   2.338148  48.890540    2019-07-29  \n",
              "..              ...        ...        ...           ...  \n",
              "285  75117000DH0132   2.321425  48.892270    2019-10-07  \n",
              "286  75118000BE0079   2.343846  48.895130    2018-05-23  \n",
              "287  75115000BK0018   2.288922  48.838097    2018-12-27  \n",
              "288  75118000CZ0021   2.361734  48.893486    2018-07-26  \n",
              "289  75119000AV0111   2.375770  48.883700    2019-03-08  \n",
              "\n",
              "[290 rows x 15 columns]"
            ]
          },
          "execution_count": 16,
          "metadata": {},
          "output_type": "execute_result"
        }
      ],
      "source": [
        "import pandas as pd\n",
        "\n",
        "df_transactions = pd.read_csv(\"https://raw.githubusercontent.com/WildCodeSchool/wilddata/main/transactions_paris.csv\")\n",
        "\n",
        "df_transactions"
      ]
    },
    {
      "cell_type": "code",
      "execution_count": null,
      "metadata": {
        "colab": {
          "base_uri": "https://localhost:8080/"
        },
        "id": "NSL3TE2xb0u-",
        "outputId": "71c0256d-2669-4cce-c2b3-3b55061d1a1e"
      },
      "outputs": [
        {
          "name": "stdout",
          "output_type": "stream",
          "text": [
            "(290, 15)\n"
          ]
        }
      ],
      "source": [
        "print(df_transactions.shape)                # la méthode .shape nous permet d'afficher le nombre de lignes et colonnes du dataframe"
      ]
    },
    {
      "cell_type": "code",
      "execution_count": null,
      "metadata": {
        "colab": {
          "base_uri": "https://localhost:8080/"
        },
        "id": "znRD_-Uib5IV",
        "outputId": "30060837-b767-4b79-fb9c-d458d56650ad"
      },
      "outputs": [
        {
          "name": "stdout",
          "output_type": "stream",
          "text": [
            "<class 'pandas.core.frame.DataFrame'>\n",
            "RangeIndex: 290 entries, 0 to 289\n",
            "Data columns (total 15 columns):\n",
            " #   Column                     Non-Null Count  Dtype  \n",
            "---  ------                     --------------  -----  \n",
            " 0   id_mutation                290 non-null    object \n",
            " 1   valeur_fonciere            290 non-null    float64\n",
            " 2   surface_reelle_bati        290 non-null    int64  \n",
            " 3   prix_m2                    290 non-null    int64  \n",
            " 4   nombre_pieces_principales  290 non-null    int64  \n",
            " 5   type_local                 290 non-null    object \n",
            " 6   nom_commune                290 non-null    object \n",
            " 7   nom_iris                   290 non-null    object \n",
            " 8   code_commune               290 non-null    int64  \n",
            " 9   code_departement           290 non-null    int64  \n",
            " 10  code_iris                  290 non-null    int64  \n",
            " 11  id_parcelles               290 non-null    object \n",
            " 12  longitude                  290 non-null    float64\n",
            " 13  latitude                   290 non-null    float64\n",
            " 14  date_mutation              290 non-null    object \n",
            "dtypes: float64(3), int64(6), object(6)\n",
            "memory usage: 34.1+ KB\n",
            "None\n"
          ]
        }
      ],
      "source": [
        "print(df_transactions.info())               # la méthode .info() nous permet d'identifier le type de variables pour chaque colonne ainsi que de vérifier la présence de valeurs nulles"
      ]
    },
    {
      "cell_type": "markdown",
      "metadata": {
        "id": "1Ge08BWsmVYh"
      },
      "source": [
        "> Extraire les valeurs aberrantes, qui ont surface supérieure à 6000 et les insérer dans un DataFrame, nommé `df_outliers`. Renvoyer le nombre de lignes pour ce DataFrame."
      ]
    },
    {
      "cell_type": "code",
      "execution_count": null,
      "metadata": {
        "colab": {
          "base_uri": "https://localhost:8080/",
          "height": 519
        },
        "id": "TLd0c4i3akqu",
        "outputId": "8454a1be-3f9b-4a1f-fdfa-03a73cb59132"
      },
      "outputs": [
        {
          "data": {
            "application/vnd.google.colaboratory.intrinsic+json": {
              "summary": "{\n  \"name\": \"df_transactions\",\n  \"rows\": 15,\n  \"fields\": [\n    {\n      \"column\": \"valeur_fonciere\",\n      \"properties\": {\n        \"dtype\": \"number\",\n        \"std\": 50267893.77961033,\n        \"min\": 290.0,\n        \"max\": 195600000.0,\n        \"num_unique_values\": 14,\n        \"samples\": [\n          467720.0000000001,\n          683919.9999999999,\n          290.0\n        ],\n        \"semantic_type\": \"\",\n        \"description\": \"\"\n      }\n    },\n    {\n      \"column\": \"surface_reelle_bati\",\n      \"properties\": {\n        \"dtype\": \"number\",\n        \"std\": 3044.9786126578388,\n        \"min\": 8.0,\n        \"max\": 11887.0,\n        \"num_unique_values\": 14,\n        \"samples\": [\n          49.0,\n          61.20000000000002,\n          290.0\n        ],\n        \"semantic_type\": \"\",\n        \"description\": \"\"\n      }\n    },\n    {\n      \"column\": \"prix_m2\",\n      \"properties\": {\n        \"dtype\": \"number\",\n        \"std\": 5499.795396063047,\n        \"min\": 290.0,\n        \"max\": 22080.0,\n        \"num_unique_values\": 14,\n        \"samples\": [\n          10526.0,\n          12057.000000000002,\n          290.0\n        ],\n        \"semantic_type\": \"\",\n        \"description\": \"\"\n      }\n    },\n    {\n      \"column\": \"nombre_pieces_principales\",\n      \"properties\": {\n        \"dtype\": \"number\",\n        \"std\": 74.33767941926803,\n        \"min\": 0.0,\n        \"max\": 290.0,\n        \"num_unique_values\": 9,\n        \"samples\": [\n          4.0,\n          2.231034482758621,\n          2.0\n        ],\n        \"semantic_type\": \"\",\n        \"description\": \"\"\n      }\n    },\n    {\n      \"column\": \"code_commune\",\n      \"properties\": {\n        \"dtype\": \"number\",\n        \"std\": 26377.650362809018,\n        \"min\": 4.830010981891521,\n        \"max\": 75120.0,\n        \"num_unique_values\": 14,\n        \"samples\": [\n          75116.0,\n          75118.0,\n          290.0\n        ],\n        \"semantic_type\": \"\",\n        \"description\": \"\"\n      }\n    },\n    {\n      \"column\": \"code_departement\",\n      \"properties\": {\n        \"dtype\": \"number\",\n        \"std\": 60.085256887510226,\n        \"min\": 0.0,\n        \"max\": 290.0,\n        \"num_unique_values\": 3,\n        \"samples\": [\n          290.0,\n          75.0,\n          0.0\n        ],\n        \"semantic_type\": \"\",\n        \"description\": \"\"\n      }\n    },\n    {\n      \"column\": \"code_iris\",\n      \"properties\": {\n        \"dtype\": \"number\",\n        \"std\": 264287452.4436165,\n        \"min\": 290.0,\n        \"max\": 751208026.0,\n        \"num_unique_values\": 14,\n        \"samples\": [\n          751166211.0,\n          751187003.2,\n          290.0\n        ],\n        \"semantic_type\": \"\",\n        \"description\": \"\"\n      }\n    },\n    {\n      \"column\": \"longitude\",\n      \"properties\": {\n        \"dtype\": \"number\",\n        \"std\": 74.32045620079597,\n        \"min\": 0.03581494081098565,\n        \"max\": 290.0,\n        \"num_unique_values\": 14,\n        \"samples\": [\n          2.3473924,\n          2.3707232,\n          290.0\n        ],\n        \"semantic_type\": \"\",\n        \"description\": \"\"\n      }\n    },\n    {\n      \"column\": \"latitude\",\n      \"properties\": {\n        \"dtype\": \"number\",\n        \"std\": 64.4029310313088,\n        \"min\": 0.020806784906614435,\n        \"max\": 290.0,\n        \"num_unique_values\": 14,\n        \"samples\": [\n          48.8721892,\n          48.88483700000001,\n          290.0\n        ],\n        \"semantic_type\": \"\",\n        \"description\": \"\"\n      }\n    }\n  ]\n}",
              "type": "dataframe"
            },
            "text/html": [
              "\n",
              "  <div id=\"df-9fcc2c2a-0370-493b-a80d-ba965b1f73c3\" class=\"colab-df-container\">\n",
              "    <div>\n",
              "<style scoped>\n",
              "    .dataframe tbody tr th:only-of-type {\n",
              "        vertical-align: middle;\n",
              "    }\n",
              "\n",
              "    .dataframe tbody tr th {\n",
              "        vertical-align: top;\n",
              "    }\n",
              "\n",
              "    .dataframe thead th {\n",
              "        text-align: right;\n",
              "    }\n",
              "</style>\n",
              "<table border=\"1\" class=\"dataframe\">\n",
              "  <thead>\n",
              "    <tr style=\"text-align: right;\">\n",
              "      <th></th>\n",
              "      <th>valeur_fonciere</th>\n",
              "      <th>surface_reelle_bati</th>\n",
              "      <th>prix_m2</th>\n",
              "      <th>nombre_pieces_principales</th>\n",
              "      <th>code_commune</th>\n",
              "      <th>code_departement</th>\n",
              "      <th>code_iris</th>\n",
              "      <th>longitude</th>\n",
              "      <th>latitude</th>\n",
              "    </tr>\n",
              "  </thead>\n",
              "  <tbody>\n",
              "    <tr>\n",
              "      <th>count</th>\n",
              "      <td>2.900000e+02</td>\n",
              "      <td>290.000000</td>\n",
              "      <td>290.000000</td>\n",
              "      <td>290.000000</td>\n",
              "      <td>290.000000</td>\n",
              "      <td>290.0</td>\n",
              "      <td>2.900000e+02</td>\n",
              "      <td>290.000000</td>\n",
              "      <td>290.000000</td>\n",
              "    </tr>\n",
              "    <tr>\n",
              "      <th>mean</th>\n",
              "      <td>1.473177e+06</td>\n",
              "      <td>166.324138</td>\n",
              "      <td>10299.355172</td>\n",
              "      <td>2.231034</td>\n",
              "      <td>75113.537931</td>\n",
              "      <td>75.0</td>\n",
              "      <td>7.511407e+08</td>\n",
              "      <td>2.337629</td>\n",
              "      <td>48.863934</td>\n",
              "    </tr>\n",
              "    <tr>\n",
              "      <th>std</th>\n",
              "      <td>1.187590e+07</td>\n",
              "      <td>1032.764258</td>\n",
              "      <td>2838.395323</td>\n",
              "      <td>1.127696</td>\n",
              "      <td>4.830011</td>\n",
              "      <td>0.0</td>\n",
              "      <td>5.023655e+04</td>\n",
              "      <td>0.035815</td>\n",
              "      <td>0.020807</td>\n",
              "    </tr>\n",
              "    <tr>\n",
              "      <th>min</th>\n",
              "      <td>2.500000e+04</td>\n",
              "      <td>8.000000</td>\n",
              "      <td>2087.000000</td>\n",
              "      <td>0.000000</td>\n",
              "      <td>75101.000000</td>\n",
              "      <td>75.0</td>\n",
              "      <td>7.510102e+08</td>\n",
              "      <td>2.259315</td>\n",
              "      <td>48.823395</td>\n",
              "    </tr>\n",
              "    <tr>\n",
              "      <th>0%</th>\n",
              "      <td>2.500000e+04</td>\n",
              "      <td>8.000000</td>\n",
              "      <td>2087.000000</td>\n",
              "      <td>0.000000</td>\n",
              "      <td>75101.000000</td>\n",
              "      <td>75.0</td>\n",
              "      <td>7.510102e+08</td>\n",
              "      <td>2.259315</td>\n",
              "      <td>48.823395</td>\n",
              "    </tr>\n",
              "    <tr>\n",
              "      <th>10%</th>\n",
              "      <td>1.773500e+05</td>\n",
              "      <td>18.900000</td>\n",
              "      <td>7500.000000</td>\n",
              "      <td>1.000000</td>\n",
              "      <td>75106.000000</td>\n",
              "      <td>75.0</td>\n",
              "      <td>7.510621e+08</td>\n",
              "      <td>2.287171</td>\n",
              "      <td>48.834325</td>\n",
              "    </tr>\n",
              "    <tr>\n",
              "      <th>20%</th>\n",
              "      <td>2.328000e+05</td>\n",
              "      <td>24.800000</td>\n",
              "      <td>8333.000000</td>\n",
              "      <td>1.000000</td>\n",
              "      <td>75109.000000</td>\n",
              "      <td>75.0</td>\n",
              "      <td>7.510936e+08</td>\n",
              "      <td>2.301604</td>\n",
              "      <td>48.842312</td>\n",
              "    </tr>\n",
              "    <tr>\n",
              "      <th>30%</th>\n",
              "      <td>2.776165e+05</td>\n",
              "      <td>30.000000</td>\n",
              "      <td>8773.200000</td>\n",
              "      <td>2.000000</td>\n",
              "      <td>75111.000000</td>\n",
              "      <td>75.0</td>\n",
              "      <td>7.511142e+08</td>\n",
              "      <td>2.317395</td>\n",
              "      <td>48.850378</td>\n",
              "    </tr>\n",
              "    <tr>\n",
              "      <th>40%</th>\n",
              "      <td>3.410800e+05</td>\n",
              "      <td>32.600000</td>\n",
              "      <td>9332.600000</td>\n",
              "      <td>2.000000</td>\n",
              "      <td>75114.000000</td>\n",
              "      <td>75.0</td>\n",
              "      <td>7.511455e+08</td>\n",
              "      <td>2.326631</td>\n",
              "      <td>48.857085</td>\n",
              "    </tr>\n",
              "    <tr>\n",
              "      <th>50%</th>\n",
              "      <td>4.214500e+05</td>\n",
              "      <td>44.000000</td>\n",
              "      <td>10000.000000</td>\n",
              "      <td>2.000000</td>\n",
              "      <td>75115.000000</td>\n",
              "      <td>75.0</td>\n",
              "      <td>7.511558e+08</td>\n",
              "      <td>2.341808</td>\n",
              "      <td>48.865904</td>\n",
              "    </tr>\n",
              "    <tr>\n",
              "      <th>60%</th>\n",
              "      <td>4.677200e+05</td>\n",
              "      <td>49.000000</td>\n",
              "      <td>10526.000000</td>\n",
              "      <td>2.000000</td>\n",
              "      <td>75116.000000</td>\n",
              "      <td>75.0</td>\n",
              "      <td>7.511662e+08</td>\n",
              "      <td>2.347392</td>\n",
              "      <td>48.872189</td>\n",
              "    </tr>\n",
              "    <tr>\n",
              "      <th>70%</th>\n",
              "      <td>5.512160e+05</td>\n",
              "      <td>55.000000</td>\n",
              "      <td>11126.500000</td>\n",
              "      <td>3.000000</td>\n",
              "      <td>75117.000000</td>\n",
              "      <td>75.0</td>\n",
              "      <td>7.511767e+08</td>\n",
              "      <td>2.359108</td>\n",
              "      <td>48.879853</td>\n",
              "    </tr>\n",
              "    <tr>\n",
              "      <th>80%</th>\n",
              "      <td>6.839200e+05</td>\n",
              "      <td>61.200000</td>\n",
              "      <td>12057.000000</td>\n",
              "      <td>3.000000</td>\n",
              "      <td>75118.000000</td>\n",
              "      <td>75.0</td>\n",
              "      <td>7.511870e+08</td>\n",
              "      <td>2.370723</td>\n",
              "      <td>48.884837</td>\n",
              "    </tr>\n",
              "    <tr>\n",
              "      <th>90%</th>\n",
              "      <td>1.001000e+06</td>\n",
              "      <td>92.000000</td>\n",
              "      <td>13719.400000</td>\n",
              "      <td>4.000000</td>\n",
              "      <td>75119.000000</td>\n",
              "      <td>75.0</td>\n",
              "      <td>7.511974e+08</td>\n",
              "      <td>2.387344</td>\n",
              "      <td>48.890541</td>\n",
              "    </tr>\n",
              "    <tr>\n",
              "      <th>max</th>\n",
              "      <td>1.956000e+08</td>\n",
              "      <td>11887.000000</td>\n",
              "      <td>22080.000000</td>\n",
              "      <td>7.000000</td>\n",
              "      <td>75120.000000</td>\n",
              "      <td>75.0</td>\n",
              "      <td>7.512080e+08</td>\n",
              "      <td>2.410449</td>\n",
              "      <td>48.897377</td>\n",
              "    </tr>\n",
              "  </tbody>\n",
              "</table>\n",
              "</div>\n",
              "    <div class=\"colab-df-buttons\">\n",
              "\n",
              "  <div class=\"colab-df-container\">\n",
              "    <button class=\"colab-df-convert\" onclick=\"convertToInteractive('df-9fcc2c2a-0370-493b-a80d-ba965b1f73c3')\"\n",
              "            title=\"Convert this dataframe to an interactive table.\"\n",
              "            style=\"display:none;\">\n",
              "\n",
              "  <svg xmlns=\"http://www.w3.org/2000/svg\" height=\"24px\" viewBox=\"0 -960 960 960\">\n",
              "    <path d=\"M120-120v-720h720v720H120Zm60-500h600v-160H180v160Zm220 220h160v-160H400v160Zm0 220h160v-160H400v160ZM180-400h160v-160H180v160Zm440 0h160v-160H620v160ZM180-180h160v-160H180v160Zm440 0h160v-160H620v160Z\"/>\n",
              "  </svg>\n",
              "    </button>\n",
              "\n",
              "  <style>\n",
              "    .colab-df-container {\n",
              "      display:flex;\n",
              "      gap: 12px;\n",
              "    }\n",
              "\n",
              "    .colab-df-convert {\n",
              "      background-color: #E8F0FE;\n",
              "      border: none;\n",
              "      border-radius: 50%;\n",
              "      cursor: pointer;\n",
              "      display: none;\n",
              "      fill: #1967D2;\n",
              "      height: 32px;\n",
              "      padding: 0 0 0 0;\n",
              "      width: 32px;\n",
              "    }\n",
              "\n",
              "    .colab-df-convert:hover {\n",
              "      background-color: #E2EBFA;\n",
              "      box-shadow: 0px 1px 2px rgba(60, 64, 67, 0.3), 0px 1px 3px 1px rgba(60, 64, 67, 0.15);\n",
              "      fill: #174EA6;\n",
              "    }\n",
              "\n",
              "    .colab-df-buttons div {\n",
              "      margin-bottom: 4px;\n",
              "    }\n",
              "\n",
              "    [theme=dark] .colab-df-convert {\n",
              "      background-color: #3B4455;\n",
              "      fill: #D2E3FC;\n",
              "    }\n",
              "\n",
              "    [theme=dark] .colab-df-convert:hover {\n",
              "      background-color: #434B5C;\n",
              "      box-shadow: 0px 1px 3px 1px rgba(0, 0, 0, 0.15);\n",
              "      filter: drop-shadow(0px 1px 2px rgba(0, 0, 0, 0.3));\n",
              "      fill: #FFFFFF;\n",
              "    }\n",
              "  </style>\n",
              "\n",
              "    <script>\n",
              "      const buttonEl =\n",
              "        document.querySelector('#df-9fcc2c2a-0370-493b-a80d-ba965b1f73c3 button.colab-df-convert');\n",
              "      buttonEl.style.display =\n",
              "        google.colab.kernel.accessAllowed ? 'block' : 'none';\n",
              "\n",
              "      async function convertToInteractive(key) {\n",
              "        const element = document.querySelector('#df-9fcc2c2a-0370-493b-a80d-ba965b1f73c3');\n",
              "        const dataTable =\n",
              "          await google.colab.kernel.invokeFunction('convertToInteractive',\n",
              "                                                    [key], {});\n",
              "        if (!dataTable) return;\n",
              "\n",
              "        const docLinkHtml = 'Like what you see? Visit the ' +\n",
              "          '<a target=\"_blank\" href=https://colab.research.google.com/notebooks/data_table.ipynb>data table notebook</a>'\n",
              "          + ' to learn more about interactive tables.';\n",
              "        element.innerHTML = '';\n",
              "        dataTable['output_type'] = 'display_data';\n",
              "        await google.colab.output.renderOutput(dataTable, element);\n",
              "        const docLink = document.createElement('div');\n",
              "        docLink.innerHTML = docLinkHtml;\n",
              "        element.appendChild(docLink);\n",
              "      }\n",
              "    </script>\n",
              "  </div>\n",
              "\n",
              "\n",
              "<div id=\"df-326236b4-7724-458b-a5c9-d58a204f25c1\">\n",
              "  <button class=\"colab-df-quickchart\" onclick=\"quickchart('df-326236b4-7724-458b-a5c9-d58a204f25c1')\"\n",
              "            title=\"Suggest charts\"\n",
              "            style=\"display:none;\">\n",
              "\n",
              "<svg xmlns=\"http://www.w3.org/2000/svg\" height=\"24px\"viewBox=\"0 0 24 24\"\n",
              "     width=\"24px\">\n",
              "    <g>\n",
              "        <path d=\"M19 3H5c-1.1 0-2 .9-2 2v14c0 1.1.9 2 2 2h14c1.1 0 2-.9 2-2V5c0-1.1-.9-2-2-2zM9 17H7v-7h2v7zm4 0h-2V7h2v10zm4 0h-2v-4h2v4z\"/>\n",
              "    </g>\n",
              "</svg>\n",
              "  </button>\n",
              "\n",
              "<style>\n",
              "  .colab-df-quickchart {\n",
              "      --bg-color: #E8F0FE;\n",
              "      --fill-color: #1967D2;\n",
              "      --hover-bg-color: #E2EBFA;\n",
              "      --hover-fill-color: #174EA6;\n",
              "      --disabled-fill-color: #AAA;\n",
              "      --disabled-bg-color: #DDD;\n",
              "  }\n",
              "\n",
              "  [theme=dark] .colab-df-quickchart {\n",
              "      --bg-color: #3B4455;\n",
              "      --fill-color: #D2E3FC;\n",
              "      --hover-bg-color: #434B5C;\n",
              "      --hover-fill-color: #FFFFFF;\n",
              "      --disabled-bg-color: #3B4455;\n",
              "      --disabled-fill-color: #666;\n",
              "  }\n",
              "\n",
              "  .colab-df-quickchart {\n",
              "    background-color: var(--bg-color);\n",
              "    border: none;\n",
              "    border-radius: 50%;\n",
              "    cursor: pointer;\n",
              "    display: none;\n",
              "    fill: var(--fill-color);\n",
              "    height: 32px;\n",
              "    padding: 0;\n",
              "    width: 32px;\n",
              "  }\n",
              "\n",
              "  .colab-df-quickchart:hover {\n",
              "    background-color: var(--hover-bg-color);\n",
              "    box-shadow: 0 1px 2px rgba(60, 64, 67, 0.3), 0 1px 3px 1px rgba(60, 64, 67, 0.15);\n",
              "    fill: var(--button-hover-fill-color);\n",
              "  }\n",
              "\n",
              "  .colab-df-quickchart-complete:disabled,\n",
              "  .colab-df-quickchart-complete:disabled:hover {\n",
              "    background-color: var(--disabled-bg-color);\n",
              "    fill: var(--disabled-fill-color);\n",
              "    box-shadow: none;\n",
              "  }\n",
              "\n",
              "  .colab-df-spinner {\n",
              "    border: 2px solid var(--fill-color);\n",
              "    border-color: transparent;\n",
              "    border-bottom-color: var(--fill-color);\n",
              "    animation:\n",
              "      spin 1s steps(1) infinite;\n",
              "  }\n",
              "\n",
              "  @keyframes spin {\n",
              "    0% {\n",
              "      border-color: transparent;\n",
              "      border-bottom-color: var(--fill-color);\n",
              "      border-left-color: var(--fill-color);\n",
              "    }\n",
              "    20% {\n",
              "      border-color: transparent;\n",
              "      border-left-color: var(--fill-color);\n",
              "      border-top-color: var(--fill-color);\n",
              "    }\n",
              "    30% {\n",
              "      border-color: transparent;\n",
              "      border-left-color: var(--fill-color);\n",
              "      border-top-color: var(--fill-color);\n",
              "      border-right-color: var(--fill-color);\n",
              "    }\n",
              "    40% {\n",
              "      border-color: transparent;\n",
              "      border-right-color: var(--fill-color);\n",
              "      border-top-color: var(--fill-color);\n",
              "    }\n",
              "    60% {\n",
              "      border-color: transparent;\n",
              "      border-right-color: var(--fill-color);\n",
              "    }\n",
              "    80% {\n",
              "      border-color: transparent;\n",
              "      border-right-color: var(--fill-color);\n",
              "      border-bottom-color: var(--fill-color);\n",
              "    }\n",
              "    90% {\n",
              "      border-color: transparent;\n",
              "      border-bottom-color: var(--fill-color);\n",
              "    }\n",
              "  }\n",
              "</style>\n",
              "\n",
              "  <script>\n",
              "    async function quickchart(key) {\n",
              "      const quickchartButtonEl =\n",
              "        document.querySelector('#' + key + ' button');\n",
              "      quickchartButtonEl.disabled = true;  // To prevent multiple clicks.\n",
              "      quickchartButtonEl.classList.add('colab-df-spinner');\n",
              "      try {\n",
              "        const charts = await google.colab.kernel.invokeFunction(\n",
              "            'suggestCharts', [key], {});\n",
              "      } catch (error) {\n",
              "        console.error('Error during call to suggestCharts:', error);\n",
              "      }\n",
              "      quickchartButtonEl.classList.remove('colab-df-spinner');\n",
              "      quickchartButtonEl.classList.add('colab-df-quickchart-complete');\n",
              "    }\n",
              "    (() => {\n",
              "      let quickchartButtonEl =\n",
              "        document.querySelector('#df-326236b4-7724-458b-a5c9-d58a204f25c1 button');\n",
              "      quickchartButtonEl.style.display =\n",
              "        google.colab.kernel.accessAllowed ? 'block' : 'none';\n",
              "    })();\n",
              "  </script>\n",
              "</div>\n",
              "\n",
              "    </div>\n",
              "  </div>\n"
            ],
            "text/plain": [
              "       valeur_fonciere  surface_reelle_bati       prix_m2  \\\n",
              "count     2.900000e+02           290.000000    290.000000   \n",
              "mean      1.473177e+06           166.324138  10299.355172   \n",
              "std       1.187590e+07          1032.764258   2838.395323   \n",
              "min       2.500000e+04             8.000000   2087.000000   \n",
              "0%        2.500000e+04             8.000000   2087.000000   \n",
              "10%       1.773500e+05            18.900000   7500.000000   \n",
              "20%       2.328000e+05            24.800000   8333.000000   \n",
              "30%       2.776165e+05            30.000000   8773.200000   \n",
              "40%       3.410800e+05            32.600000   9332.600000   \n",
              "50%       4.214500e+05            44.000000  10000.000000   \n",
              "60%       4.677200e+05            49.000000  10526.000000   \n",
              "70%       5.512160e+05            55.000000  11126.500000   \n",
              "80%       6.839200e+05            61.200000  12057.000000   \n",
              "90%       1.001000e+06            92.000000  13719.400000   \n",
              "max       1.956000e+08         11887.000000  22080.000000   \n",
              "\n",
              "       nombre_pieces_principales  code_commune  code_departement  \\\n",
              "count                 290.000000    290.000000             290.0   \n",
              "mean                    2.231034  75113.537931              75.0   \n",
              "std                     1.127696      4.830011               0.0   \n",
              "min                     0.000000  75101.000000              75.0   \n",
              "0%                      0.000000  75101.000000              75.0   \n",
              "10%                     1.000000  75106.000000              75.0   \n",
              "20%                     1.000000  75109.000000              75.0   \n",
              "30%                     2.000000  75111.000000              75.0   \n",
              "40%                     2.000000  75114.000000              75.0   \n",
              "50%                     2.000000  75115.000000              75.0   \n",
              "60%                     2.000000  75116.000000              75.0   \n",
              "70%                     3.000000  75117.000000              75.0   \n",
              "80%                     3.000000  75118.000000              75.0   \n",
              "90%                     4.000000  75119.000000              75.0   \n",
              "max                     7.000000  75120.000000              75.0   \n",
              "\n",
              "          code_iris   longitude    latitude  \n",
              "count  2.900000e+02  290.000000  290.000000  \n",
              "mean   7.511407e+08    2.337629   48.863934  \n",
              "std    5.023655e+04    0.035815    0.020807  \n",
              "min    7.510102e+08    2.259315   48.823395  \n",
              "0%     7.510102e+08    2.259315   48.823395  \n",
              "10%    7.510621e+08    2.287171   48.834325  \n",
              "20%    7.510936e+08    2.301604   48.842312  \n",
              "30%    7.511142e+08    2.317395   48.850378  \n",
              "40%    7.511455e+08    2.326631   48.857085  \n",
              "50%    7.511558e+08    2.341808   48.865904  \n",
              "60%    7.511662e+08    2.347392   48.872189  \n",
              "70%    7.511767e+08    2.359108   48.879853  \n",
              "80%    7.511870e+08    2.370723   48.884837  \n",
              "90%    7.511974e+08    2.387344   48.890541  \n",
              "max    7.512080e+08    2.410449   48.897377  "
            ]
          },
          "execution_count": 17,
          "metadata": {},
          "output_type": "execute_result"
        }
      ],
      "source": [
        "import numpy as np\n",
        "\n",
        "df_transactions.describe(percentiles = np.arange(0, 1, 0.1))"
      ]
    },
    {
      "cell_type": "code",
      "execution_count": null,
      "metadata": {
        "colab": {
          "base_uri": "https://localhost:8080/"
        },
        "id": "T6otcVIQiQLe",
        "outputId": "48490ce7-fc27-45b6-bce2-6c2318512562"
      },
      "outputs": [
        {
          "name": "stdout",
          "output_type": "stream",
          "text": [
            "(4, 15)\n"
          ]
        }
      ],
      "source": [
        "condition = df_transactions[\"surface_reelle_bati\"] >= 6000                  # condition pour ne conserver que les valeurs supérieures ou égales à 6000\n",
        "df_outliers = df_transactions[condition]                                    # on créé un nouveau dataframe en appliquant la condition au premier dataframe\n",
        "print(df_outliers.shape)\n"
      ]
    },
    {
      "cell_type": "code",
      "execution_count": null,
      "metadata": {
        "colab": {
          "base_uri": "https://localhost:8080/"
        },
        "id": "w0cqyZVtcGdQ",
        "outputId": "ff01cbab-f526-4d03-80cf-0cac98a10702"
      },
      "outputs": [
        {
          "name": "stdout",
          "output_type": "stream",
          "text": [
            "|     | id_mutation   |   valeur_fonciere |   surface_reelle_bati |   prix_m2 |   nombre_pieces_principales | type_local       | nom_commune              | nom_iris           |   code_commune |   code_departement |   code_iris | id_parcelles   |   longitude |   latitude | date_mutation   |\n",
            "|----:|:--------------|------------------:|----------------------:|----------:|----------------------------:|:-----------------|:-------------------------|:-------------------|---------------:|-------------------:|------------:|:---------------|------------:|-----------:|:----------------|\n",
            "|  50 | 2019-1100210  |       4.21015e+07 |                  8290 |      5078 |                           0 | local industriel | Paris 19e Arrondissement | Amerique 21        |          75119 |                 75 |   751197521 | 75119000CY0033 |     2.39205 |    48.8868 | 2019-11-14      |\n",
            "| 113 | 2019-1084676  |       1.956e+08   |                 11887 |     16454 |                           0 | local industriel | Paris 16e Arrondissement | Porte Dauphine 7   |          75116 |                 75 |   751166307 | 75116000EA0013 |     2.27949 |    48.8691 | 2019-06-25      |\n",
            "| 130 | 2018-1406579  |       1.54141e+07 |                  7385 |      2087 |                           0 | local industriel | Paris 19e Arrondissement | Pont de Flandre 12 |          75119 |                 75 |   751197412 | 75119000BD0023 |     2.38527 |    48.8968 | 2018-06-29      |\n",
            "| 190 | 2018-1378678  |       3.17424e+07 |                  7128 |      4453 |                           0 | local industriel | Paris 11e Arrondissement | Saint-Ambroise 9   |          75111 |                 75 |   751114209 | 75111000AP0010 |     2.36837 |    48.8624 | 2018-06-28      |\n"
          ]
        }
      ],
      "source": [
        "print(df_outliers.to_markdown())"
      ]
    },
    {
      "cell_type": "markdown",
      "metadata": {
        "id": "LfDMbO_NmYUD"
      },
      "source": [
        "> Vérifier le nombre de valeurs manquantes pour chaque colonne."
      ]
    },
    {
      "cell_type": "code",
      "execution_count": null,
      "metadata": {
        "colab": {
          "base_uri": "https://localhost:8080/"
        },
        "id": "TknQILfgiSLB",
        "outputId": "fd539e61-d92a-4188-d1fa-89fbecc56df4"
      },
      "outputs": [
        {
          "name": "stdout",
          "output_type": "stream",
          "text": [
            "id_mutation                  0\n",
            "valeur_fonciere              0\n",
            "surface_reelle_bati          0\n",
            "prix_m2                      0\n",
            "nombre_pieces_principales    0\n",
            "type_local                   0\n",
            "nom_commune                  0\n",
            "nom_iris                     0\n",
            "code_commune                 0\n",
            "code_departement             0\n",
            "code_iris                    0\n",
            "id_parcelles                 0\n",
            "longitude                    0\n",
            "latitude                     0\n",
            "date_mutation                0\n",
            "dtype: int64\n"
          ]
        }
      ],
      "source": [
        "print(df_transactions.isna().sum())"
      ]
    },
    {
      "cell_type": "markdown",
      "metadata": {
        "id": "OeXFwHjzbUYx"
      },
      "source": [
        "Il n'y a pas de valeurs manquantes"
      ]
    },
    {
      "cell_type": "markdown",
      "metadata": {
        "id": "zm5b-Na2mZWw"
      },
      "source": [
        "> Observer le nombre de valeurs distinctes pour la colonne \"type_local\" pour `df_transactions`."
      ]
    },
    {
      "cell_type": "code",
      "execution_count": null,
      "metadata": {
        "colab": {
          "base_uri": "https://localhost:8080/"
        },
        "id": "snBtD2IeiTbt",
        "outputId": "60c069c6-2ac1-40e9-fc60-38e7cb9d479f"
      },
      "outputs": [
        {
          "name": "stdout",
          "output_type": "stream",
          "text": [
            "['appartement' 'local industriel' 'maison']\n"
          ]
        }
      ],
      "source": [
        "distinct_val = df_transactions[\"type_local\"].unique()                 # la méthode .unique() permet d'identifier les valeurs uniques pour la colonne choisie\n",
        "print(distinct_val)"
      ]
    },
    {
      "cell_type": "code",
      "execution_count": null,
      "metadata": {
        "colab": {
          "base_uri": "https://localhost:8080/"
        },
        "id": "71tpo9ITbqm_",
        "outputId": "1e12d639-7160-47ba-a9ab-a66230333cfe"
      },
      "outputs": [
        {
          "data": {
            "text/plain": [
              "type_local\n",
              "appartement         48921\n",
              "local industriel     4031\n",
              "maison                233\n",
              "Name: count, dtype: int64"
            ]
          },
          "execution_count": 255,
          "metadata": {},
          "output_type": "execute_result"
        }
      ],
      "source": [
        "df_transactions[\"type_local\"].value_counts()                          # value_counts() permet d'observer la répartition des valeurs pour la colonne choisie"
      ]
    },
    {
      "cell_type": "markdown",
      "metadata": {
        "id": "k8k7xcdCme7_"
      },
      "source": [
        "> Quelle est la moyenne de la \"surface_reelle_bati\" pour chaque valeur de la variable \"type_local\"?"
      ]
    },
    {
      "cell_type": "code",
      "execution_count": null,
      "metadata": {
        "colab": {
          "base_uri": "https://localhost:8080/"
        },
        "id": "ipGfhBXniUag",
        "outputId": "b64a1bd7-a9f9-4806-d720-32d734601ad0"
      },
      "outputs": [
        {
          "name": "stdout",
          "output_type": "stream",
          "text": [
            "type_local\n",
            "appartement          47.46\n",
            "local industriel    126.29\n",
            "maison              153.89\n",
            "Name: surface_reelle_bati, dtype: float64\n"
          ]
        }
      ],
      "source": [
        "moyenne = df_transactions.groupby(\"type_local\")[\"surface_reelle_bati\"].mean().round(2)\n",
        "print(moyenne)"
      ]
    },
    {
      "cell_type": "markdown",
      "metadata": {
        "id": "sQ-fl_gEmg4D"
      },
      "source": [
        "---"
      ]
    },
    {
      "cell_type": "markdown",
      "metadata": {
        "id": "r1vS7VYVmk0Y"
      },
      "source": [
        "## Regex"
      ]
    },
    {
      "cell_type": "markdown",
      "metadata": {
        "id": "-XUwLQwRm1G_"
      },
      "source": [
        "> Utiliser la librairie `re` (Regular Expression) pour extraire le code postal de l'adresse ci-dessous, à l'aide d'une fonction que vous allez créer:"
      ]
    },
    {
      "cell_type": "code",
      "execution_count": null,
      "metadata": {
        "id": "K2N4s4LYm1Vp"
      },
      "outputs": [],
      "source": [
        "adresse = \"8 Passage Petit Cerf 75017 Paris\"\n"
      ]
    },
    {
      "cell_type": "code",
      "execution_count": null,
      "metadata": {
        "id": "nolY-EkeFvkU"
      },
      "outputs": [],
      "source": [
        "import re\n",
        "\n",
        "def code_postal(adresse):\n",
        "  motif = \"\\d{5}\"                               # création du motif à rechercher\n",
        "  return re.findall(motif, adresse)             # ici re.findall va chercher le motif dans le texte donné en amont (adresse)"
      ]
    },
    {
      "cell_type": "code",
      "execution_count": null,
      "metadata": {
        "colab": {
          "base_uri": "https://localhost:8080/"
        },
        "id": "WQOirhaZF-O-",
        "outputId": "dbf44b71-a686-4f7a-e792-944542f453b9"
      },
      "outputs": [
        {
          "name": "stdout",
          "output_type": "stream",
          "text": [
            "75017\n"
          ]
        }
      ],
      "source": [
        "code = code_postal(adresse)                     # application de la fonction\n",
        "print(\"\".join(code))                            # le résultat apparait sous forme de liste, je préfère l'afficher comme un str"
      ]
    },
    {
      "cell_type": "markdown",
      "metadata": {
        "id": "zmwcD09AUm-9"
      },
      "source": [
        "## Méthode Agile SCRUM\n",
        "\n"
      ]
    },
    {
      "cell_type": "markdown",
      "metadata": {
        "id": "KqnzSufSUqOL"
      },
      "source": [
        "> Dans le cadre de l'utilisation de la méthode agile SCRUM, quelle est la différence entre le scrum master et le product owner ?"
      ]
    },
    {
      "cell_type": "markdown",
      "metadata": {
        "id": "5Fh7opL0UuLR"
      },
      "source": [
        "**Réponse :**"
      ]
    },
    {
      "cell_type": "markdown",
      "metadata": {
        "id": "vOtu3bz1d4Yn"
      },
      "source": [
        "+ Dans la méthode agile SCRUM le scrum master a pour rôle de plannifier le projet, de déterminer les tâches à accomplir et d'attribuer les tâches à ses collaborateurs. Il doit donc avoir une vision précise à chaque instant de l'évolution du projet, des avancements comme des difficultés rencontrées et adapter l'organisation afin d'otpimiser les processus de travail\n",
        "+ le product owner est la personne qui va être en lien direct avec le client et retranscrire pour son équipe ses avis, décisions, demandes, questions\n",
        "\n",
        "le scrum master et le product owner sont complémentaires dans une équipe, le scrum master aidant son équipe à travailler de la manière la plus efficace possible, tandis que le product owner est orienté vers le besoin client"
      ]
    },
    {
      "cell_type": "markdown",
      "metadata": {
        "id": "Ck_4YfR5nTwF"
      },
      "source": [
        "---"
      ]
    },
    {
      "cell_type": "markdown",
      "metadata": {
        "id": "OlrQfVs-X5nF"
      },
      "source": [
        "## Sélection de données\n",
        "\n",
        "Voici un nouveau Dataset `df_transactions` qui regroupe des transactions immobilières de la ville de Paris, entre 2018 et 2019.\n",
        "\n"
      ]
    },
    {
      "cell_type": "code",
      "execution_count": null,
      "metadata": {
        "colab": {
          "base_uri": "https://localhost:8080/",
          "height": 313
        },
        "id": "U8Zgdd_6ZCj6",
        "outputId": "5d92481a-7165-40d7-def8-94b055d9e901"
      },
      "outputs": [
        {
          "output_type": "execute_result",
          "data": {
            "text/plain": [
              "    id_mutation  valeur_fonciere  surface_reelle_bati  prix_m2  \\\n",
              "0  2018-1404085         280000.0                   25    11200   \n",
              "1  2018-1384130         110000.0                   12     9166   \n",
              "2  2018-1376276          87950.0                    9     9772   \n",
              "3  2018-1382007         699000.0                  111     6297   \n",
              "4  2018-1376139         251000.0                   29     8655   \n",
              "\n",
              "   nombre_pieces_principales   type_local               nom_commune  \\\n",
              "0                          2  appartement  Paris 20e Arrondissement   \n",
              "1                          1  appartement  Paris 14e Arrondissement   \n",
              "2                          1  appartement  Paris 11e Arrondissement   \n",
              "3                          6  appartement  Paris 13e Arrondissement   \n",
              "4                          2  appartement  Paris 12e Arrondissement   \n",
              "\n",
              "            nom_iris  code_commune  code_departement  code_iris  \\\n",
              "0       Belleville 4         75120                75  751207704   \n",
              "1     Montparnasse 4         75114                75  751145304   \n",
              "2         Roquette 2         75111                75  751114302   \n",
              "3  Maison Blanche 18         75113                75  751135118   \n",
              "4           Picpus 5         75112                75  751124605   \n",
              "\n",
              "     id_parcelles  longitude   latitude date_mutation  \n",
              "0  75120000AL0064   2.389542  48.872300    2018-01-02  \n",
              "1  75114000AM0068   2.326280  48.835690    2018-01-02  \n",
              "2  75111000BS0234   2.386354  48.856080    2018-01-02  \n",
              "3  75113000EI0007   2.343125  48.829746    2018-01-02  \n",
              "4  75112000BS0026   2.396901  48.834740    2018-01-02  "
            ],
            "text/html": [
              "\n",
              "  <div id=\"df-914138b4-141b-471e-8bd2-8777762382bd\" class=\"colab-df-container\">\n",
              "    <div>\n",
              "<style scoped>\n",
              "    .dataframe tbody tr th:only-of-type {\n",
              "        vertical-align: middle;\n",
              "    }\n",
              "\n",
              "    .dataframe tbody tr th {\n",
              "        vertical-align: top;\n",
              "    }\n",
              "\n",
              "    .dataframe thead th {\n",
              "        text-align: right;\n",
              "    }\n",
              "</style>\n",
              "<table border=\"1\" class=\"dataframe\">\n",
              "  <thead>\n",
              "    <tr style=\"text-align: right;\">\n",
              "      <th></th>\n",
              "      <th>id_mutation</th>\n",
              "      <th>valeur_fonciere</th>\n",
              "      <th>surface_reelle_bati</th>\n",
              "      <th>prix_m2</th>\n",
              "      <th>nombre_pieces_principales</th>\n",
              "      <th>type_local</th>\n",
              "      <th>nom_commune</th>\n",
              "      <th>nom_iris</th>\n",
              "      <th>code_commune</th>\n",
              "      <th>code_departement</th>\n",
              "      <th>code_iris</th>\n",
              "      <th>id_parcelles</th>\n",
              "      <th>longitude</th>\n",
              "      <th>latitude</th>\n",
              "      <th>date_mutation</th>\n",
              "    </tr>\n",
              "  </thead>\n",
              "  <tbody>\n",
              "    <tr>\n",
              "      <th>0</th>\n",
              "      <td>2018-1404085</td>\n",
              "      <td>280000.0</td>\n",
              "      <td>25</td>\n",
              "      <td>11200</td>\n",
              "      <td>2</td>\n",
              "      <td>appartement</td>\n",
              "      <td>Paris 20e Arrondissement</td>\n",
              "      <td>Belleville 4</td>\n",
              "      <td>75120</td>\n",
              "      <td>75</td>\n",
              "      <td>751207704</td>\n",
              "      <td>75120000AL0064</td>\n",
              "      <td>2.389542</td>\n",
              "      <td>48.872300</td>\n",
              "      <td>2018-01-02</td>\n",
              "    </tr>\n",
              "    <tr>\n",
              "      <th>1</th>\n",
              "      <td>2018-1384130</td>\n",
              "      <td>110000.0</td>\n",
              "      <td>12</td>\n",
              "      <td>9166</td>\n",
              "      <td>1</td>\n",
              "      <td>appartement</td>\n",
              "      <td>Paris 14e Arrondissement</td>\n",
              "      <td>Montparnasse 4</td>\n",
              "      <td>75114</td>\n",
              "      <td>75</td>\n",
              "      <td>751145304</td>\n",
              "      <td>75114000AM0068</td>\n",
              "      <td>2.326280</td>\n",
              "      <td>48.835690</td>\n",
              "      <td>2018-01-02</td>\n",
              "    </tr>\n",
              "    <tr>\n",
              "      <th>2</th>\n",
              "      <td>2018-1376276</td>\n",
              "      <td>87950.0</td>\n",
              "      <td>9</td>\n",
              "      <td>9772</td>\n",
              "      <td>1</td>\n",
              "      <td>appartement</td>\n",
              "      <td>Paris 11e Arrondissement</td>\n",
              "      <td>Roquette 2</td>\n",
              "      <td>75111</td>\n",
              "      <td>75</td>\n",
              "      <td>751114302</td>\n",
              "      <td>75111000BS0234</td>\n",
              "      <td>2.386354</td>\n",
              "      <td>48.856080</td>\n",
              "      <td>2018-01-02</td>\n",
              "    </tr>\n",
              "    <tr>\n",
              "      <th>3</th>\n",
              "      <td>2018-1382007</td>\n",
              "      <td>699000.0</td>\n",
              "      <td>111</td>\n",
              "      <td>6297</td>\n",
              "      <td>6</td>\n",
              "      <td>appartement</td>\n",
              "      <td>Paris 13e Arrondissement</td>\n",
              "      <td>Maison Blanche 18</td>\n",
              "      <td>75113</td>\n",
              "      <td>75</td>\n",
              "      <td>751135118</td>\n",
              "      <td>75113000EI0007</td>\n",
              "      <td>2.343125</td>\n",
              "      <td>48.829746</td>\n",
              "      <td>2018-01-02</td>\n",
              "    </tr>\n",
              "    <tr>\n",
              "      <th>4</th>\n",
              "      <td>2018-1376139</td>\n",
              "      <td>251000.0</td>\n",
              "      <td>29</td>\n",
              "      <td>8655</td>\n",
              "      <td>2</td>\n",
              "      <td>appartement</td>\n",
              "      <td>Paris 12e Arrondissement</td>\n",
              "      <td>Picpus 5</td>\n",
              "      <td>75112</td>\n",
              "      <td>75</td>\n",
              "      <td>751124605</td>\n",
              "      <td>75112000BS0026</td>\n",
              "      <td>2.396901</td>\n",
              "      <td>48.834740</td>\n",
              "      <td>2018-01-02</td>\n",
              "    </tr>\n",
              "  </tbody>\n",
              "</table>\n",
              "</div>\n",
              "    <div class=\"colab-df-buttons\">\n",
              "\n",
              "  <div class=\"colab-df-container\">\n",
              "    <button class=\"colab-df-convert\" onclick=\"convertToInteractive('df-914138b4-141b-471e-8bd2-8777762382bd')\"\n",
              "            title=\"Convert this dataframe to an interactive table.\"\n",
              "            style=\"display:none;\">\n",
              "\n",
              "  <svg xmlns=\"http://www.w3.org/2000/svg\" height=\"24px\" viewBox=\"0 -960 960 960\">\n",
              "    <path d=\"M120-120v-720h720v720H120Zm60-500h600v-160H180v160Zm220 220h160v-160H400v160Zm0 220h160v-160H400v160ZM180-400h160v-160H180v160Zm440 0h160v-160H620v160ZM180-180h160v-160H180v160Zm440 0h160v-160H620v160Z\"/>\n",
              "  </svg>\n",
              "    </button>\n",
              "\n",
              "  <style>\n",
              "    .colab-df-container {\n",
              "      display:flex;\n",
              "      gap: 12px;\n",
              "    }\n",
              "\n",
              "    .colab-df-convert {\n",
              "      background-color: #E8F0FE;\n",
              "      border: none;\n",
              "      border-radius: 50%;\n",
              "      cursor: pointer;\n",
              "      display: none;\n",
              "      fill: #1967D2;\n",
              "      height: 32px;\n",
              "      padding: 0 0 0 0;\n",
              "      width: 32px;\n",
              "    }\n",
              "\n",
              "    .colab-df-convert:hover {\n",
              "      background-color: #E2EBFA;\n",
              "      box-shadow: 0px 1px 2px rgba(60, 64, 67, 0.3), 0px 1px 3px 1px rgba(60, 64, 67, 0.15);\n",
              "      fill: #174EA6;\n",
              "    }\n",
              "\n",
              "    .colab-df-buttons div {\n",
              "      margin-bottom: 4px;\n",
              "    }\n",
              "\n",
              "    [theme=dark] .colab-df-convert {\n",
              "      background-color: #3B4455;\n",
              "      fill: #D2E3FC;\n",
              "    }\n",
              "\n",
              "    [theme=dark] .colab-df-convert:hover {\n",
              "      background-color: #434B5C;\n",
              "      box-shadow: 0px 1px 3px 1px rgba(0, 0, 0, 0.15);\n",
              "      filter: drop-shadow(0px 1px 2px rgba(0, 0, 0, 0.3));\n",
              "      fill: #FFFFFF;\n",
              "    }\n",
              "  </style>\n",
              "\n",
              "    <script>\n",
              "      const buttonEl =\n",
              "        document.querySelector('#df-914138b4-141b-471e-8bd2-8777762382bd button.colab-df-convert');\n",
              "      buttonEl.style.display =\n",
              "        google.colab.kernel.accessAllowed ? 'block' : 'none';\n",
              "\n",
              "      async function convertToInteractive(key) {\n",
              "        const element = document.querySelector('#df-914138b4-141b-471e-8bd2-8777762382bd');\n",
              "        const dataTable =\n",
              "          await google.colab.kernel.invokeFunction('convertToInteractive',\n",
              "                                                    [key], {});\n",
              "        if (!dataTable) return;\n",
              "\n",
              "        const docLinkHtml = 'Like what you see? Visit the ' +\n",
              "          '<a target=\"_blank\" href=https://colab.research.google.com/notebooks/data_table.ipynb>data table notebook</a>'\n",
              "          + ' to learn more about interactive tables.';\n",
              "        element.innerHTML = '';\n",
              "        dataTable['output_type'] = 'display_data';\n",
              "        await google.colab.output.renderOutput(dataTable, element);\n",
              "        const docLink = document.createElement('div');\n",
              "        docLink.innerHTML = docLinkHtml;\n",
              "        element.appendChild(docLink);\n",
              "      }\n",
              "    </script>\n",
              "  </div>\n",
              "\n",
              "\n",
              "<div id=\"df-afa2508e-7cdd-46e8-af2f-df08ac1cfd9a\">\n",
              "  <button class=\"colab-df-quickchart\" onclick=\"quickchart('df-afa2508e-7cdd-46e8-af2f-df08ac1cfd9a')\"\n",
              "            title=\"Suggest charts\"\n",
              "            style=\"display:none;\">\n",
              "\n",
              "<svg xmlns=\"http://www.w3.org/2000/svg\" height=\"24px\"viewBox=\"0 0 24 24\"\n",
              "     width=\"24px\">\n",
              "    <g>\n",
              "        <path d=\"M19 3H5c-1.1 0-2 .9-2 2v14c0 1.1.9 2 2 2h14c1.1 0 2-.9 2-2V5c0-1.1-.9-2-2-2zM9 17H7v-7h2v7zm4 0h-2V7h2v10zm4 0h-2v-4h2v4z\"/>\n",
              "    </g>\n",
              "</svg>\n",
              "  </button>\n",
              "\n",
              "<style>\n",
              "  .colab-df-quickchart {\n",
              "      --bg-color: #E8F0FE;\n",
              "      --fill-color: #1967D2;\n",
              "      --hover-bg-color: #E2EBFA;\n",
              "      --hover-fill-color: #174EA6;\n",
              "      --disabled-fill-color: #AAA;\n",
              "      --disabled-bg-color: #DDD;\n",
              "  }\n",
              "\n",
              "  [theme=dark] .colab-df-quickchart {\n",
              "      --bg-color: #3B4455;\n",
              "      --fill-color: #D2E3FC;\n",
              "      --hover-bg-color: #434B5C;\n",
              "      --hover-fill-color: #FFFFFF;\n",
              "      --disabled-bg-color: #3B4455;\n",
              "      --disabled-fill-color: #666;\n",
              "  }\n",
              "\n",
              "  .colab-df-quickchart {\n",
              "    background-color: var(--bg-color);\n",
              "    border: none;\n",
              "    border-radius: 50%;\n",
              "    cursor: pointer;\n",
              "    display: none;\n",
              "    fill: var(--fill-color);\n",
              "    height: 32px;\n",
              "    padding: 0;\n",
              "    width: 32px;\n",
              "  }\n",
              "\n",
              "  .colab-df-quickchart:hover {\n",
              "    background-color: var(--hover-bg-color);\n",
              "    box-shadow: 0 1px 2px rgba(60, 64, 67, 0.3), 0 1px 3px 1px rgba(60, 64, 67, 0.15);\n",
              "    fill: var(--button-hover-fill-color);\n",
              "  }\n",
              "\n",
              "  .colab-df-quickchart-complete:disabled,\n",
              "  .colab-df-quickchart-complete:disabled:hover {\n",
              "    background-color: var(--disabled-bg-color);\n",
              "    fill: var(--disabled-fill-color);\n",
              "    box-shadow: none;\n",
              "  }\n",
              "\n",
              "  .colab-df-spinner {\n",
              "    border: 2px solid var(--fill-color);\n",
              "    border-color: transparent;\n",
              "    border-bottom-color: var(--fill-color);\n",
              "    animation:\n",
              "      spin 1s steps(1) infinite;\n",
              "  }\n",
              "\n",
              "  @keyframes spin {\n",
              "    0% {\n",
              "      border-color: transparent;\n",
              "      border-bottom-color: var(--fill-color);\n",
              "      border-left-color: var(--fill-color);\n",
              "    }\n",
              "    20% {\n",
              "      border-color: transparent;\n",
              "      border-left-color: var(--fill-color);\n",
              "      border-top-color: var(--fill-color);\n",
              "    }\n",
              "    30% {\n",
              "      border-color: transparent;\n",
              "      border-left-color: var(--fill-color);\n",
              "      border-top-color: var(--fill-color);\n",
              "      border-right-color: var(--fill-color);\n",
              "    }\n",
              "    40% {\n",
              "      border-color: transparent;\n",
              "      border-right-color: var(--fill-color);\n",
              "      border-top-color: var(--fill-color);\n",
              "    }\n",
              "    60% {\n",
              "      border-color: transparent;\n",
              "      border-right-color: var(--fill-color);\n",
              "    }\n",
              "    80% {\n",
              "      border-color: transparent;\n",
              "      border-right-color: var(--fill-color);\n",
              "      border-bottom-color: var(--fill-color);\n",
              "    }\n",
              "    90% {\n",
              "      border-color: transparent;\n",
              "      border-bottom-color: var(--fill-color);\n",
              "    }\n",
              "  }\n",
              "</style>\n",
              "\n",
              "  <script>\n",
              "    async function quickchart(key) {\n",
              "      const quickchartButtonEl =\n",
              "        document.querySelector('#' + key + ' button');\n",
              "      quickchartButtonEl.disabled = true;  // To prevent multiple clicks.\n",
              "      quickchartButtonEl.classList.add('colab-df-spinner');\n",
              "      try {\n",
              "        const charts = await google.colab.kernel.invokeFunction(\n",
              "            'suggestCharts', [key], {});\n",
              "      } catch (error) {\n",
              "        console.error('Error during call to suggestCharts:', error);\n",
              "      }\n",
              "      quickchartButtonEl.classList.remove('colab-df-spinner');\n",
              "      quickchartButtonEl.classList.add('colab-df-quickchart-complete');\n",
              "    }\n",
              "    (() => {\n",
              "      let quickchartButtonEl =\n",
              "        document.querySelector('#df-afa2508e-7cdd-46e8-af2f-df08ac1cfd9a button');\n",
              "      quickchartButtonEl.style.display =\n",
              "        google.colab.kernel.accessAllowed ? 'block' : 'none';\n",
              "    })();\n",
              "  </script>\n",
              "</div>\n",
              "\n",
              "    </div>\n",
              "  </div>\n"
            ],
            "application/vnd.google.colaboratory.intrinsic+json": {
              "type": "dataframe",
              "variable_name": "df_transactions",
              "summary": "{\n  \"name\": \"df_transactions\",\n  \"rows\": 53185,\n  \"fields\": [\n    {\n      \"column\": \"id_mutation\",\n      \"properties\": {\n        \"dtype\": \"string\",\n        \"num_unique_values\": 53185,\n        \"samples\": [\n          \"2019-1070798\",\n          \"2018-1400205\",\n          \"2018-1382307\"\n        ],\n        \"semantic_type\": \"\",\n        \"description\": \"\"\n      }\n    },\n    {\n      \"column\": \"valeur_fonciere\",\n      \"properties\": {\n        \"dtype\": \"number\",\n        \"std\": 1321096.5996626741,\n        \"min\": 10000.0,\n        \"max\": 195600000.0,\n        \"num_unique_values\": 12261,\n        \"samples\": [\n          141710.0,\n          383400.0,\n          449250.0\n        ],\n        \"semantic_type\": \"\",\n        \"description\": \"\"\n      }\n    },\n    {\n      \"column\": \"surface_reelle_bati\",\n      \"properties\": {\n        \"dtype\": \"number\",\n        \"std\": 120,\n        \"min\": 1,\n        \"max\": 11887,\n        \"num_unique_values\": 505,\n        \"samples\": [\n          160,\n          257,\n          385\n        ],\n        \"semantic_type\": \"\",\n        \"description\": \"\"\n      }\n    },\n    {\n      \"column\": \"prix_m2\",\n      \"properties\": {\n        \"dtype\": \"number\",\n        \"std\": 2899,\n        \"min\": 2000,\n        \"max\": 30000,\n        \"num_unique_values\": 10596,\n        \"samples\": [\n          15728,\n          14276,\n          12460\n        ],\n        \"semantic_type\": \"\",\n        \"description\": \"\"\n      }\n    },\n    {\n      \"column\": \"nombre_pieces_principales\",\n      \"properties\": {\n        \"dtype\": \"number\",\n        \"std\": 1,\n        \"min\": 0,\n        \"max\": 23,\n        \"num_unique_values\": 17,\n        \"samples\": [\n          2,\n          1,\n          0\n        ],\n        \"semantic_type\": \"\",\n        \"description\": \"\"\n      }\n    },\n    {\n      \"column\": \"type_local\",\n      \"properties\": {\n        \"dtype\": \"category\",\n        \"num_unique_values\": 3,\n        \"samples\": [\n          \"appartement\",\n          \"local industriel\",\n          \"maison\"\n        ],\n        \"semantic_type\": \"\",\n        \"description\": \"\"\n      }\n    },\n    {\n      \"column\": \"nom_commune\",\n      \"properties\": {\n        \"dtype\": \"category\",\n        \"num_unique_values\": 20,\n        \"samples\": [\n          \"Paris 20e Arrondissement\",\n          \"Paris 4e Arrondissement\",\n          \"Paris 8e Arrondissement\"\n        ],\n        \"semantic_type\": \"\",\n        \"description\": \"\"\n      }\n    },\n    {\n      \"column\": \"nom_iris\",\n      \"properties\": {\n        \"dtype\": \"category\",\n        \"num_unique_values\": 901,\n        \"samples\": [\n          \"Sainte-Marguerite 6\",\n          \"Notre Dame des Champs 7\",\n          \"Champs \\u00c3\\u0083\\u00c2\\u0083\\u00c3\\u0082\\u00c2\\u0089lysees 5\"\n        ],\n        \"semantic_type\": \"\",\n        \"description\": \"\"\n      }\n    },\n    {\n      \"column\": \"code_commune\",\n      \"properties\": {\n        \"dtype\": \"number\",\n        \"std\": 5,\n        \"min\": 75101,\n        \"max\": 75120,\n        \"num_unique_values\": 20,\n        \"samples\": [\n          75120,\n          75104,\n          75108\n        ],\n        \"semantic_type\": \"\",\n        \"description\": \"\"\n      }\n    },\n    {\n      \"column\": \"code_departement\",\n      \"properties\": {\n        \"dtype\": \"number\",\n        \"std\": 0,\n        \"min\": 75,\n        \"max\": 75,\n        \"num_unique_values\": 1,\n        \"samples\": [\n          75\n        ],\n        \"semantic_type\": \"\",\n        \"description\": \"\"\n      }\n    },\n    {\n      \"column\": \"code_iris\",\n      \"properties\": {\n        \"dtype\": \"number\",\n        \"std\": 52778,\n        \"min\": 751010101,\n        \"max\": 751208026,\n        \"num_unique_values\": 901,\n        \"samples\": [\n          751114406\n        ],\n        \"semantic_type\": \"\",\n        \"description\": \"\"\n      }\n    },\n    {\n      \"column\": \"id_parcelles\",\n      \"properties\": {\n        \"dtype\": \"category\",\n        \"num_unique_values\": 24716,\n        \"samples\": [\n          \"75115000CJ0059\"\n        ],\n        \"semantic_type\": \"\",\n        \"description\": \"\"\n      }\n    },\n    {\n      \"column\": \"longitude\",\n      \"properties\": {\n        \"dtype\": \"number\",\n        \"std\": 0.036343282494093306,\n        \"min\": 2.255896,\n        \"max\": 2.412825,\n        \"num_unique_values\": 22501,\n        \"samples\": [\n          2.342068\n        ],\n        \"semantic_type\": \"\",\n        \"description\": \"\"\n      }\n    },\n    {\n      \"column\": \"latitude\",\n      \"properties\": {\n        \"dtype\": \"number\",\n        \"std\": 0.02000745746772446,\n        \"min\": 48.819412,\n        \"max\": 48.900566,\n        \"num_unique_values\": 13591,\n        \"samples\": [\n          48.832943\n        ],\n        \"semantic_type\": \"\",\n        \"description\": \"\"\n      }\n    },\n    {\n      \"column\": \"date_mutation\",\n      \"properties\": {\n        \"dtype\": \"object\",\n        \"num_unique_values\": 614,\n        \"samples\": [\n          \"2019-02-20\"\n        ],\n        \"semantic_type\": \"\",\n        \"description\": \"\"\n      }\n    }\n  ]\n}"
            }
          },
          "metadata": {},
          "execution_count": 2
        }
      ],
      "source": [
        "import pandas as pd\n",
        "\n",
        "df_transactions = pd.read_csv(\"https://raw.githubusercontent.com/WildCodeSchool/wilddata/main/transactions_immobilieres_75.csv\")\n",
        "\n",
        "df_transactions.head()"
      ]
    },
    {
      "cell_type": "markdown",
      "metadata": {
        "id": "oSiddARhZBxb"
      },
      "source": [
        "> Créer un nouveau DataFrame `df_flats` qui ne regroupe que les appartements. Combien de lignes contient `df_flats` ?"
      ]
    },
    {
      "cell_type": "code",
      "execution_count": null,
      "metadata": {
        "colab": {
          "base_uri": "https://localhost:8080/"
        },
        "id": "ibiQU9XDiY8i",
        "outputId": "b84998dd-8787-4d6b-a68f-1471586dfae1"
      },
      "outputs": [
        {
          "output_type": "stream",
          "name": "stdout",
          "text": [
            "|    | id_mutation   |   valeur_fonciere |   surface_reelle_bati |   prix_m2 |   nombre_pieces_principales | type_local   | nom_commune              | nom_iris          |   code_commune |   code_departement |   code_iris | id_parcelles   |   longitude |   latitude | date_mutation   |\n",
            "|---:|:--------------|------------------:|----------------------:|----------:|----------------------------:|:-------------|:-------------------------|:------------------|---------------:|-------------------:|------------:|:---------------|------------:|-----------:|:----------------|\n",
            "|  0 | 2018-1404085  |            280000 |                    25 |     11200 |                           2 | appartement  | Paris 20e Arrondissement | Belleville 4      |          75120 |                 75 |   751207704 | 75120000AL0064 |     2.38954 |    48.8723 | 2018-01-02      |\n",
            "|  1 | 2018-1384130  |            110000 |                    12 |      9166 |                           1 | appartement  | Paris 14e Arrondissement | Montparnasse 4    |          75114 |                 75 |   751145304 | 75114000AM0068 |     2.32628 |    48.8357 | 2018-01-02      |\n",
            "|  2 | 2018-1376276  |             87950 |                     9 |      9772 |                           1 | appartement  | Paris 11e Arrondissement | Roquette 2        |          75111 |                 75 |   751114302 | 75111000BS0234 |     2.38635 |    48.8561 | 2018-01-02      |\n",
            "|  3 | 2018-1382007  |            699000 |                   111 |      6297 |                           6 | appartement  | Paris 13e Arrondissement | Maison Blanche 18 |          75113 |                 75 |   751135118 | 75113000EI0007 |     2.34313 |    48.8297 | 2018-01-02      |\n",
            "|  4 | 2018-1376139  |            251000 |                    29 |      8655 |                           2 | appartement  | Paris 12e Arrondissement | Picpus 5          |          75112 |                 75 |   751124605 | 75112000BS0026 |     2.3969  |    48.8347 | 2018-01-02      |\n"
          ]
        }
      ],
      "source": [
        "condition = df_transactions[\"type_local\"] == \"appartement\"                     # on établit la condition qui est de ne conserver que les lignes où type_local vaut \"appartement\"\n",
        "df_flats = df_transactions[condition]                                          # on créé le nouveau dataframe en appliquant la condition\n",
        "print(df_flats.head().to_markdown())"
      ]
    },
    {
      "cell_type": "code",
      "execution_count": null,
      "metadata": {
        "colab": {
          "base_uri": "https://localhost:8080/"
        },
        "id": "K1BsbIP7E_XV",
        "outputId": "accde20f-aa0b-4b4b-e3ca-031ad93609d8"
      },
      "outputs": [
        {
          "output_type": "stream",
          "name": "stdout",
          "text": [
            "['appartement']\n"
          ]
        }
      ],
      "source": [
        "# je vérifie qu'il ne reste que des appartements\n",
        "\n",
        "print(df_flats[\"type_local\"].unique())"
      ]
    },
    {
      "cell_type": "code",
      "execution_count": null,
      "metadata": {
        "colab": {
          "base_uri": "https://localhost:8080/"
        },
        "id": "P9AP6rvAf3v4",
        "outputId": "e69ce28e-57a2-44bc-c24c-bf348c38dcfe"
      },
      "outputs": [
        {
          "output_type": "stream",
          "name": "stdout",
          "text": [
            "(48921, 15)\n"
          ]
        }
      ],
      "source": [
        "print(df_flats.shape)"
      ]
    },
    {
      "cell_type": "markdown",
      "metadata": {
        "id": "elwyKq4Zf8CP"
      },
      "source": [
        "df_flats contient 48921 lignes"
      ]
    },
    {
      "cell_type": "markdown",
      "metadata": {
        "id": "HZGKMUsMoDM4"
      },
      "source": [
        "#Machine Learning"
      ]
    },
    {
      "cell_type": "markdown",
      "metadata": {
        "id": "PtJsleyYcn7T"
      },
      "source": [
        "##Sélection de données et NLP"
      ]
    },
    {
      "cell_type": "markdown",
      "metadata": {
        "id": "WhYAuxQJaaPg"
      },
      "source": [
        "Dans ce cas pratique Machine Learning,  notre objectif sera de créer un algorithme capable de prédire le prix d'appartements, pour la ville de Paris. Vous utiliserez donc le DataFrame `df_flats`."
      ]
    },
    {
      "cell_type": "markdown",
      "metadata": {
        "id": "o4Lk75YVoWta"
      },
      "source": [
        "> Ne garder que les colonnes [`valeur_fonciere`, `surface_reelle_bati`, `nombre_pieces_principales`, `code_commune`] pour le DataFrame `df_flats`."
      ]
    },
    {
      "cell_type": "code",
      "execution_count": null,
      "metadata": {
        "id": "HoH3RMxpibM6"
      },
      "outputs": [],
      "source": [
        "colonnes_a_conserver = [\"valeur_fonciere\", \"surface_reelle_bati\", \"nombre_pieces_principales\", \"code_commune\"]\n",
        "df_flats = df_flats[colonnes_a_conserver]"
      ]
    },
    {
      "cell_type": "code",
      "execution_count": null,
      "metadata": {
        "colab": {
          "base_uri": "https://localhost:8080/"
        },
        "id": "UPlGz1J3hZ_B",
        "outputId": "b91d262e-fbac-4091-8c59-d287bdaeaba5"
      },
      "outputs": [
        {
          "output_type": "stream",
          "name": "stdout",
          "text": [
            "|    |   valeur_fonciere |   surface_reelle_bati |   nombre_pieces_principales |   code_commune |\n",
            "|---:|------------------:|----------------------:|----------------------------:|---------------:|\n",
            "|  0 |            280000 |                    25 |                           2 |          75120 |\n",
            "|  1 |            110000 |                    12 |                           1 |          75114 |\n",
            "|  2 |             87950 |                     9 |                           1 |          75111 |\n",
            "|  3 |            699000 |                   111 |                           6 |          75113 |\n",
            "|  4 |            251000 |                    29 |                           2 |          75112 |\n"
          ]
        }
      ],
      "source": [
        "print(df_flats.head().to_markdown())"
      ]
    },
    {
      "cell_type": "markdown",
      "metadata": {
        "id": "vEesLw3sckRG"
      },
      "source": [
        "> On aimerait enrichir notre jeu de données avec une variable qui contient du texte pour chaque ligne. Citez un nom de variable explicite, qui permettrait d'enrichir notre jeu de données. En quoi cette variable de texte constituerait une valeur ajoutée pour le jeu de données `df_flats`.  Si vous pourriez créer cette colonne, comment est-ce que vous procéderiez techniquement pour l'exploiter ? Est-ce que cette variable de texte pourrait avoir un impact conséquent sur les performances d'un modèle de prédiction ? Si oui, pourquoi ?\n",
        "\n"
      ]
    },
    {
      "cell_type": "markdown",
      "metadata": {
        "id": "xKmsOQLqdtv7"
      },
      "source": [
        "**Réponse**"
      ]
    },
    {
      "cell_type": "markdown",
      "metadata": {
        "id": "HMvVo7etCWUN"
      },
      "source": [
        "Dans le dataframe df_flats d'origine, nous avions une colonne de texte qui contenait la catégorie du logement (\"appartement\", \"local commercial\", \"maison\")\n",
        "\n",
        "On devrait les encoder (remplacer le texte par une valeur numérique) pour pouvoir les utiliser"
      ]
    },
    {
      "cell_type": "markdown",
      "metadata": {
        "id": "hU6WhtK1u-3N"
      },
      "source": [
        "Pour enrichir notre jeu de données on pourrait aussi créer une colonne \"description\" qui contiendrait un texte sur l'appartement / le local / la maison\n",
        "Cette colonne de texte permettrait d'identifier des mots-clés pour par exemple créer une annonce, ou pour faire correspondre ces mots-clés avec des besoins clients"
      ]
    },
    {
      "cell_type": "markdown",
      "metadata": {
        "id": "4hQO19Hz_74j"
      },
      "source": [
        "Pour exploiter cette colonne de texte, on utiliserait un NLP (natural language processing) c'est à dire un traitement du language naturel\n",
        "\n",
        "En pratique on met le texte en minuscule pour faciliter les étapes suivantes\n",
        "\n",
        "+ on effectue une tokenisation qui consiste à séparer chaque mot\n",
        "+ on retire la ponctuation et les stopwords (mots qui n'apportent rien à l'analyse, on fait attention à bien spécifier la langue utilisée)\n",
        "+ on applique un lemmatizer pour identifier les mots de même racine\n",
        "+ on utilise un TdIdfVectorizer pour encoder tout en conservant l'importance des mots"
      ]
    },
    {
      "cell_type": "markdown",
      "metadata": {
        "id": "0gvz172rAMrQ"
      },
      "source": [
        "Ainsi une colonne \"description\" pourrait améliorer les prédictions d'un modèle en lui ajoutant des données"
      ]
    },
    {
      "cell_type": "markdown",
      "metadata": {
        "id": "igbOnFz2oZ0m"
      },
      "source": [
        "### Machine Learning - Regression\n",
        "\n",
        "> Créer `X` et `y` en vue d'entraîner un modèle capable de prédire le prix d'appartements.\n",
        "`X` est composé des variables `surface_reelle_bati`, `nombre_pieces_principales` et `code_commune`.\n",
        "`y` est la variable `valeur_fonciere`.\n"
      ]
    },
    {
      "cell_type": "markdown",
      "metadata": {
        "id": "3BNTcwm2olCc"
      },
      "source": [
        "> La colonne `code_commune` contient des codes, représentant les arrondissements, ce qui signifie que ce sont des valeurs discrètes. Il est donc nécessaire de créer autant de colonnes qu'il y a de valeurs distinctes pour cette colonne. Aussi, il faudra supprimer la colonne `code_commune` pour ne garder que les colonnes qui ont été générées à partir de cette dernière."
      ]
    },
    {
      "cell_type": "code",
      "execution_count": null,
      "metadata": {
        "id": "jwg9Djc7id81"
      },
      "outputs": [],
      "source": [
        "# pour créer autant de colonnes qu'il y a de code commune, on utilise la méthode get_dummies\n",
        "# chaque colonne créée contiendra des valeurs booléennes\n",
        "# ainsi pour chaque ligne il n'y aura qu'une seule valeur True (ou 1) qui correspondra au code commune à laquelle elle est associée\n",
        "\n",
        "df_dummies = pd.get_dummies(df_flats[\"code_commune\"], dtype = int)"
      ]
    },
    {
      "cell_type": "code",
      "execution_count": null,
      "metadata": {
        "colab": {
          "base_uri": "https://localhost:8080/"
        },
        "id": "izuRRoWYweTh",
        "outputId": "e1741df4-0eee-4baa-d589-73add4fbcc5e"
      },
      "outputs": [
        {
          "output_type": "stream",
          "name": "stdout",
          "text": [
            "|    |   75101 |   75102 |   75103 |   75104 |   75105 |   75106 |   75107 |   75108 |   75109 |   75110 |   75111 |   75112 |   75113 |   75114 |   75115 |   75116 |   75117 |   75118 |   75119 |   75120 |\n",
            "|---:|--------:|--------:|--------:|--------:|--------:|--------:|--------:|--------:|--------:|--------:|--------:|--------:|--------:|--------:|--------:|--------:|--------:|--------:|--------:|--------:|\n",
            "|  0 |       0 |       0 |       0 |       0 |       0 |       0 |       0 |       0 |       0 |       0 |       0 |       0 |       0 |       0 |       0 |       0 |       0 |       0 |       0 |       1 |\n",
            "|  1 |       0 |       0 |       0 |       0 |       0 |       0 |       0 |       0 |       0 |       0 |       0 |       0 |       0 |       1 |       0 |       0 |       0 |       0 |       0 |       0 |\n",
            "|  2 |       0 |       0 |       0 |       0 |       0 |       0 |       0 |       0 |       0 |       0 |       1 |       0 |       0 |       0 |       0 |       0 |       0 |       0 |       0 |       0 |\n",
            "|  3 |       0 |       0 |       0 |       0 |       0 |       0 |       0 |       0 |       0 |       0 |       0 |       0 |       1 |       0 |       0 |       0 |       0 |       0 |       0 |       0 |\n",
            "|  4 |       0 |       0 |       0 |       0 |       0 |       0 |       0 |       0 |       0 |       0 |       0 |       1 |       0 |       0 |       0 |       0 |       0 |       0 |       0 |       0 |\n"
          ]
        }
      ],
      "source": [
        "print(df_dummies.head().to_markdown())"
      ]
    },
    {
      "cell_type": "code",
      "execution_count": null,
      "metadata": {
        "id": "c8RJxQaKxRi8"
      },
      "outputs": [],
      "source": [
        "# après avoir extrait les codes commune, on concatène les 2 dataframe\n",
        "\n",
        "df_final = pd.concat([df_flats, df_dummies], axis = 1)"
      ]
    },
    {
      "cell_type": "code",
      "execution_count": null,
      "metadata": {
        "colab": {
          "base_uri": "https://localhost:8080/"
        },
        "id": "8lkDTndUxcNF",
        "outputId": "01ab4451-340a-480e-cf74-75b0ade1e853"
      },
      "outputs": [
        {
          "output_type": "stream",
          "name": "stdout",
          "text": [
            "|    |   valeur_fonciere |   surface_reelle_bati |   nombre_pieces_principales |   code_commune |   75101 |   75102 |   75103 |   75104 |   75105 |   75106 |   75107 |   75108 |   75109 |   75110 |   75111 |   75112 |   75113 |   75114 |   75115 |   75116 |   75117 |   75118 |   75119 |   75120 |\n",
            "|---:|------------------:|----------------------:|----------------------------:|---------------:|--------:|--------:|--------:|--------:|--------:|--------:|--------:|--------:|--------:|--------:|--------:|--------:|--------:|--------:|--------:|--------:|--------:|--------:|--------:|--------:|\n",
            "|  0 |            280000 |                    25 |                           2 |          75120 |       0 |       0 |       0 |       0 |       0 |       0 |       0 |       0 |       0 |       0 |       0 |       0 |       0 |       0 |       0 |       0 |       0 |       0 |       0 |       1 |\n",
            "|  1 |            110000 |                    12 |                           1 |          75114 |       0 |       0 |       0 |       0 |       0 |       0 |       0 |       0 |       0 |       0 |       0 |       0 |       0 |       1 |       0 |       0 |       0 |       0 |       0 |       0 |\n",
            "|  2 |             87950 |                     9 |                           1 |          75111 |       0 |       0 |       0 |       0 |       0 |       0 |       0 |       0 |       0 |       0 |       1 |       0 |       0 |       0 |       0 |       0 |       0 |       0 |       0 |       0 |\n",
            "|  3 |            699000 |                   111 |                           6 |          75113 |       0 |       0 |       0 |       0 |       0 |       0 |       0 |       0 |       0 |       0 |       0 |       0 |       1 |       0 |       0 |       0 |       0 |       0 |       0 |       0 |\n",
            "|  4 |            251000 |                    29 |                           2 |          75112 |       0 |       0 |       0 |       0 |       0 |       0 |       0 |       0 |       0 |       0 |       0 |       1 |       0 |       0 |       0 |       0 |       0 |       0 |       0 |       0 |\n"
          ]
        }
      ],
      "source": [
        "print(df_final.head().to_markdown())"
      ]
    },
    {
      "cell_type": "code",
      "execution_count": null,
      "metadata": {
        "id": "ujTgheNBydY7"
      },
      "outputs": [],
      "source": [
        "# on enlève la colonne \"code_commune\" qui n'est plus utile\n",
        "\n",
        "df_final = df_final.drop(\"code_commune\", axis = 1)"
      ]
    },
    {
      "cell_type": "code",
      "execution_count": null,
      "metadata": {
        "colab": {
          "base_uri": "https://localhost:8080/"
        },
        "id": "fxWqrdQByj1A",
        "outputId": "9f486897-38cf-4bd2-a3a6-f7a779c9d817"
      },
      "outputs": [
        {
          "output_type": "stream",
          "name": "stdout",
          "text": [
            "|    |   valeur_fonciere |   surface_reelle_bati |   nombre_pieces_principales |   75101 |   75102 |   75103 |   75104 |   75105 |   75106 |   75107 |   75108 |   75109 |   75110 |   75111 |   75112 |   75113 |   75114 |   75115 |   75116 |   75117 |   75118 |   75119 |   75120 |\n",
            "|---:|------------------:|----------------------:|----------------------------:|--------:|--------:|--------:|--------:|--------:|--------:|--------:|--------:|--------:|--------:|--------:|--------:|--------:|--------:|--------:|--------:|--------:|--------:|--------:|--------:|\n",
            "|  0 |            280000 |                    25 |                           2 |       0 |       0 |       0 |       0 |       0 |       0 |       0 |       0 |       0 |       0 |       0 |       0 |       0 |       0 |       0 |       0 |       0 |       0 |       0 |       1 |\n",
            "|  1 |            110000 |                    12 |                           1 |       0 |       0 |       0 |       0 |       0 |       0 |       0 |       0 |       0 |       0 |       0 |       0 |       0 |       1 |       0 |       0 |       0 |       0 |       0 |       0 |\n",
            "|  2 |             87950 |                     9 |                           1 |       0 |       0 |       0 |       0 |       0 |       0 |       0 |       0 |       0 |       0 |       1 |       0 |       0 |       0 |       0 |       0 |       0 |       0 |       0 |       0 |\n",
            "|  3 |            699000 |                   111 |                           6 |       0 |       0 |       0 |       0 |       0 |       0 |       0 |       0 |       0 |       0 |       0 |       0 |       1 |       0 |       0 |       0 |       0 |       0 |       0 |       0 |\n",
            "|  4 |            251000 |                    29 |                           2 |       0 |       0 |       0 |       0 |       0 |       0 |       0 |       0 |       0 |       0 |       0 |       1 |       0 |       0 |       0 |       0 |       0 |       0 |       0 |       0 |\n"
          ]
        }
      ],
      "source": [
        "print(df_final.head().to_markdown())"
      ]
    },
    {
      "cell_type": "code",
      "source": [
        "df_final.columns"
      ],
      "metadata": {
        "colab": {
          "base_uri": "https://localhost:8080/"
        },
        "id": "NE_AW3rOxemA",
        "outputId": "b2c496b6-49bb-4155-9b1c-1d9a9998a8d2"
      },
      "execution_count": null,
      "outputs": [
        {
          "output_type": "execute_result",
          "data": {
            "text/plain": [
              "Index([          'valeur_fonciere',       'surface_reelle_bati',\n",
              "       'nombre_pieces_principales',                       75101,\n",
              "                             75102,                       75103,\n",
              "                             75104,                       75105,\n",
              "                             75106,                       75107,\n",
              "                             75108,                       75109,\n",
              "                             75110,                       75111,\n",
              "                             75112,                       75113,\n",
              "                             75114,                       75115,\n",
              "                             75116,                       75117,\n",
              "                             75118,                       75119,\n",
              "                             75120],\n",
              "      dtype='object')"
            ]
          },
          "metadata": {},
          "execution_count": 15
        }
      ]
    },
    {
      "cell_type": "code",
      "source": [
        "import matplotlib.pyplot as plt\n",
        "import seaborn as sns\n",
        "\n",
        "correlation_matrix = df_final.corr()\n",
        "\n",
        "plt.figure(figsize=(20, 20))\n",
        "\n",
        "sns.heatmap(correlation_matrix, cmap = \"coolwarm\", annot = True)\n",
        "plt.title(\"Matrice de Corrélation\")\n",
        "\n",
        "plt.show()"
      ],
      "metadata": {
        "colab": {
          "base_uri": "https://localhost:8080/",
          "height": 1000
        },
        "id": "tT5Dz3BByORo",
        "outputId": "c7644f09-d280-43bd-a4ac-b2b2b814bba3"
      },
      "execution_count": null,
      "outputs": [
        {
          "output_type": "display_data",
          "data": {
            "text/plain": [
              "<Figure size 2000x2000 with 2 Axes>"
            ],
            "image/png": "[encoded data removed]"
          },
          "metadata": {}
        }
      ]
    },
    {
      "cell_type": "markdown",
      "metadata": {
        "id": "I68Vs5oe_ZpG"
      },
      "source": [
        "+ Les 2 variables les plus fortement corrélées à la variable cible \"valeur_fonciere\" sont \"surface_reelle_bati\" avec une forte corrélation positive (0.91), et \"nombre_pieces_principales\" avec un score de corrélation de 0.75\n",
        "+ Les autres variables ont des scores de corrélation proches de 0 ce qui indique qu'il n'y a pas de corrélation entre elles et la variable cible, nous pouvons donc les exclure des variables utiles pour l'analyse"
      ]
    },
    {
      "cell_type": "code",
      "execution_count": null,
      "metadata": {
        "id": "yg_XK4QMicbk"
      },
      "outputs": [],
      "source": [
        "X = df_flats[[\"surface_reelle_bati\", \"nombre_pieces_principales\"]]\n",
        "y = df_flats[\"valeur_fonciere\"]"
      ]
    },
    {
      "cell_type": "markdown",
      "metadata": {
        "id": "wZ807SdVon-A"
      },
      "source": [
        "> Séparer les données en jeu d'entraînement et jeu de test, avec `random_state = 0`"
      ]
    },
    {
      "cell_type": "code",
      "execution_count": null,
      "metadata": {
        "id": "hdSVn_02ifdE"
      },
      "outputs": [],
      "source": [
        "from sklearn.model_selection import train_test_split\n",
        "\n",
        "# le random state = 0 permet à chaque fois que le train_test_split est effectué de conserver le même échantillonage\n",
        "# je choisis de configurer le test_size à 0.2 c'est à dire 20% du dataframe (le train_size sera donc à 80%)\n",
        "\n",
        "X_train, X_test, y_train, y_test = train_test_split(X, y, test_size = 0.2, random_state = 0)"
      ]
    },
    {
      "cell_type": "markdown",
      "metadata": {
        "id": "oejXZ1hTortn"
      },
      "source": [
        "> Importer le modèle `Linear Regression` de la librairie `sklearn`"
      ]
    },
    {
      "cell_type": "code",
      "execution_count": null,
      "metadata": {
        "id": "8EyMcVsNihRD"
      },
      "outputs": [],
      "source": [
        "from sklearn.linear_model import LinearRegression\n",
        "from sklearn.metrics import r2_score                  # en même temps qu'on importe le modèle de régression linéaire on importe sa métrique spécifique"
      ]
    },
    {
      "cell_type": "markdown",
      "metadata": {
        "id": "w7nMxJ7EouDi"
      },
      "source": [
        "> Entraîner le modèle sur le jeu d'entraînement, puis évaluer les performances du modèle sur le jeu de test. A l'écrit, interpréter le score obtenu, et donner le nom de la métrique utilisé pour évaluer le score du modèle."
      ]
    },
    {
      "cell_type": "code",
      "execution_count": null,
      "metadata": {
        "id": "InLWXE6Xiihq"
      },
      "outputs": [],
      "source": [
        "model = LinearRegression()                          # on initie le modèle avec ses paramètres par défaut\n",
        "\n",
        "lin_reg = model.fit(X_train, y_train)                # on entraine sur les données de l'échantillon train, les données de l'échantillon test ne doivent pas être entrainées car elles doivent restées inconnues pour le modèle"
      ]
    },
    {
      "cell_type": "code",
      "execution_count": null,
      "metadata": {
        "id": "7o7d11XXzrDK"
      },
      "outputs": [],
      "source": [
        "# on effectue les prédictions pour les échantillons train et test\n",
        "\n",
        "y_pred_train = lin_reg.predict(X_train)\n",
        "y_pred_test = lin_reg.predict(X_test)"
      ]
    },
    {
      "cell_type": "code",
      "execution_count": null,
      "metadata": {
        "colab": {
          "base_uri": "https://localhost:8080/"
        },
        "id": "sL6Bk-Q_z98q",
        "outputId": "1e6027bd-1366-4393-a646-9e093861e64d"
      },
      "outputs": [
        {
          "output_type": "stream",
          "name": "stdout",
          "text": [
            "Score train : 0.824615563925241\n",
            "Score test : 0.828098854618151\n"
          ]
        }
      ],
      "source": [
        "# on affiche les résultats du r2_score\n",
        "\n",
        "print(\"Score train :\", r2_score(y_train, y_pred_train))\n",
        "print(\"Score test :\", r2_score(y_test, y_pred_test))"
      ]
    },
    {
      "cell_type": "markdown",
      "metadata": {
        "id": "UN9dVcf9oz8J"
      },
      "source": [
        "**Réponse:**"
      ]
    },
    {
      "cell_type": "markdown",
      "metadata": {
        "id": "Nmg2sZTscD5r"
      },
      "source": [
        "Les scores de train et de test sont tous les deux aux alentours de 0.82 (différence de 0.004) ce qui signifie que le modèle explique bien 84% de la variance (l'écart avec la moyenne)\n",
        "\n",
        "On constate d'ailleurs un score légérement meilleur pour l'ensemble de test ce qui indique une bonne fiabilité du modèle"
      ]
    },
    {
      "cell_type": "markdown",
      "metadata": {
        "id": "Mc8SG2dto5fp"
      },
      "source": [
        "> Expliquer et vulgariser le fonctionnement interne de l'algorithme, pour qu'il puisse faire ses prédictions.\n",
        "Expliquer aussi quelles sont la, ou le(s) variable(s) utilisé par l'algorithme pour faire ses prédictions de prix."
      ]
    },
    {
      "cell_type": "markdown",
      "metadata": {
        "id": "wlhANy2Ro9fj"
      },
      "source": [
        "**Réponse :**"
      ]
    },
    {
      "cell_type": "markdown",
      "metadata": {
        "id": "26euG7NwANSS"
      },
      "source": [
        "La régression linéaire essaye de tracer une droite de la forme y = ax + b qui passe par tous les points, où y est la variable cible.\n",
        "\n",
        "L'objectif de la régression linéaire est de déterminer si la variable cible est dépendante des autres variables (si l'une augmente, l'autre aussi et inversement)"
      ]
    },
    {
      "cell_type": "markdown",
      "metadata": {
        "id": "preOh1icpLQu"
      },
      "source": [
        "### Machine Learning - Classification\n",
        "\n"
      ]
    },
    {
      "cell_type": "code",
      "execution_count": null,
      "metadata": {
        "colab": {
          "base_uri": "https://localhost:8080/",
          "height": 81
        },
        "id": "_tKvg65Vo5rC",
        "outputId": "4c73e7ff-9a39-46b1-d400-478cad028e67"
      },
      "outputs": [
        {
          "output_type": "execute_result",
          "data": {
            "text/plain": [
              "   valeur_fonciere  surface_reelle_bati  nombre_pieces_principales type_local\n",
              "0         282000.0                  101                          4     maison"
            ],
            "text/html": [
              "\n",
              "  <div id=\"df-d097c955-69e2-4c76-8da6-22bd95a6edec\" class=\"colab-df-container\">\n",
              "    <div>\n",
              "<style scoped>\n",
              "    .dataframe tbody tr th:only-of-type {\n",
              "        vertical-align: middle;\n",
              "    }\n",
              "\n",
              "    .dataframe tbody tr th {\n",
              "        vertical-align: top;\n",
              "    }\n",
              "\n",
              "    .dataframe thead th {\n",
              "        text-align: right;\n",
              "    }\n",
              "</style>\n",
              "<table border=\"1\" class=\"dataframe\">\n",
              "  <thead>\n",
              "    <tr style=\"text-align: right;\">\n",
              "      <th></th>\n",
              "      <th>valeur_fonciere</th>\n",
              "      <th>surface_reelle_bati</th>\n",
              "      <th>nombre_pieces_principales</th>\n",
              "      <th>type_local</th>\n",
              "    </tr>\n",
              "  </thead>\n",
              "  <tbody>\n",
              "    <tr>\n",
              "      <th>0</th>\n",
              "      <td>282000.0</td>\n",
              "      <td>101</td>\n",
              "      <td>4</td>\n",
              "      <td>maison</td>\n",
              "    </tr>\n",
              "  </tbody>\n",
              "</table>\n",
              "</div>\n",
              "    <div class=\"colab-df-buttons\">\n",
              "\n",
              "  <div class=\"colab-df-container\">\n",
              "    <button class=\"colab-df-convert\" onclick=\"convertToInteractive('df-d097c955-69e2-4c76-8da6-22bd95a6edec')\"\n",
              "            title=\"Convert this dataframe to an interactive table.\"\n",
              "            style=\"display:none;\">\n",
              "\n",
              "  <svg xmlns=\"http://www.w3.org/2000/svg\" height=\"24px\" viewBox=\"0 -960 960 960\">\n",
              "    <path d=\"M120-120v-720h720v720H120Zm60-500h600v-160H180v160Zm220 220h160v-160H400v160Zm0 220h160v-160H400v160ZM180-400h160v-160H180v160Zm440 0h160v-160H620v160ZM180-180h160v-160H180v160Zm440 0h160v-160H620v160Z\"/>\n",
              "  </svg>\n",
              "    </button>\n",
              "\n",
              "  <style>\n",
              "    .colab-df-container {\n",
              "      display:flex;\n",
              "      gap: 12px;\n",
              "    }\n",
              "\n",
              "    .colab-df-convert {\n",
              "      background-color: #E8F0FE;\n",
              "      border: none;\n",
              "      border-radius: 50%;\n",
              "      cursor: pointer;\n",
              "      display: none;\n",
              "      fill: #1967D2;\n",
              "      height: 32px;\n",
              "      padding: 0 0 0 0;\n",
              "      width: 32px;\n",
              "    }\n",
              "\n",
              "    .colab-df-convert:hover {\n",
              "      background-color: #E2EBFA;\n",
              "      box-shadow: 0px 1px 2px rgba(60, 64, 67, 0.3), 0px 1px 3px 1px rgba(60, 64, 67, 0.15);\n",
              "      fill: #174EA6;\n",
              "    }\n",
              "\n",
              "    .colab-df-buttons div {\n",
              "      margin-bottom: 4px;\n",
              "    }\n",
              "\n",
              "    [theme=dark] .colab-df-convert {\n",
              "      background-color: #3B4455;\n",
              "      fill: #D2E3FC;\n",
              "    }\n",
              "\n",
              "    [theme=dark] .colab-df-convert:hover {\n",
              "      background-color: #434B5C;\n",
              "      box-shadow: 0px 1px 3px 1px rgba(0, 0, 0, 0.15);\n",
              "      filter: drop-shadow(0px 1px 2px rgba(0, 0, 0, 0.3));\n",
              "      fill: #FFFFFF;\n",
              "    }\n",
              "  </style>\n",
              "\n",
              "    <script>\n",
              "      const buttonEl =\n",
              "        document.querySelector('#df-d097c955-69e2-4c76-8da6-22bd95a6edec button.colab-df-convert');\n",
              "      buttonEl.style.display =\n",
              "        google.colab.kernel.accessAllowed ? 'block' : 'none';\n",
              "\n",
              "      async function convertToInteractive(key) {\n",
              "        const element = document.querySelector('#df-d097c955-69e2-4c76-8da6-22bd95a6edec');\n",
              "        const dataTable =\n",
              "          await google.colab.kernel.invokeFunction('convertToInteractive',\n",
              "                                                    [key], {});\n",
              "        if (!dataTable) return;\n",
              "\n",
              "        const docLinkHtml = 'Like what you see? Visit the ' +\n",
              "          '<a target=\"_blank\" href=https://colab.research.google.com/notebooks/data_table.ipynb>data table notebook</a>'\n",
              "          + ' to learn more about interactive tables.';\n",
              "        element.innerHTML = '';\n",
              "        dataTable['output_type'] = 'display_data';\n",
              "        await google.colab.output.renderOutput(dataTable, element);\n",
              "        const docLink = document.createElement('div');\n",
              "        docLink.innerHTML = docLinkHtml;\n",
              "        element.appendChild(docLink);\n",
              "      }\n",
              "    </script>\n",
              "  </div>\n",
              "\n",
              "\n",
              "    </div>\n",
              "  </div>\n"
            ],
            "application/vnd.google.colaboratory.intrinsic+json": {
              "type": "dataframe",
              "variable_name": "df_ml_idf"
            }
          },
          "metadata": {},
          "execution_count": 25
        }
      ],
      "source": [
        "df_ml_idf = pd.read_csv(\"https://raw.githubusercontent.com/WildCodeSchool/wilddata/main/transactions_idf_no_paris.csv\")\n",
        "df_ml_idf.head(1)"
      ]
    },
    {
      "cell_type": "code",
      "execution_count": null,
      "metadata": {
        "colab": {
          "base_uri": "https://localhost:8080/"
        },
        "id": "CXliJs0g0htf",
        "outputId": "be843d9d-3a8f-4650-fdac-ea033a26bad8"
      },
      "outputs": [
        {
          "output_type": "execute_result",
          "data": {
            "text/plain": [
              "(112583, 4)"
            ]
          },
          "metadata": {},
          "execution_count": 26
        }
      ],
      "source": [
        "df_ml_idf.shape"
      ]
    },
    {
      "cell_type": "code",
      "execution_count": null,
      "metadata": {
        "colab": {
          "base_uri": "https://localhost:8080/",
          "height": 178
        },
        "id": "k_odnUNnHaH_",
        "outputId": "45155aee-f8ae-42ac-f4a0-5ca7de326c03"
      },
      "outputs": [
        {
          "output_type": "execute_result",
          "data": {
            "text/plain": [
              "type_local\n",
              "maison         0.545207\n",
              "appartement    0.454793\n",
              "Name: proportion, dtype: float64"
            ],
            "text/html": [
              "<div>\n",
              "<style scoped>\n",
              "    .dataframe tbody tr th:only-of-type {\n",
              "        vertical-align: middle;\n",
              "    }\n",
              "\n",
              "    .dataframe tbody tr th {\n",
              "        vertical-align: top;\n",
              "    }\n",
              "\n",
              "    .dataframe thead th {\n",
              "        text-align: right;\n",
              "    }\n",
              "</style>\n",
              "<table border=\"1\" class=\"dataframe\">\n",
              "  <thead>\n",
              "    <tr style=\"text-align: right;\">\n",
              "      <th></th>\n",
              "      <th>proportion</th>\n",
              "    </tr>\n",
              "    <tr>\n",
              "      <th>type_local</th>\n",
              "      <th></th>\n",
              "    </tr>\n",
              "  </thead>\n",
              "  <tbody>\n",
              "    <tr>\n",
              "      <th>maison</th>\n",
              "      <td>0.545207</td>\n",
              "    </tr>\n",
              "    <tr>\n",
              "      <th>appartement</th>\n",
              "      <td>0.454793</td>\n",
              "    </tr>\n",
              "  </tbody>\n",
              "</table>\n",
              "</div><br><label><b>dtype:</b> float64</label>"
            ]
          },
          "metadata": {},
          "execution_count": 27
        }
      ],
      "source": [
        "# dans l'optique du modèle de classification on vérifie l'équilibre des classes\n",
        "\n",
        "df_ml_idf[\"type_local\"].value_counts(normalize = True)"
      ]
    },
    {
      "cell_type": "code",
      "execution_count": null,
      "metadata": {
        "id": "zAs69NAeKk0n"
      },
      "outputs": [],
      "source": [
        "# avec un rapport d'environ 55/45 on peut dire que les classes sont relativement équilibrées"
      ]
    },
    {
      "cell_type": "code",
      "execution_count": null,
      "metadata": {
        "colab": {
          "base_uri": "https://localhost:8080/",
          "height": 519
        },
        "id": "-TriEDixGZq9",
        "outputId": "a521d58e-7eec-4c78-e878-1e0f3a107038"
      },
      "outputs": [
        {
          "output_type": "execute_result",
          "data": {
            "text/plain": [
              "       valeur_fonciere  surface_reelle_bati  nombre_pieces_principales\n",
              "count     1.125830e+05        112583.000000              112583.000000\n",
              "mean      3.158853e+05            74.176385                   3.488742\n",
              "std       2.265718e+05            38.647765                   1.563935\n",
              "min       1.500000e+04             4.000000                   0.000000\n",
              "0%        1.500000e+04             4.000000                   0.000000\n",
              "10%       1.280000e+05            30.000000                   1.000000\n",
              "20%       1.650000e+05            40.000000                   2.000000\n",
              "30%       2.040000e+05            51.000000                   3.000000\n",
              "40%       2.370000e+05            60.000000                   3.000000\n",
              "50%       2.676300e+05            69.000000                   3.000000\n",
              "60%       3.000000e+05            79.000000                   4.000000\n",
              "70%       3.440000e+05            90.000000                   4.000000\n",
              "80%       4.050000e+05           102.000000                   5.000000\n",
              "90%       5.400000e+05           124.000000                   5.000000\n",
              "max       7.885000e+06           640.000000                  50.000000"
            ],
            "text/html": [
              "\n",
              "  <div id=\"df-0e3ce374-65b5-4f7f-82be-c7e5a28c6db8\" class=\"colab-df-container\">\n",
              "    <div>\n",
              "<style scoped>\n",
              "    .dataframe tbody tr th:only-of-type {\n",
              "        vertical-align: middle;\n",
              "    }\n",
              "\n",
              "    .dataframe tbody tr th {\n",
              "        vertical-align: top;\n",
              "    }\n",
              "\n",
              "    .dataframe thead th {\n",
              "        text-align: right;\n",
              "    }\n",
              "</style>\n",
              "<table border=\"1\" class=\"dataframe\">\n",
              "  <thead>\n",
              "    <tr style=\"text-align: right;\">\n",
              "      <th></th>\n",
              "      <th>valeur_fonciere</th>\n",
              "      <th>surface_reelle_bati</th>\n",
              "      <th>nombre_pieces_principales</th>\n",
              "    </tr>\n",
              "  </thead>\n",
              "  <tbody>\n",
              "    <tr>\n",
              "      <th>count</th>\n",
              "      <td>1.125830e+05</td>\n",
              "      <td>112583.000000</td>\n",
              "      <td>112583.000000</td>\n",
              "    </tr>\n",
              "    <tr>\n",
              "      <th>mean</th>\n",
              "      <td>3.158853e+05</td>\n",
              "      <td>74.176385</td>\n",
              "      <td>3.488742</td>\n",
              "    </tr>\n",
              "    <tr>\n",
              "      <th>std</th>\n",
              "      <td>2.265718e+05</td>\n",
              "      <td>38.647765</td>\n",
              "      <td>1.563935</td>\n",
              "    </tr>\n",
              "    <tr>\n",
              "      <th>min</th>\n",
              "      <td>1.500000e+04</td>\n",
              "      <td>4.000000</td>\n",
              "      <td>0.000000</td>\n",
              "    </tr>\n",
              "    <tr>\n",
              "      <th>0%</th>\n",
              "      <td>1.500000e+04</td>\n",
              "      <td>4.000000</td>\n",
              "      <td>0.000000</td>\n",
              "    </tr>\n",
              "    <tr>\n",
              "      <th>10%</th>\n",
              "      <td>1.280000e+05</td>\n",
              "      <td>30.000000</td>\n",
              "      <td>1.000000</td>\n",
              "    </tr>\n",
              "    <tr>\n",
              "      <th>20%</th>\n",
              "      <td>1.650000e+05</td>\n",
              "      <td>40.000000</td>\n",
              "      <td>2.000000</td>\n",
              "    </tr>\n",
              "    <tr>\n",
              "      <th>30%</th>\n",
              "      <td>2.040000e+05</td>\n",
              "      <td>51.000000</td>\n",
              "      <td>3.000000</td>\n",
              "    </tr>\n",
              "    <tr>\n",
              "      <th>40%</th>\n",
              "      <td>2.370000e+05</td>\n",
              "      <td>60.000000</td>\n",
              "      <td>3.000000</td>\n",
              "    </tr>\n",
              "    <tr>\n",
              "      <th>50%</th>\n",
              "      <td>2.676300e+05</td>\n",
              "      <td>69.000000</td>\n",
              "      <td>3.000000</td>\n",
              "    </tr>\n",
              "    <tr>\n",
              "      <th>60%</th>\n",
              "      <td>3.000000e+05</td>\n",
              "      <td>79.000000</td>\n",
              "      <td>4.000000</td>\n",
              "    </tr>\n",
              "    <tr>\n",
              "      <th>70%</th>\n",
              "      <td>3.440000e+05</td>\n",
              "      <td>90.000000</td>\n",
              "      <td>4.000000</td>\n",
              "    </tr>\n",
              "    <tr>\n",
              "      <th>80%</th>\n",
              "      <td>4.050000e+05</td>\n",
              "      <td>102.000000</td>\n",
              "      <td>5.000000</td>\n",
              "    </tr>\n",
              "    <tr>\n",
              "      <th>90%</th>\n",
              "      <td>5.400000e+05</td>\n",
              "      <td>124.000000</td>\n",
              "      <td>5.000000</td>\n",
              "    </tr>\n",
              "    <tr>\n",
              "      <th>max</th>\n",
              "      <td>7.885000e+06</td>\n",
              "      <td>640.000000</td>\n",
              "      <td>50.000000</td>\n",
              "    </tr>\n",
              "  </tbody>\n",
              "</table>\n",
              "</div>\n",
              "    <div class=\"colab-df-buttons\">\n",
              "\n",
              "  <div class=\"colab-df-container\">\n",
              "    <button class=\"colab-df-convert\" onclick=\"convertToInteractive('df-0e3ce374-65b5-4f7f-82be-c7e5a28c6db8')\"\n",
              "            title=\"Convert this dataframe to an interactive table.\"\n",
              "            style=\"display:none;\">\n",
              "\n",
              "  <svg xmlns=\"http://www.w3.org/2000/svg\" height=\"24px\" viewBox=\"0 -960 960 960\">\n",
              "    <path d=\"M120-120v-720h720v720H120Zm60-500h600v-160H180v160Zm220 220h160v-160H400v160Zm0 220h160v-160H400v160ZM180-400h160v-160H180v160Zm440 0h160v-160H620v160ZM180-180h160v-160H180v160Zm440 0h160v-160H620v160Z\"/>\n",
              "  </svg>\n",
              "    </button>\n",
              "\n",
              "  <style>\n",
              "    .colab-df-container {\n",
              "      display:flex;\n",
              "      gap: 12px;\n",
              "    }\n",
              "\n",
              "    .colab-df-convert {\n",
              "      background-color: #E8F0FE;\n",
              "      border: none;\n",
              "      border-radius: 50%;\n",
              "      cursor: pointer;\n",
              "      display: none;\n",
              "      fill: #1967D2;\n",
              "      height: 32px;\n",
              "      padding: 0 0 0 0;\n",
              "      width: 32px;\n",
              "    }\n",
              "\n",
              "    .colab-df-convert:hover {\n",
              "      background-color: #E2EBFA;\n",
              "      box-shadow: 0px 1px 2px rgba(60, 64, 67, 0.3), 0px 1px 3px 1px rgba(60, 64, 67, 0.15);\n",
              "      fill: #174EA6;\n",
              "    }\n",
              "\n",
              "    .colab-df-buttons div {\n",
              "      margin-bottom: 4px;\n",
              "    }\n",
              "\n",
              "    [theme=dark] .colab-df-convert {\n",
              "      background-color: #3B4455;\n",
              "      fill: #D2E3FC;\n",
              "    }\n",
              "\n",
              "    [theme=dark] .colab-df-convert:hover {\n",
              "      background-color: #434B5C;\n",
              "      box-shadow: 0px 1px 3px 1px rgba(0, 0, 0, 0.15);\n",
              "      filter: drop-shadow(0px 1px 2px rgba(0, 0, 0, 0.3));\n",
              "      fill: #FFFFFF;\n",
              "    }\n",
              "  </style>\n",
              "\n",
              "    <script>\n",
              "      const buttonEl =\n",
              "        document.querySelector('#df-0e3ce374-65b5-4f7f-82be-c7e5a28c6db8 button.colab-df-convert');\n",
              "      buttonEl.style.display =\n",
              "        google.colab.kernel.accessAllowed ? 'block' : 'none';\n",
              "\n",
              "      async function convertToInteractive(key) {\n",
              "        const element = document.querySelector('#df-0e3ce374-65b5-4f7f-82be-c7e5a28c6db8');\n",
              "        const dataTable =\n",
              "          await google.colab.kernel.invokeFunction('convertToInteractive',\n",
              "                                                    [key], {});\n",
              "        if (!dataTable) return;\n",
              "\n",
              "        const docLinkHtml = 'Like what you see? Visit the ' +\n",
              "          '<a target=\"_blank\" href=https://colab.research.google.com/notebooks/data_table.ipynb>data table notebook</a>'\n",
              "          + ' to learn more about interactive tables.';\n",
              "        element.innerHTML = '';\n",
              "        dataTable['output_type'] = 'display_data';\n",
              "        await google.colab.output.renderOutput(dataTable, element);\n",
              "        const docLink = document.createElement('div');\n",
              "        docLink.innerHTML = docLinkHtml;\n",
              "        element.appendChild(docLink);\n",
              "      }\n",
              "    </script>\n",
              "  </div>\n",
              "\n",
              "\n",
              "<div id=\"df-06b02edb-8bf7-490a-b8ce-c5950645975e\">\n",
              "  <button class=\"colab-df-quickchart\" onclick=\"quickchart('df-06b02edb-8bf7-490a-b8ce-c5950645975e')\"\n",
              "            title=\"Suggest charts\"\n",
              "            style=\"display:none;\">\n",
              "\n",
              "<svg xmlns=\"http://www.w3.org/2000/svg\" height=\"24px\"viewBox=\"0 0 24 24\"\n",
              "     width=\"24px\">\n",
              "    <g>\n",
              "        <path d=\"M19 3H5c-1.1 0-2 .9-2 2v14c0 1.1.9 2 2 2h14c1.1 0 2-.9 2-2V5c0-1.1-.9-2-2-2zM9 17H7v-7h2v7zm4 0h-2V7h2v10zm4 0h-2v-4h2v4z\"/>\n",
              "    </g>\n",
              "</svg>\n",
              "  </button>\n",
              "\n",
              "<style>\n",
              "  .colab-df-quickchart {\n",
              "      --bg-color: #E8F0FE;\n",
              "      --fill-color: #1967D2;\n",
              "      --hover-bg-color: #E2EBFA;\n",
              "      --hover-fill-color: #174EA6;\n",
              "      --disabled-fill-color: #AAA;\n",
              "      --disabled-bg-color: #DDD;\n",
              "  }\n",
              "\n",
              "  [theme=dark] .colab-df-quickchart {\n",
              "      --bg-color: #3B4455;\n",
              "      --fill-color: #D2E3FC;\n",
              "      --hover-bg-color: #434B5C;\n",
              "      --hover-fill-color: #FFFFFF;\n",
              "      --disabled-bg-color: #3B4455;\n",
              "      --disabled-fill-color: #666;\n",
              "  }\n",
              "\n",
              "  .colab-df-quickchart {\n",
              "    background-color: var(--bg-color);\n",
              "    border: none;\n",
              "    border-radius: 50%;\n",
              "    cursor: pointer;\n",
              "    display: none;\n",
              "    fill: var(--fill-color);\n",
              "    height: 32px;\n",
              "    padding: 0;\n",
              "    width: 32px;\n",
              "  }\n",
              "\n",
              "  .colab-df-quickchart:hover {\n",
              "    background-color: var(--hover-bg-color);\n",
              "    box-shadow: 0 1px 2px rgba(60, 64, 67, 0.3), 0 1px 3px 1px rgba(60, 64, 67, 0.15);\n",
              "    fill: var(--button-hover-fill-color);\n",
              "  }\n",
              "\n",
              "  .colab-df-quickchart-complete:disabled,\n",
              "  .colab-df-quickchart-complete:disabled:hover {\n",
              "    background-color: var(--disabled-bg-color);\n",
              "    fill: var(--disabled-fill-color);\n",
              "    box-shadow: none;\n",
              "  }\n",
              "\n",
              "  .colab-df-spinner {\n",
              "    border: 2px solid var(--fill-color);\n",
              "    border-color: transparent;\n",
              "    border-bottom-color: var(--fill-color);\n",
              "    animation:\n",
              "      spin 1s steps(1) infinite;\n",
              "  }\n",
              "\n",
              "  @keyframes spin {\n",
              "    0% {\n",
              "      border-color: transparent;\n",
              "      border-bottom-color: var(--fill-color);\n",
              "      border-left-color: var(--fill-color);\n",
              "    }\n",
              "    20% {\n",
              "      border-color: transparent;\n",
              "      border-left-color: var(--fill-color);\n",
              "      border-top-color: var(--fill-color);\n",
              "    }\n",
              "    30% {\n",
              "      border-color: transparent;\n",
              "      border-left-color: var(--fill-color);\n",
              "      border-top-color: var(--fill-color);\n",
              "      border-right-color: var(--fill-color);\n",
              "    }\n",
              "    40% {\n",
              "      border-color: transparent;\n",
              "      border-right-color: var(--fill-color);\n",
              "      border-top-color: var(--fill-color);\n",
              "    }\n",
              "    60% {\n",
              "      border-color: transparent;\n",
              "      border-right-color: var(--fill-color);\n",
              "    }\n",
              "    80% {\n",
              "      border-color: transparent;\n",
              "      border-right-color: var(--fill-color);\n",
              "      border-bottom-color: var(--fill-color);\n",
              "    }\n",
              "    90% {\n",
              "      border-color: transparent;\n",
              "      border-bottom-color: var(--fill-color);\n",
              "    }\n",
              "  }\n",
              "</style>\n",
              "\n",
              "  <script>\n",
              "    async function quickchart(key) {\n",
              "      const quickchartButtonEl =\n",
              "        document.querySelector('#' + key + ' button');\n",
              "      quickchartButtonEl.disabled = true;  // To prevent multiple clicks.\n",
              "      quickchartButtonEl.classList.add('colab-df-spinner');\n",
              "      try {\n",
              "        const charts = await google.colab.kernel.invokeFunction(\n",
              "            'suggestCharts', [key], {});\n",
              "      } catch (error) {\n",
              "        console.error('Error during call to suggestCharts:', error);\n",
              "      }\n",
              "      quickchartButtonEl.classList.remove('colab-df-spinner');\n",
              "      quickchartButtonEl.classList.add('colab-df-quickchart-complete');\n",
              "    }\n",
              "    (() => {\n",
              "      let quickchartButtonEl =\n",
              "        document.querySelector('#df-06b02edb-8bf7-490a-b8ce-c5950645975e button');\n",
              "      quickchartButtonEl.style.display =\n",
              "        google.colab.kernel.accessAllowed ? 'block' : 'none';\n",
              "    })();\n",
              "  </script>\n",
              "</div>\n",
              "\n",
              "    </div>\n",
              "  </div>\n"
            ],
            "application/vnd.google.colaboratory.intrinsic+json": {
              "type": "dataframe",
              "summary": "{\n  \"name\": \"df_ml_idf\",\n  \"rows\": 15,\n  \"fields\": [\n    {\n      \"column\": \"valeur_fonciere\",\n      \"properties\": {\n        \"dtype\": \"number\",\n        \"std\": 1980447.4946185963,\n        \"min\": 15000.0,\n        \"max\": 7885000.0,\n        \"num_unique_values\": 14,\n        \"samples\": [\n          300000.0,\n          405000.0,\n          112583.0\n        ],\n        \"semantic_type\": \"\",\n        \"description\": \"\"\n      }\n    },\n    {\n      \"column\": \"surface_reelle_bati\",\n      \"properties\": {\n        \"dtype\": \"number\",\n        \"std\": 29043.282926852364,\n        \"min\": 4.0,\n        \"max\": 112583.0,\n        \"num_unique_values\": 14,\n        \"samples\": [\n          79.0,\n          102.0,\n          112583.0\n        ],\n        \"semantic_type\": \"\",\n        \"description\": \"\"\n      }\n    },\n    {\n      \"column\": \"nombre_pieces_principales\",\n      \"properties\": {\n        \"dtype\": \"number\",\n        \"std\": 29067.23959163835,\n        \"min\": 0.0,\n        \"max\": 112583.0,\n        \"num_unique_values\": 10,\n        \"samples\": [\n          5.0,\n          3.4887416395015234,\n          2.0\n        ],\n        \"semantic_type\": \"\",\n        \"description\": \"\"\n      }\n    }\n  ]\n}"
            }
          },
          "metadata": {},
          "execution_count": 29
        }
      ],
      "source": [
        "# avec describe() on vérifie s'il y a des variations dans l'échelle des données et s'il existe des outliers qui risquent de biaiser la prédiction\n",
        "import numpy as np\n",
        "\n",
        "df_ml_idf.describe(percentiles = np.arange(0, 1, 0.1))"
      ]
    },
    {
      "cell_type": "markdown",
      "metadata": {
        "id": "kKZWlNhCpWkP"
      },
      "source": [
        "> Créer `X` et `y` en vue d'entraîner un modèle capable de prédire si un logement est une maison ou un appartement.\n",
        "`X` est composé des `valeur_fonciere`, `surface_reelle_bati` et`nombre_pieces_principales`.\n",
        "`y` est la variable `type_local`."
      ]
    },
    {
      "cell_type": "code",
      "execution_count": null,
      "metadata": {
        "id": "xN2hhunTKv45",
        "colab": {
          "base_uri": "https://localhost:8080/"
        },
        "outputId": "c14a8894-b220-44b2-8118-1fac3f3f2f9e"
      },
      "outputs": [
        {
          "output_type": "stream",
          "name": "stderr",
          "text": [
            "<ipython-input-30-de74734e548a>:5: FutureWarning: Downcasting behavior in `replace` is deprecated and will be removed in a future version. To retain the old behavior, explicitly call `result.infer_objects(copy=False)`. To opt-in to the future behavior, set `pd.set_option('future.no_silent_downcasting', True)`\n",
            "  df_ml_idf[\"type_local\"] = df_ml_idf[\"type_local\"].replace({\"appartement\": 0, \"maison\" : 1})\n"
          ]
        }
      ],
      "source": [
        "# la variable cible ne contient que deux valeurs\n",
        "# pour les besoins du modèle on encode notre variable cible\n",
        "# je choisis de le faire avec un replace pour garder une visibilité sur les classes\n",
        "\n",
        "df_ml_idf[\"type_local\"] = df_ml_idf[\"type_local\"].replace({\"appartement\": 0, \"maison\" : 1})"
      ]
    },
    {
      "cell_type": "code",
      "execution_count": null,
      "metadata": {
        "id": "7LvdMDa9imqS"
      },
      "outputs": [],
      "source": [
        "X = df_ml_idf[[\"valeur_fonciere\", \"surface_reelle_bati\", \"nombre_pieces_principales\"]]\n",
        "y = df_ml_idf[\"type_local\"]"
      ]
    },
    {
      "cell_type": "markdown",
      "metadata": {
        "id": "-JHYgKWppZEB"
      },
      "source": [
        "> Séparer les données en jeu d'entraînement et jeu de test, avec random_state = 0"
      ]
    },
    {
      "cell_type": "code",
      "execution_count": null,
      "metadata": {
        "id": "A8ZYC2XIioiB"
      },
      "outputs": [],
      "source": [
        "X_train, X_test, y_train, y_test = train_test_split(X, y, test_size = 0.2, random_state = 0)"
      ]
    },
    {
      "cell_type": "markdown",
      "metadata": {
        "id": "Bcok0wI6pcSA"
      },
      "source": [
        "> Importer le modèle `DecisionTreeClassifier` ou `KNeighborsClassifier` de la librairie sklearn."
      ]
    },
    {
      "cell_type": "code",
      "execution_count": null,
      "metadata": {
        "id": "k5M7r8aKip3M"
      },
      "outputs": [],
      "source": [
        "from sklearn.neighbors import KNeighborsClassifier\n",
        "from sklearn.metrics import accuracy_score\n",
        "from sklearn.preprocessing import MinMaxScaler\n",
        "\n",
        "model = KNeighborsClassifier()                      # je choisis d'initier le modèle KNeighborsClassifier avec ses hyperparamètres par défaut"
      ]
    },
    {
      "cell_type": "code",
      "execution_count": null,
      "metadata": {
        "id": "pvnRQdpy4ih6"
      },
      "outputs": [],
      "source": [
        "# nous avons de grandes variations dans les échelles de données\n",
        "# or les modèles de classification sont sensibles aux différences d'échelle notamment KNN qui calcule des distances\n",
        "# nous devons donc normaliser les données (les mettre à la même échelle)\n",
        "\n",
        "\n",
        "scaler = MinMaxScaler()\n",
        "\n",
        "X_train_s = scaler.fit_transform(X_train)\n",
        "X_test_s = scaler.transform(X_test)"
      ]
    },
    {
      "cell_type": "markdown",
      "metadata": {
        "id": "5TF0L2Bppe9m"
      },
      "source": [
        "> Entraîner le modèle sur le jeu d'entraînement, puis évaluer les performances du modèle sur le jeu de test. A l'écrit, interpréter le score obtenu, et donner le nom de la métrique utilisé pour évaluer le score du modèle."
      ]
    },
    {
      "cell_type": "code",
      "execution_count": null,
      "metadata": {
        "colab": {
          "base_uri": "https://localhost:8080/"
        },
        "id": "90fxtlfNirL8",
        "outputId": "e7775813-00c7-4c44-b6da-640bf843d106"
      },
      "outputs": [
        {
          "output_type": "stream",
          "name": "stdout",
          "text": [
            "score train : 0.8645326760375724\n",
            "score test : 0.820357951769774\n"
          ]
        }
      ],
      "source": [
        "modelKNN = model.fit(X_train_s, y_train)\n",
        "\n",
        "y_pred_train = modelKNN.predict(X_train_s)\n",
        "y_pred_test = modelKNN.predict(X_test_s)\n",
        "\n",
        "print(\"score train :\", accuracy_score(y_train, y_pred_train))\n",
        "print(\"score test :\", accuracy_score(y_test, y_pred_test))"
      ]
    },
    {
      "cell_type": "markdown",
      "metadata": {
        "id": "v6ICST02pgX1"
      },
      "source": [
        "**Réponse :**"
      ]
    },
    {
      "cell_type": "markdown",
      "metadata": {
        "id": "qxyN3oKHCstm"
      },
      "source": [
        "+ Le modèle obtient de bons scores pour le train et le test. Il y a un léger overfitting (différence de 0.04 entre le train et le test)\n",
        "+ Le score utilisé est l'accuracy_score qui va calculer la proportion de bonnes prédictions par rapport au nombre total de prédictions"
      ]
    },
    {
      "cell_type": "markdown",
      "metadata": {
        "id": "hjIrpZffpkUb"
      },
      "source": [
        "> On exploite ici des données pour le jeu d'entraînement, et des données pour le jeu de test. Quelles sont les limites de cette méthode ?"
      ]
    },
    {
      "cell_type": "markdown",
      "metadata": {
        "id": "HSzLd4RrIbcd"
      },
      "source": [
        "**Réponse :**"
      ]
    },
    {
      "cell_type": "markdown",
      "metadata": {
        "id": "gQxHBZycA6Q_"
      },
      "source": [
        "+ une des limites du train_test_split est la taille de l'échantillon de test. S'il est trop petit, il y a un risque de mal évaluer le modèle\n",
        "+ la répartition des jeux de données se fait de façon aléatoire, il y a donc toujours un risque de sur-représentation d'une classe\n",
        "+ et si les classes (ici \"appartement\" et \"maison\") sont trop déséquilibrées, le modèle risque de surapprendre sur la classe majoritaire (et donc de ne prédire que pour la classe majoritaire)"
      ]
    },
    {
      "cell_type": "markdown",
      "metadata": {
        "id": "W4PorG5Jpm_v"
      },
      "source": [
        "> Afficher la matrice de confusion (`confusion matrix`) et la commenter. Expliquer les métriques `precision` et `recall`."
      ]
    },
    {
      "cell_type": "markdown",
      "metadata": {
        "id": "32w5UqEWpoUj"
      },
      "source": [
        "**Réponse :**\n"
      ]
    },
    {
      "cell_type": "code",
      "execution_count": null,
      "metadata": {
        "id": "ne-r2o3F4Uuz"
      },
      "outputs": [],
      "source": [
        "from sklearn.metrics import confusion_matrix"
      ]
    },
    {
      "cell_type": "code",
      "execution_count": null,
      "metadata": {
        "colab": {
          "base_uri": "https://localhost:8080/"
        },
        "id": "OJmxtLmiisy7",
        "outputId": "9edac9ee-ce09-4653-a3be-4d655d71af5e"
      },
      "outputs": [
        {
          "output_type": "stream",
          "name": "stdout",
          "text": [
            "[0 1]\n"
          ]
        }
      ],
      "source": [
        "print(model.classes_)"
      ]
    },
    {
      "cell_type": "code",
      "execution_count": null,
      "metadata": {
        "id": "htI6XjRM4P7T"
      },
      "outputs": [],
      "source": [
        "# pour rappel, \"appartement\" : 0 et \"maison\" : 1\n",
        "\n",
        "conf = confusion_matrix(y_test, y_pred_test)\n",
        "df_conf = pd.DataFrame(conf, index = [\"reel 0\", \"reel 1\"], columns = [\"pred 0\", \"pred 1\"])"
      ]
    },
    {
      "cell_type": "code",
      "execution_count": null,
      "metadata": {
        "colab": {
          "base_uri": "https://localhost:8080/"
        },
        "id": "qeZ9l4Vs5gqt",
        "outputId": "0f3d619d-321c-4476-80d7-770b30a2e31a"
      },
      "outputs": [
        {
          "output_type": "stream",
          "name": "stdout",
          "text": [
            "        pred 0  pred 1\n",
            "reel 0    8201    2026\n",
            "reel 1    2019   10271\n"
          ]
        }
      ],
      "source": [
        "print(df_conf)"
      ]
    },
    {
      "cell_type": "markdown",
      "metadata": {
        "id": "iOS4e0LB6HCw"
      },
      "source": [
        "+ La matrice de confusion nous indique que le modèle prédit correctement la classe \"appartement\" pour 8201 cas, et prédit correctement la classe \"maison\" pour 10271 cas\n",
        "+ en revanche il prédit la classe \"appartement\" pour 2019 cas alors que la classe réelle est \"maison\" et inversement dans 2026 cas"
      ]
    },
    {
      "cell_type": "code",
      "execution_count": null,
      "metadata": {
        "colab": {
          "base_uri": "https://localhost:8080/"
        },
        "id": "HiZbIkqxIWYu",
        "outputId": "241dc288-e00e-4fea-be0f-97cd3f1f5ec1"
      },
      "outputs": [
        {
          "output_type": "stream",
          "name": "stdout",
          "text": [
            "recall_score : 0.835720097640358\n",
            "precision_score 0.8352443685451736\n"
          ]
        }
      ],
      "source": [
        "from sklearn.metrics import recall_score, precision_score\n",
        "\n",
        "recall = recall_score(y_test, y_pred_test)\n",
        "print(\"recall_score :\", recall)\n",
        "precision = precision_score(y_test, y_pred_test)\n",
        "print(\"precision_score\", precision)\n"
      ]
    },
    {
      "cell_type": "markdown",
      "metadata": {
        "id": "P15jtIbZMJwT"
      },
      "source": [
        "+ Le score Recall (TP / (TP + FN)) représente le ratio de bonnes prédictions par rapport à tous les cas réellement positifs\n",
        "+ Le score Precision (TP / (TP + FP)) représente le ration de bonnes prédictions par rapport à toutes les prédictions positives"
      ]
    },
    {
      "cell_type": "markdown",
      "metadata": {
        "id": "97_f-2jZNUvT"
      },
      "source": [
        "Ici notre modèle prédit correctement 83% des cas réellement positifs (score recall) et le score de précision nous indique que parmi toutes les prédictions positives, 83% sont effectivement positives\n",
        "\n",
        "Ces scores nous indiquent que le modèle fonctionne bien mais est perfectible"
      ]
    }
  ],
  "metadata": {
    "colab": {
      "collapsed_sections": [
        "Se4VeLN1Ew7k",
        "6gzAU0cKE-y0",
        "HDbXamWdNllh",
        "wQU1Zl7El8L9",
        "r1vS7VYVmk0Y",
        "zmwcD09AUm-9",
        "OlrQfVs-X5nF"
      ],
      "provenance": []
    },
    "kernelspec": {
      "display_name": "Python 3",
      "name": "python3"
    },
    "language_info": {
      "name": "python"
    }
  },
  "nbformat": 4,
  "nbformat_minor": 0
}